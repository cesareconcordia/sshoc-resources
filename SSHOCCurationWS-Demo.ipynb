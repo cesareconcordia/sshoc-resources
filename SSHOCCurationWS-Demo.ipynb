{
 "cells": [
  {
   "cell_type": "markdown",
   "metadata": {},
   "source": [
    "## MarketPlace Dataset curation\n",
    "\n",
    "This notebook shows an experimental approach to dataset curation by using tools and libraries used in data science.\n",
    "\n",
    "A number of python libraries, usually adopted in quantitative data analysis of large datasets, are used to explore the SSHOC MarketPlace dataset and try to discover inconsistencies and errors.\n",
    "\n",
    "\n",
    "*Cesare Concordia, ISTI - CNR*"
   ]
  },
  {
   "cell_type": "markdown",
   "metadata": {},
   "source": [
    "## Preamble"
   ]
  },
  {
   "cell_type": "code",
   "execution_count": 234,
   "metadata": {},
   "outputs": [],
   "source": [
    "import ast\n",
    "import sys\n",
    "import numpy as np\n",
    "import pandas as pd\n",
    "import matplotlib.pyplot as plt\n",
    "# importing useful Python utility libraries we'll need\n",
    "from collections import Counter, defaultdict\n",
    "import itertools\n",
    "\n",
    "from bokeh.io import output_notebook, show\n",
    "from bokeh.plotting import figure"
   ]
  },
  {
   "cell_type": "markdown",
   "metadata": {},
   "source": [
    "### Function to download descriptions from the MarketPlace dataset using the API"
   ]
  },
  {
   "cell_type": "code",
   "execution_count": 116,
   "metadata": {},
   "outputs": [],
   "source": [
    "def getMPDescriptions (url, pages):\n",
    "    mdx = pd.Series(range(1, pages+1))\n",
    "    df_desc = pd.DataFrame()\n",
    "    for var in mdx:\n",
    "        turl = url+str(var)+\"&perpage=20\"\n",
    "        #print(\"url: \"+ turl + \":\",var)\n",
    "        df_desc_par=pd.read_json(turl, orient='columns')\n",
    "        df_desc=df_desc.append(df_desc_par, ignore_index=True)\n",
    "        \n",
    "    return (df_desc)"
   ]
  },
  {
   "cell_type": "markdown",
   "metadata": {},
   "source": [
    "## Get the *property* values using API\n",
    "\n",
    "The SSHOC Market Place API entry: \n",
    "\n",
    "https://sshoc-marketplace-api.acdh-dev.oeaw.ac.at/api/property-types\n",
    "\n",
    "has been used to extract the list of properties used in the SSHOC Market Place. "
   ]
  },
  {
   "cell_type": "markdown",
   "metadata": {},
   "source": [
    "There are 28  property types in MP dataset. The following table shows code, labels and type"
   ]
  },
  {
   "cell_type": "code",
   "execution_count": 74,
   "metadata": {},
   "outputs": [],
   "source": [
    "x = ('1','2')\n",
    "df_dynammic_properties = pd.DataFrame()\n",
    "for var in x:\n",
    "    url = \"https://sshoc-marketplace-api.acdh-dev.oeaw.ac.at/api/property-types?page=\"+str(var)+\"&perpage=20\"\n",
    "    df_tool_par=pd.read_json(url, orient='columns')\n",
    "    df_dynammic_properties=df_dynammic_properties.append(df_tool_par, ignore_index=True)"
   ]
  },
  {
   "cell_type": "code",
   "execution_count": 80,
   "metadata": {},
   "outputs": [
    {
     "data": {
      "text/html": [
       "<div>\n",
       "<style scoped>\n",
       "    .dataframe tbody tr th:only-of-type {\n",
       "        vertical-align: middle;\n",
       "    }\n",
       "\n",
       "    .dataframe tbody tr th {\n",
       "        vertical-align: top;\n",
       "    }\n",
       "\n",
       "    .dataframe thead th {\n",
       "        text-align: right;\n",
       "    }\n",
       "</style>\n",
       "<table border=\"1\" class=\"dataframe\">\n",
       "  <thead>\n",
       "    <tr style=\"text-align: right;\">\n",
       "      <th></th>\n",
       "      <th>code</th>\n",
       "      <th>label</th>\n",
       "      <th>type</th>\n",
       "    </tr>\n",
       "  </thead>\n",
       "  <tbody>\n",
       "    <tr>\n",
       "      <th>37</th>\n",
       "      <td>accesspolicy-url</td>\n",
       "      <td>Access Policy URL</td>\n",
       "      <td>string</td>\n",
       "    </tr>\n",
       "    <tr>\n",
       "      <th>1</th>\n",
       "      <td>activity</td>\n",
       "      <td>Activity</td>\n",
       "      <td>concept</td>\n",
       "    </tr>\n",
       "    <tr>\n",
       "      <th>29</th>\n",
       "      <td>authentication</td>\n",
       "      <td>Authentication</td>\n",
       "      <td>string</td>\n",
       "    </tr>\n",
       "    <tr>\n",
       "      <th>18</th>\n",
       "      <td>conference</td>\n",
       "      <td>Conference</td>\n",
       "      <td>string</td>\n",
       "    </tr>\n",
       "    <tr>\n",
       "      <th>14</th>\n",
       "      <td>cover-image</td>\n",
       "      <td>Cover Image</td>\n",
       "      <td>url</td>\n",
       "    </tr>\n",
       "    <tr>\n",
       "      <th>25</th>\n",
       "      <td>doi</td>\n",
       "      <td>DOI</td>\n",
       "      <td>string</td>\n",
       "    </tr>\n",
       "    <tr>\n",
       "      <th>30</th>\n",
       "      <td>geographical-availabilities</td>\n",
       "      <td>Geographical Availabilities</td>\n",
       "      <td>string</td>\n",
       "    </tr>\n",
       "    <tr>\n",
       "      <th>36</th>\n",
       "      <td>helpdesk-url</td>\n",
       "      <td>Helpdesk URL</td>\n",
       "      <td>string</td>\n",
       "    </tr>\n",
       "    <tr>\n",
       "      <th>20</th>\n",
       "      <td>issue</td>\n",
       "      <td>Issue</td>\n",
       "      <td>string</td>\n",
       "    </tr>\n",
       "    <tr>\n",
       "      <th>17</th>\n",
       "      <td>journal</td>\n",
       "      <td>Journal</td>\n",
       "      <td>string</td>\n",
       "    </tr>\n",
       "    <tr>\n",
       "      <th>5</th>\n",
       "      <td>keyword</td>\n",
       "      <td>Keyword</td>\n",
       "      <td>string</td>\n",
       "    </tr>\n",
       "    <tr>\n",
       "      <th>0</th>\n",
       "      <td>language</td>\n",
       "      <td>Language</td>\n",
       "      <td>concept</td>\n",
       "    </tr>\n",
       "    <tr>\n",
       "      <th>9</th>\n",
       "      <td>license-type</td>\n",
       "      <td>License Type</td>\n",
       "      <td>string</td>\n",
       "    </tr>\n",
       "    <tr>\n",
       "      <th>31</th>\n",
       "      <td>life-cycle-status</td>\n",
       "      <td>Life Cycle Status</td>\n",
       "      <td>string</td>\n",
       "    </tr>\n",
       "    <tr>\n",
       "      <th>3</th>\n",
       "      <td>material</td>\n",
       "      <td>Material</td>\n",
       "      <td>string</td>\n",
       "    </tr>\n",
       "    <tr>\n",
       "      <th>15</th>\n",
       "      <td>media</td>\n",
       "      <td>Media</td>\n",
       "      <td>url</td>\n",
       "    </tr>\n",
       "    <tr>\n",
       "      <th>13</th>\n",
       "      <td>methodica-link</td>\n",
       "      <td>Methodi CA Link</td>\n",
       "      <td>url</td>\n",
       "    </tr>\n",
       "    <tr>\n",
       "      <th>4</th>\n",
       "      <td>object-format</td>\n",
       "      <td>Object format</td>\n",
       "      <td>concept</td>\n",
       "    </tr>\n",
       "    <tr>\n",
       "      <th>21</th>\n",
       "      <td>pages</td>\n",
       "      <td>Pages</td>\n",
       "      <td>string</td>\n",
       "    </tr>\n",
       "    <tr>\n",
       "      <th>39</th>\n",
       "      <td>privacypolicy-url</td>\n",
       "      <td>Privacy policy URL</td>\n",
       "      <td>string</td>\n",
       "    </tr>\n",
       "    <tr>\n",
       "      <th>26</th>\n",
       "      <td>publication-place</td>\n",
       "      <td>Publication Place</td>\n",
       "      <td>string</td>\n",
       "    </tr>\n",
       "    <tr>\n",
       "      <th>24</th>\n",
       "      <td>publication-type</td>\n",
       "      <td>Publication type</td>\n",
       "      <td>concept</td>\n",
       "    </tr>\n",
       "    <tr>\n",
       "      <th>27</th>\n",
       "      <td>publisher</td>\n",
       "      <td>Publisher</td>\n",
       "      <td>string</td>\n",
       "    </tr>\n",
       "    <tr>\n",
       "      <th>8</th>\n",
       "      <td>repository-url</td>\n",
       "      <td>Repository Url</td>\n",
       "      <td>url</td>\n",
       "    </tr>\n",
       "    <tr>\n",
       "      <th>16</th>\n",
       "      <td>see-also</td>\n",
       "      <td>See also</td>\n",
       "      <td>url</td>\n",
       "    </tr>\n",
       "    <tr>\n",
       "      <th>38</th>\n",
       "      <td>service-level-url</td>\n",
       "      <td>Service Level URL</td>\n",
       "      <td>string</td>\n",
       "    </tr>\n",
       "    <tr>\n",
       "      <th>35</th>\n",
       "      <td>source-last-update</td>\n",
       "      <td>Source last update</td>\n",
       "      <td>string</td>\n",
       "    </tr>\n",
       "    <tr>\n",
       "      <th>6</th>\n",
       "      <td>tadirah-goals</td>\n",
       "      <td>Tadirah Goals</td>\n",
       "      <td>string</td>\n",
       "    </tr>\n",
       "    <tr>\n",
       "      <th>12</th>\n",
       "      <td>tadirah-methods</td>\n",
       "      <td>Tadirah Methods</td>\n",
       "      <td>string</td>\n",
       "    </tr>\n",
       "    <tr>\n",
       "      <th>33</th>\n",
       "      <td>technical-readiness-level</td>\n",
       "      <td>Technical Readiness Level</td>\n",
       "      <td>string</td>\n",
       "    </tr>\n",
       "  </tbody>\n",
       "</table>\n",
       "</div>"
      ],
      "text/plain": [
       "                           code                        label     type\n",
       "37             accesspolicy-url            Access Policy URL   string\n",
       "1                      activity                     Activity  concept\n",
       "29               authentication               Authentication   string\n",
       "18                   conference                   Conference   string\n",
       "14                  cover-image                  Cover Image      url\n",
       "25                          doi                          DOI   string\n",
       "30  geographical-availabilities  Geographical Availabilities   string\n",
       "36                 helpdesk-url                 Helpdesk URL   string\n",
       "20                        issue                        Issue   string\n",
       "17                      journal                      Journal   string\n",
       "5                       keyword                      Keyword   string\n",
       "0                      language                     Language  concept\n",
       "9                  license-type                 License Type   string\n",
       "31            life-cycle-status            Life Cycle Status   string\n",
       "3                      material                     Material   string\n",
       "15                        media                        Media      url\n",
       "13               methodica-link              Methodi CA Link      url\n",
       "4                 object-format                Object format  concept\n",
       "21                        pages                        Pages   string\n",
       "39            privacypolicy-url           Privacy policy URL   string\n",
       "26            publication-place            Publication Place   string\n",
       "24             publication-type             Publication type  concept\n",
       "27                    publisher                    Publisher   string\n",
       "8                repository-url               Repository Url      url\n",
       "16                     see-also                     See also      url\n",
       "38            service-level-url            Service Level URL   string\n",
       "35           source-last-update           Source last update   string\n",
       "6                 tadirah-goals                Tadirah Goals   string\n",
       "12              tadirah-methods              Tadirah Methods   string\n",
       "33    technical-readiness-level    Technical Readiness Level   string"
      ]
     },
     "execution_count": 80,
     "metadata": {},
     "output_type": "execute_result"
    }
   ],
   "source": [
    "#properties are returned as JSON object, this code converts json in a dataframe\n",
    "df_dypro_flat = pd.json_normalize(df_dynammic_properties['propertyTypes'])\n",
    "df_dypro_flat_sub=df_dypro_flat[['code', 'label', 'type']]\n",
    "df_dypro_flat_sub.sort_values('label').head(30)\n"
   ]
  },
  {
   "cell_type": "markdown",
   "metadata": {},
   "source": [
    "#### Property Types with vocabularies"
   ]
  },
  {
   "cell_type": "code",
   "execution_count": 88,
   "metadata": {},
   "outputs": [
    {
     "data": {
      "text/html": [
       "<div>\n",
       "<style scoped>\n",
       "    .dataframe tbody tr th:only-of-type {\n",
       "        vertical-align: middle;\n",
       "    }\n",
       "\n",
       "    .dataframe tbody tr th {\n",
       "        vertical-align: top;\n",
       "    }\n",
       "\n",
       "    .dataframe thead th {\n",
       "        text-align: right;\n",
       "    }\n",
       "</style>\n",
       "<table border=\"1\" class=\"dataframe\">\n",
       "  <thead>\n",
       "    <tr style=\"text-align: right;\">\n",
       "      <th></th>\n",
       "      <th>code</th>\n",
       "      <th>label</th>\n",
       "      <th>accessibleAt</th>\n",
       "      <th>Property_type_label</th>\n",
       "    </tr>\n",
       "  </thead>\n",
       "  <tbody>\n",
       "    <tr>\n",
       "      <th>6</th>\n",
       "      <td>iana-mime-type</td>\n",
       "      <td>IANA mime/type</td>\n",
       "      <td>None</td>\n",
       "      <td>Object format</td>\n",
       "    </tr>\n",
       "    <tr>\n",
       "      <th>0</th>\n",
       "      <td>iso-639-3</td>\n",
       "      <td>ISO 639-3</td>\n",
       "      <td>None</td>\n",
       "      <td>Language</td>\n",
       "    </tr>\n",
       "    <tr>\n",
       "      <th>1</th>\n",
       "      <td>iso-639-3-v2</td>\n",
       "      <td>ISO 639-3 Sprachcodes</td>\n",
       "      <td>None</td>\n",
       "      <td>Language</td>\n",
       "    </tr>\n",
       "    <tr>\n",
       "      <th>2</th>\n",
       "      <td>nemo-activity-type</td>\n",
       "      <td>NeMO Concept Scheme</td>\n",
       "      <td>None</td>\n",
       "      <td>Activity</td>\n",
       "    </tr>\n",
       "    <tr>\n",
       "      <th>7</th>\n",
       "      <td>publication-type</td>\n",
       "      <td>The Bibliographic Ontology Concept Scheme</td>\n",
       "      <td>None</td>\n",
       "      <td>Publication type</td>\n",
       "    </tr>\n",
       "    <tr>\n",
       "      <th>4</th>\n",
       "      <td>tadirah-activity</td>\n",
       "      <td>TaDiRAH - Taxonomy of Digital Research Activities in the Humanities</td>\n",
       "      <td>None</td>\n",
       "      <td>Activity</td>\n",
       "    </tr>\n",
       "    <tr>\n",
       "      <th>5</th>\n",
       "      <td>tadirah-research-technique</td>\n",
       "      <td>TaDiRAH Research Technique</td>\n",
       "      <td>None</td>\n",
       "      <td>Technique</td>\n",
       "    </tr>\n",
       "    <tr>\n",
       "      <th>3</th>\n",
       "      <td>tadirah2</td>\n",
       "      <td></td>\n",
       "      <td>None</td>\n",
       "      <td>Activity</td>\n",
       "    </tr>\n",
       "  </tbody>\n",
       "</table>\n",
       "</div>"
      ],
      "text/plain": [
       "                         code  \\\n",
       "6              iana-mime-type   \n",
       "0                   iso-639-3   \n",
       "1                iso-639-3-v2   \n",
       "2          nemo-activity-type   \n",
       "7            publication-type   \n",
       "4            tadirah-activity   \n",
       "5  tadirah-research-technique   \n",
       "3                    tadirah2   \n",
       "\n",
       "                                                                 label  \\\n",
       "6                                                       IANA mime/type   \n",
       "0                                                            ISO 639-3   \n",
       "1                                                ISO 639-3 Sprachcodes   \n",
       "2                                                  NeMO Concept Scheme   \n",
       "7                            The Bibliographic Ontology Concept Scheme   \n",
       "4  TaDiRAH - Taxonomy of Digital Research Activities in the Humanities   \n",
       "5                                           TaDiRAH Research Technique   \n",
       "3                                                                        \n",
       "\n",
       "  accessibleAt Property_type_label  \n",
       "6         None       Object format  \n",
       "0         None            Language  \n",
       "1         None            Language  \n",
       "2         None            Activity  \n",
       "7         None    Publication type  \n",
       "4         None            Activity  \n",
       "5         None           Technique  \n",
       "3         None            Activity  "
      ]
     },
     "execution_count": 88,
     "metadata": {},
     "output_type": "execute_result"
    }
   ],
   "source": [
    "df_prop_data = pd.json_normalize(data = df_dynammic_properties['propertyTypes'], record_path='allowedVocabularies', meta_prefix='Property_type_', meta=['label'])\n",
    "df_prop_data.sort_values('code').head(20)"
   ]
  },
  {
   "cell_type": "markdown",
   "metadata": {},
   "source": [
    "## Get the the dataset descriptions and check them"
   ]
  },
  {
   "cell_type": "markdown",
   "metadata": {},
   "source": [
    "## Tools and services"
   ]
  },
  {
   "cell_type": "code",
   "execution_count": 117,
   "metadata": {},
   "outputs": [
    {
     "data": {
      "text/plain": [
       "RangeIndex(start=0, stop=1606, step=1)"
      ]
     },
     "execution_count": 117,
     "metadata": {},
     "output_type": "execute_result"
    }
   ],
   "source": [
    "df_tool_all = pd.DataFrame()\n",
    "df_tool_all =getMPDescriptions (\"https://sshoc-marketplace-api.acdh-dev.oeaw.ac.at/api/tools-services?page=\", 81)\n",
    "df_tool_all.index"
   ]
  },
  {
   "cell_type": "markdown",
   "metadata": {},
   "source": [
    "Have a look at how data is structured"
   ]
  },
  {
   "cell_type": "code",
   "execution_count": 129,
   "metadata": {},
   "outputs": [
    {
     "name": "stdout",
     "output_type": "stream",
     "text": [
      "<class 'pandas.core.frame.DataFrame'>\n",
      "RangeIndex: 1606 entries, 0 to 1605\n",
      "Data columns (total 27 columns):\n",
      " #   Column                                   Non-Null Count  Dtype \n",
      "---  ------                                   --------------  ----- \n",
      " 0   id                                       1606 non-null   int64 \n",
      " 1   category                                 1606 non-null   object\n",
      " 2   label                                    1606 non-null   object\n",
      " 3   version                                  0 non-null      object\n",
      " 4   persistentId                             1606 non-null   object\n",
      " 5   description                              1606 non-null   object\n",
      " 6   licenses                                 1606 non-null   object\n",
      " 7   contributors                             1606 non-null   object\n",
      " 8   properties                               1606 non-null   object\n",
      " 9   accessibleAt                             1606 non-null   object\n",
      " 10  sourceItemId                             1606 non-null   object\n",
      " 11  relatedItems                             1606 non-null   object\n",
      " 12  lastInfoUpdate                           1606 non-null   object\n",
      " 13  status                                   1606 non-null   object\n",
      " 14  olderVersions                            1606 non-null   object\n",
      " 15  newerVersions                            1606 non-null   object\n",
      " 16  source.id                                1606 non-null   int64 \n",
      " 17  source.label                             1606 non-null   object\n",
      " 18  source.url                               1606 non-null   object\n",
      " 19  source.urlTemplate                       1606 non-null   object\n",
      " 20  informationContributor.id                1606 non-null   int64 \n",
      " 21  informationContributor.username          1606 non-null   object\n",
      " 22  informationContributor.displayName       1606 non-null   object\n",
      " 23  informationContributor.enabled           1606 non-null   bool  \n",
      " 24  informationContributor.registrationDate  1606 non-null   object\n",
      " 25  informationContributor.role              1606 non-null   object\n",
      " 26  informationContributor.email             1606 non-null   object\n",
      "dtypes: bool(1), int64(3), object(23)\n",
      "memory usage: 327.9+ KB\n"
     ]
    }
   ],
   "source": [
    "df_tool_flat = pd.json_normalize(df_tool_all['tools'])\n",
    "df_tool_flat.info()"
   ]
  },
  {
   "cell_type": "markdown",
   "metadata": {},
   "source": [
    "Create a subset and work with it"
   ]
  },
  {
   "cell_type": "code",
   "execution_count": 131,
   "metadata": {},
   "outputs": [
    {
     "data": {
      "text/html": [
       "<div>\n",
       "<style scoped>\n",
       "    .dataframe tbody tr th:only-of-type {\n",
       "        vertical-align: middle;\n",
       "    }\n",
       "\n",
       "    .dataframe tbody tr th {\n",
       "        vertical-align: top;\n",
       "    }\n",
       "\n",
       "    .dataframe thead th {\n",
       "        text-align: right;\n",
       "    }\n",
       "</style>\n",
       "<table border=\"1\" class=\"dataframe\">\n",
       "  <thead>\n",
       "    <tr style=\"text-align: right;\">\n",
       "      <th></th>\n",
       "      <th>id</th>\n",
       "      <th>category</th>\n",
       "      <th>label</th>\n",
       "      <th>licenses</th>\n",
       "      <th>contributors</th>\n",
       "      <th>accessibleAt</th>\n",
       "      <th>sourceItemId</th>\n",
       "    </tr>\n",
       "  </thead>\n",
       "  <tbody>\n",
       "    <tr>\n",
       "      <th>0</th>\n",
       "      <td>30509</td>\n",
       "      <td>tool-or-service</td>\n",
       "      <td>140kit</td>\n",
       "      <td>[]</td>\n",
       "      <td>[{'actor': {'id': 483, 'name': 'Ian Pearce, Devin Gaffney', 'externalIds': [], 'website': None, 'email': None, 'affiliations': []}, 'role': {'code': 'contributor', 'label': 'Contributor'}}]</td>\n",
       "      <td>[https://github.com/WebEcologyProject/140kit]</td>\n",
       "      <td>937</td>\n",
       "    </tr>\n",
       "    <tr>\n",
       "      <th>1</th>\n",
       "      <td>28542</td>\n",
       "      <td>tool-or-service</td>\n",
       "      <td>3DF Zephyr - photogrammetry software - 3d models from photos</td>\n",
       "      <td>[]</td>\n",
       "      <td>[]</td>\n",
       "      <td>[https://www.3dflow.net/3df-zephyr-pro-3d-models-from-photos/]</td>\n",
       "      <td>WQFP6XPS</td>\n",
       "    </tr>\n",
       "    <tr>\n",
       "      <th>2</th>\n",
       "      <td>11508</td>\n",
       "      <td>tool-or-service</td>\n",
       "      <td>3DHOP</td>\n",
       "      <td>[]</td>\n",
       "      <td>[]</td>\n",
       "      <td>[http://vcg.isti.cnr.it/3dhop/]</td>\n",
       "      <td>SG86ZG5J</td>\n",
       "    </tr>\n",
       "    <tr>\n",
       "      <th>3</th>\n",
       "      <td>11419</td>\n",
       "      <td>tool-or-service</td>\n",
       "      <td>3DHOP: 3D Heritage Online Presenter</td>\n",
       "      <td>[]</td>\n",
       "      <td>[]</td>\n",
       "      <td>[https://github.com/cnr-isti-vclab/3DHOP]</td>\n",
       "      <td>R379NADX</td>\n",
       "    </tr>\n",
       "    <tr>\n",
       "      <th>4</th>\n",
       "      <td>11507</td>\n",
       "      <td>tool-or-service</td>\n",
       "      <td>3DReshaper \\| 3DReshaper</td>\n",
       "      <td>[]</td>\n",
       "      <td>[]</td>\n",
       "      <td>[https://www.3dreshaper.com/en/]</td>\n",
       "      <td>PMES8DJW</td>\n",
       "    </tr>\n",
       "  </tbody>\n",
       "</table>\n",
       "</div>"
      ],
      "text/plain": [
       "      id         category  \\\n",
       "0  30509  tool-or-service   \n",
       "1  28542  tool-or-service   \n",
       "2  11508  tool-or-service   \n",
       "3  11419  tool-or-service   \n",
       "4  11507  tool-or-service   \n",
       "\n",
       "                                                          label licenses  \\\n",
       "0                                                        140kit       []   \n",
       "1  3DF Zephyr - photogrammetry software - 3d models from photos       []   \n",
       "2                                                         3DHOP       []   \n",
       "3                           3DHOP: 3D Heritage Online Presenter       []   \n",
       "4                                      3DReshaper \\| 3DReshaper       []   \n",
       "\n",
       "                                                                                                                                                                                    contributors  \\\n",
       "0  [{'actor': {'id': 483, 'name': 'Ian Pearce, Devin Gaffney', 'externalIds': [], 'website': None, 'email': None, 'affiliations': []}, 'role': {'code': 'contributor', 'label': 'Contributor'}}]   \n",
       "1                                                                                                                                                                                             []   \n",
       "2                                                                                                                                                                                             []   \n",
       "3                                                                                                                                                                                             []   \n",
       "4                                                                                                                                                                                             []   \n",
       "\n",
       "                                                     accessibleAt sourceItemId  \n",
       "0                   [https://github.com/WebEcologyProject/140kit]          937  \n",
       "1  [https://www.3dflow.net/3df-zephyr-pro-3d-models-from-photos/]     WQFP6XPS  \n",
       "2                                 [http://vcg.isti.cnr.it/3dhop/]     SG86ZG5J  \n",
       "3                       [https://github.com/cnr-isti-vclab/3DHOP]     R379NADX  \n",
       "4                                [https://www.3dreshaper.com/en/]     PMES8DJW  "
      ]
     },
     "execution_count": 131,
     "metadata": {},
     "output_type": "execute_result"
    }
   ],
   "source": [
    "df_tool_work=df_tool_flat[['id', 'category', 'label', 'licenses', 'contributors', 'accessibleAt', 'sourceItemId']]\n",
    "df_tool_work.head()"
   ]
  },
  {
   "cell_type": "markdown",
   "metadata": {},
   "source": [
    "Individuate duplicates based on values of property *label*"
   ]
  },
  {
   "cell_type": "code",
   "execution_count": 153,
   "metadata": {},
   "outputs": [
    {
     "data": {
      "text/html": [
       "<div>\n",
       "<style scoped>\n",
       "    .dataframe tbody tr th:only-of-type {\n",
       "        vertical-align: middle;\n",
       "    }\n",
       "\n",
       "    .dataframe tbody tr th {\n",
       "        vertical-align: top;\n",
       "    }\n",
       "\n",
       "    .dataframe thead th {\n",
       "        text-align: right;\n",
       "    }\n",
       "</style>\n",
       "<table border=\"1\" class=\"dataframe\">\n",
       "  <thead>\n",
       "    <tr style=\"text-align: right;\">\n",
       "      <th></th>\n",
       "      <th>id</th>\n",
       "      <th>category</th>\n",
       "      <th>label</th>\n",
       "      <th>licenses</th>\n",
       "      <th>contributors</th>\n",
       "      <th>accessibleAt</th>\n",
       "      <th>sourceItemId</th>\n",
       "    </tr>\n",
       "  </thead>\n",
       "  <tbody>\n",
       "    <tr>\n",
       "      <th>203</th>\n",
       "      <td>11448</td>\n",
       "      <td>tool-or-service</td>\n",
       "      <td>CloudCompare - Documentation</td>\n",
       "      <td>[]</td>\n",
       "      <td>[]</td>\n",
       "      <td>[http://www.cloudcompare.org/doc/]</td>\n",
       "      <td>9M24UQEJ</td>\n",
       "    </tr>\n",
       "    <tr>\n",
       "      <th>204</th>\n",
       "      <td>27972</td>\n",
       "      <td>tool-or-service</td>\n",
       "      <td>CloudCompare - Documentation</td>\n",
       "      <td>[]</td>\n",
       "      <td>[]</td>\n",
       "      <td>[http://www.danielgm.net/cc/documentation.html]</td>\n",
       "      <td>EEFMCRUG</td>\n",
       "    </tr>\n",
       "    <tr>\n",
       "      <th>286</th>\n",
       "      <td>29438</td>\n",
       "      <td>tool-or-service</td>\n",
       "      <td>Cytoscape</td>\n",
       "      <td>[]</td>\n",
       "      <td>[{'actor': {'id': 326, 'name': 'Cytoscape Consortium', 'externalIds': [], 'website': 'http://www.cytoscape.org/', 'email': None, 'affiliations': []}, 'role': {'code': 'contributor', 'label': 'Cont...</td>\n",
       "      <td>[http://cytoscape.org/]</td>\n",
       "      <td>122</td>\n",
       "    </tr>\n",
       "    <tr>\n",
       "      <th>287</th>\n",
       "      <td>30178</td>\n",
       "      <td>tool-or-service</td>\n",
       "      <td>Cytoscape</td>\n",
       "      <td>[]</td>\n",
       "      <td>[]</td>\n",
       "      <td>[http://www.cytoscape.org/]</td>\n",
       "      <td>552</td>\n",
       "    </tr>\n",
       "    <tr>\n",
       "      <th>294</th>\n",
       "      <td>30140</td>\n",
       "      <td>tool-or-service</td>\n",
       "      <td>Data Desk</td>\n",
       "      <td>[]</td>\n",
       "      <td>[{'actor': {'id': 501, 'name': 'Ambrosia Software Inc.', 'externalIds': [], 'website': None, 'email': None, 'affiliations': []}, 'role': {'code': 'contributor', 'label': 'Contributor'}}, {'actor':...</td>\n",
       "      <td>[https://datadescription.com/]</td>\n",
       "      <td>511</td>\n",
       "    </tr>\n",
       "  </tbody>\n",
       "</table>\n",
       "</div>"
      ],
      "text/plain": [
       "        id         category                         label licenses  \\\n",
       "203  11448  tool-or-service  CloudCompare - Documentation       []   \n",
       "204  27972  tool-or-service  CloudCompare - Documentation       []   \n",
       "286  29438  tool-or-service                     Cytoscape       []   \n",
       "287  30178  tool-or-service                     Cytoscape       []   \n",
       "294  30140  tool-or-service                     Data Desk       []   \n",
       "\n",
       "                                                                                                                                                                                                contributors  \\\n",
       "203                                                                                                                                                                                                       []   \n",
       "204                                                                                                                                                                                                       []   \n",
       "286  [{'actor': {'id': 326, 'name': 'Cytoscape Consortium', 'externalIds': [], 'website': 'http://www.cytoscape.org/', 'email': None, 'affiliations': []}, 'role': {'code': 'contributor', 'label': 'Cont...   \n",
       "287                                                                                                                                                                                                       []   \n",
       "294  [{'actor': {'id': 501, 'name': 'Ambrosia Software Inc.', 'externalIds': [], 'website': None, 'email': None, 'affiliations': []}, 'role': {'code': 'contributor', 'label': 'Contributor'}}, {'actor':...   \n",
       "\n",
       "                                        accessibleAt sourceItemId  \n",
       "203               [http://www.cloudcompare.org/doc/]     9M24UQEJ  \n",
       "204  [http://www.danielgm.net/cc/documentation.html]     EEFMCRUG  \n",
       "286                          [http://cytoscape.org/]          122  \n",
       "287                      [http://www.cytoscape.org/]          552  \n",
       "294                   [https://datadescription.com/]          511  "
      ]
     },
     "execution_count": 153,
     "metadata": {},
     "output_type": "execute_result"
    }
   ],
   "source": [
    "df_tool_work_duplicates=df_tool_work[df_tool_work.duplicated('label', keep=False)].sort_values('label')\n",
    "df_tool_work_duplicates.sort_values('label').head()"
   ]
  },
  {
   "cell_type": "code",
   "execution_count": 454,
   "metadata": {},
   "outputs": [
    {
     "name": "stdout",
     "output_type": "stream",
     "text": [
      "\n",
      "There are 51 duplicated tool/service descriptions\n",
      "\n"
     ]
    }
   ],
   "source": [
    "df_tool_work_duplicates.sort_values('label').to_csv(path_or_buf='/Users/cesare/Documents/sshoc/wp7/duplicatedtools.csv')\n",
    "df_tool_work_duplicates_av=df_tool_work[df_tool_work.duplicated('label', keep=\"last\")].sort_values('label')\n",
    "#av=df_tool_work_duplicates_av.count()[0]\n",
    "tv=df_tool_work_duplicates.count()[0]\n",
    "print (f'\\nThere are {tv} duplicated tool/service descriptions\\n')"
   ]
  },
  {
   "cell_type": "markdown",
   "metadata": {},
   "source": [
    "The list of duplicated Tools and Services is available as google sheet [here](https://docs.google.com/spreadsheets/d/1RumPVwXA4SSzheaKs6r0ymR41d8VsbMbG-19edAzd58/edit?usp=sharing)"
   ]
  },
  {
   "cell_type": "markdown",
   "metadata": {},
   "source": [
    "#### Check values in property *accessibleAt* "
   ]
  },
  {
   "cell_type": "code",
   "execution_count": 460,
   "metadata": {},
   "outputs": [
    {
     "data": {
      "text/html": [
       "<div>\n",
       "<style scoped>\n",
       "    .dataframe tbody tr th:only-of-type {\n",
       "        vertical-align: middle;\n",
       "    }\n",
       "\n",
       "    .dataframe tbody tr th {\n",
       "        vertical-align: top;\n",
       "    }\n",
       "\n",
       "    .dataframe thead th {\n",
       "        text-align: right;\n",
       "    }\n",
       "</style>\n",
       "<table border=\"1\" class=\"dataframe\">\n",
       "  <thead>\n",
       "    <tr style=\"text-align: right;\">\n",
       "      <th></th>\n",
       "      <th>id</th>\n",
       "      <th>label</th>\n",
       "      <th>accessibleAt</th>\n",
       "    </tr>\n",
       "  </thead>\n",
       "  <tbody>\n",
       "    <tr>\n",
       "      <th>1574</th>\n",
       "      <td>29097</td>\n",
       "      <td>XGLab - X and Gamma Ray Electronics</td>\n",
       "      <td>(https://www.xglab.it/,)</td>\n",
       "    </tr>\n",
       "    <tr>\n",
       "      <th>767</th>\n",
       "      <td>11359</td>\n",
       "      <td>Mesh Optimization Using MeshLab - 3dmotive</td>\n",
       "      <td>(https://www.youtube.com/watch?v=gWBm5XGRJOk,)</td>\n",
       "    </tr>\n",
       "    <tr>\n",
       "      <th>1596</th>\n",
       "      <td>29546</td>\n",
       "      <td>ZeeMaps</td>\n",
       "      <td>(https://www.zeemaps.com/,)</td>\n",
       "    </tr>\n",
       "    <tr>\n",
       "      <th>1598</th>\n",
       "      <td>29726</td>\n",
       "      <td>ZingChart</td>\n",
       "      <td>(https://www.zingchart.com/,)</td>\n",
       "    </tr>\n",
       "    <tr>\n",
       "      <th>1599</th>\n",
       "      <td>29638</td>\n",
       "      <td>Zoho</td>\n",
       "      <td>(https://www.zoho.com/crm/?network=g&amp;device=c&amp;keyword=zoho&amp;campaignid=189596252&amp;creative=253420543636&amp;matchtype=e&amp;adposition=1t1&amp;placement=&amp;adgroup=52525731756&amp;gclid=EAIaIQobChMI7fLQwtLp3gIVryCtBh...</td>\n",
       "    </tr>\n",
       "  </tbody>\n",
       "</table>\n",
       "</div>"
      ],
      "text/plain": [
       "         id                                       label  \\\n",
       "1574  29097         XGLab - X and Gamma Ray Electronics   \n",
       "767   11359  Mesh Optimization Using MeshLab - 3dmotive   \n",
       "1596  29546                                     ZeeMaps   \n",
       "1598  29726                                   ZingChart   \n",
       "1599  29638                                        Zoho   \n",
       "\n",
       "                                                                                                                                                                                                 accessibleAt  \n",
       "1574                                                                                                                                                                                 (https://www.xglab.it/,)  \n",
       "767                                                                                                                                                            (https://www.youtube.com/watch?v=gWBm5XGRJOk,)  \n",
       "1596                                                                                                                                                                              (https://www.zeemaps.com/,)  \n",
       "1598                                                                                                                                                                            (https://www.zingchart.com/,)  \n",
       "1599  (https://www.zoho.com/crm/?network=g&device=c&keyword=zoho&campaignid=189596252&creative=253420543636&matchtype=e&adposition=1t1&placement=&adgroup=52525731756&gclid=EAIaIQobChMI7fLQwtLp3gIVryCtBh...  "
      ]
     },
     "execution_count": 460,
     "metadata": {},
     "output_type": "execute_result"
    }
   ],
   "source": [
    "df_temp_tool_work=df_tool_work[['id','label','accessibleAt']]\n",
    "df_temp_tool_work.sort_values('accessibleAt').tail()"
   ]
  },
  {
   "cell_type": "code",
   "execution_count": 160,
   "metadata": {},
   "outputs": [
    {
     "name": "stdout",
     "output_type": "stream",
     "text": [
      "\n",
      " There are 507 descriptions without corresponding accessible at URLs\n",
      "\n"
     ]
    }
   ],
   "source": [
    "df_tool_work_emptyurls=df_tool_work[df_tool_work['accessibleAt'].str.len()==0]\n",
    "emptyurldescriptionsn=df_tool_work_emptyurls.count()[0]\n",
    "print(f'\\n There are {emptyurldescriptionsn} descriptions without corresponding accessibleAt value\\n')"
   ]
  },
  {
   "cell_type": "markdown",
   "metadata": {},
   "source": [
    "Check the validity of URLs in the *accessibleAt* properties by getting the HTTP result Status"
   ]
  },
  {
   "cell_type": "code",
   "execution_count": 212,
   "metadata": {},
   "outputs": [
    {
     "data": {
      "text/html": [
       "<div>\n",
       "<style scoped>\n",
       "    .dataframe tbody tr th:only-of-type {\n",
       "        vertical-align: middle;\n",
       "    }\n",
       "\n",
       "    .dataframe tbody tr th {\n",
       "        vertical-align: top;\n",
       "    }\n",
       "\n",
       "    .dataframe thead th {\n",
       "        text-align: right;\n",
       "    }\n",
       "</style>\n",
       "<table border=\"1\" class=\"dataframe\">\n",
       "  <thead>\n",
       "    <tr style=\"text-align: right;\">\n",
       "      <th></th>\n",
       "      <th>url</th>\n",
       "      <th>status</th>\n",
       "    </tr>\n",
       "  </thead>\n",
       "  <tbody>\n",
       "    <tr>\n",
       "      <th>0</th>\n",
       "      <td>(https://github.com/WebEcologyProject/140kit,)</td>\n",
       "      <td>200</td>\n",
       "    </tr>\n",
       "    <tr>\n",
       "      <th>1</th>\n",
       "      <td>(https://www.3dflow.net/3df-zephyr-pro-3d-models-from-photos/,)</td>\n",
       "      <td>200</td>\n",
       "    </tr>\n",
       "    <tr>\n",
       "      <th>2</th>\n",
       "      <td>(http://vcg.isti.cnr.it/3dhop/,)</td>\n",
       "      <td>200</td>\n",
       "    </tr>\n",
       "    <tr>\n",
       "      <th>3</th>\n",
       "      <td>(https://github.com/cnr-isti-vclab/3DHOP,)</td>\n",
       "      <td>200</td>\n",
       "    </tr>\n",
       "    <tr>\n",
       "      <th>4</th>\n",
       "      <td>(https://www.3dreshaper.com/en/,)</td>\n",
       "      <td>200</td>\n",
       "    </tr>\n",
       "  </tbody>\n",
       "</table>\n",
       "</div>"
      ],
      "text/plain": [
       "                                                               url status\n",
       "0                   (https://github.com/WebEcologyProject/140kit,)    200\n",
       "1  (https://www.3dflow.net/3df-zephyr-pro-3d-models-from-photos/,)    200\n",
       "2                                 (http://vcg.isti.cnr.it/3dhop/,)    200\n",
       "3                       (https://github.com/cnr-isti-vclab/3DHOP,)    200\n",
       "4                                (https://www.3dreshaper.com/en/,)    200"
      ]
     },
     "execution_count": 212,
     "metadata": {},
     "output_type": "execute_result"
    }
   ],
   "source": [
    "df_tool_work_urls=df_tool_work[df_tool_work['accessibleAt'].str.len()>0]\n",
    "df_urls=df_tool_work_urls['accessibleAt'].values\n",
    "#for url in df_urls:\n",
    "#    print (url[0])\n",
    "df_tool_work_aa_http_status = pd.DataFrame (columns = ['url','status'])\n",
    "import requests\n",
    "import re\n",
    "regex = re.compile(\n",
    "        r'^(?:http|ftp)s?://' # http:// or https://\n",
    "        r'(?:(?:[A-Z0-9](?:[A-Z0-9-]{0,61}[A-Z0-9])?\\.)+(?:[A-Z]{2,6}\\.?|[A-Z0-9-]{2,}\\.?)|' #domain...\n",
    "        r'localhost|' #localhost...\n",
    "        r'\\d{1,3}\\.\\d{1,3}\\.\\d{1,3}\\.\\d{1,3})' # ...or ip\n",
    "        r'(?::\\d+)?' # optional port\n",
    "        r'(?:/?|[/?]\\S+)$', re.IGNORECASE)\n",
    "for var in df_urls:\n",
    "   # print(var)\n",
    "    if ( var != \"\" and var!=None and re.match(regex, var[0])):\n",
    "        try:\n",
    "            r =requests.get(var[0],timeout=8)\n",
    "            #print(\"result: \"+var+ \" \",r.status_code)\n",
    "            df_tool_work_aa_http_status = df_tool_work_aa_http_status.append({'url': var, 'status': int(r.status_code)}, ignore_index=True)\n",
    "        except requests.exceptions.ConnectionError:\n",
    "          #  print(var)\n",
    "            df_tool_work_aa_http_status = df_tool_work_aa_http_status.append({'url': var, 'status': int(503)}, ignore_index=True)\n",
    "        except requests.exceptions.ConnectTimeout:\n",
    "          #  print(var)\n",
    "            df_tool_work_aa_http_status = df_tool_work_aa_http_status.append({'url': var, 'status': int(408)}, ignore_index=True)\n",
    "        except requests.exceptions.ReadTimeout:\n",
    "         #   print(var)\n",
    "            df_tool_work_aa_http_status = df_tool_work_aa_http_status.append({'url': var, 'status': int(408)}, ignore_index=True)\n",
    "        except requests.exceptions.RequestException:\n",
    "         #   print(var)\n",
    "            df_tool_work_aa_http_status = df_tool_work_aa_http_status.append({'url': var, 'status': int(500)}, ignore_index=True)\n",
    "        except TypeError:\n",
    "        #    print(var)\n",
    "            df_tool_work_aa_http_status = df_tool_work_aa_http_status.append({'url': var, 'status': int(400)}, ignore_index=True)\n",
    "    else:\n",
    "       # print(var ,0)\n",
    "        df_tool_work_aa_http_status = df_tool_work_aa_http_status.append({'url': var, 'status': int(400)}, ignore_index=True)\n",
    "df_tool_work_aa_http_status.head()"
   ]
  },
  {
   "cell_type": "code",
   "execution_count": 214,
   "metadata": {},
   "outputs": [
    {
     "data": {
      "text/plain": [
       "200    940\n",
       "404     95\n",
       "503     28\n",
       "403     14\n",
       "406     10\n",
       "408      5\n",
       "500      3\n",
       "420      2\n",
       "502      1\n",
       "400      1\n",
       "Name: status, dtype: int64"
      ]
     },
     "execution_count": 214,
     "metadata": {},
     "output_type": "execute_result"
    }
   ],
   "source": [
    "df_http_status_sub=df_tool_work_aa_http_status[df_tool_work_aa_http_status['status'] != 1]\n",
    "df_db_st = df_http_status_sub['status'].value_counts()\n",
    "df_db_st.head(10)"
   ]
  },
  {
   "cell_type": "markdown",
   "metadata": {},
   "source": [
    "The first column in the table above shows the HTTP Status codes (https://en.wikipedia.org/wiki/List_of_HTTP_status_codes) obtained when trying to connect on *accessibleAt* URLs of tool descriptions, the second column the total number of URLs returning the status. \n",
    "\n",
    "There is a significant number of URLs that seems not valid, i.e. 404 Not Found.\n",
    "\n",
    "Notice that while 404 means that the link is not valid, other status codes may indicate temporary problems."
   ]
  },
  {
   "cell_type": "code",
   "execution_count": null,
   "metadata": {},
   "outputs": [],
   "source": [
    "df_http_status_err=df_http_status_sub[df_http_status_sub['status'] == 404]\n",
    "\n",
    "df_http_status_err['url']=df_http_status_err.url.apply(tuple)\n",
    "\n",
    "df_tool_work_sub=df_tool_work\n",
    "df_tool_work_sub['accessibleAt']=df_tool_work_sub.accessibleAt.apply(tuple)\n",
    "\n",
    "df_list_of_tools_wrongaa=pd.merge(left=df_tool_work_sub, right=df_http_status_err, left_on='accessibleAt', right_on='url')\n",
    "#df_list_of_tools_wrongaa.head()\n",
    "df_list_of_tools_wrongaa[['id', 'label', 'url', 'status']].sort_values('id').to_csv(path_or_buf='/Users/cesare/Documents/sshoc/wp7/wrongurlstatus.csv')"
   ]
  },
  {
   "cell_type": "markdown",
   "metadata": {},
   "source": [
    "The list of possibly wrong URL is [here](https://docs.google.com/spreadsheets/d/1RumPVwXA4SSzheaKs6r0ymR41d8VsbMbG-19edAzd58/edit?usp=sharing)"
   ]
  },
  {
   "cell_type": "markdown",
   "metadata": {},
   "source": [
    "#### Overview of the values in *properties* for tools and service descriptions"
   ]
  },
  {
   "cell_type": "code",
   "execution_count": 266,
   "metadata": {},
   "outputs": [
    {
     "data": {
      "text/html": [
       "<div>\n",
       "<style scoped>\n",
       "    .dataframe tbody tr th:only-of-type {\n",
       "        vertical-align: middle;\n",
       "    }\n",
       "\n",
       "    .dataframe tbody tr th {\n",
       "        vertical-align: top;\n",
       "    }\n",
       "\n",
       "    .dataframe thead th {\n",
       "        text-align: right;\n",
       "    }\n",
       "</style>\n",
       "<table border=\"1\" class=\"dataframe\">\n",
       "  <thead>\n",
       "    <tr style=\"text-align: right;\">\n",
       "      <th></th>\n",
       "      <th>id</th>\n",
       "      <th>value</th>\n",
       "      <th>type.code</th>\n",
       "      <th>type.label</th>\n",
       "      <th>type.type</th>\n",
       "      <th>type.ord</th>\n",
       "      <th>type.allowedVocabularies</th>\n",
       "      <th>concept.code</th>\n",
       "      <th>concept.vocabulary.code</th>\n",
       "      <th>concept.vocabulary.label</th>\n",
       "      <th>concept.vocabulary.accessibleAt</th>\n",
       "      <th>concept.label</th>\n",
       "      <th>concept.notation</th>\n",
       "      <th>concept.definition</th>\n",
       "      <th>concept.uri</th>\n",
       "      <th>concept</th>\n",
       "      <th>label</th>\n",
       "    </tr>\n",
       "  </thead>\n",
       "  <tbody>\n",
       "    <tr>\n",
       "      <th>0</th>\n",
       "      <td>183640</td>\n",
       "      <td>None</td>\n",
       "      <td>activity</td>\n",
       "      <td>Activity</td>\n",
       "      <td>concept</td>\n",
       "      <td>2</td>\n",
       "      <td>[{'code': 'nemo-activity-type', 'label': 'NeMO Concept Scheme', 'accessibleAt': None}, {'code': 'tadirah2', 'label': '', 'accessibleAt': None}, {'code': 'tadirah-activity', 'label': 'TaDiRAH - Tax...</td>\n",
       "      <td>https://vocabs.dariah.eu/tadirah/capturing</td>\n",
       "      <td>tadirah2</td>\n",
       "      <td></td>\n",
       "      <td>NaN</td>\n",
       "      <td>Capturing</td>\n",
       "      <td></td>\n",
       "      <td></td>\n",
       "      <td>https://vocabs.dariah.eu/tadirah/capturing</td>\n",
       "      <td>NaN</td>\n",
       "      <td>140kit</td>\n",
       "    </tr>\n",
       "    <tr>\n",
       "      <th>1</th>\n",
       "      <td>183641</td>\n",
       "      <td>None</td>\n",
       "      <td>activity</td>\n",
       "      <td>Activity</td>\n",
       "      <td>concept</td>\n",
       "      <td>2</td>\n",
       "      <td>[{'code': 'nemo-activity-type', 'label': 'NeMO Concept Scheme', 'accessibleAt': None}, {'code': 'tadirah2', 'label': '', 'accessibleAt': None}, {'code': 'tadirah-activity', 'label': 'TaDiRAH - Tax...</td>\n",
       "      <td>https://vocabs.dariah.eu/tadirah/gathering</td>\n",
       "      <td>tadirah2</td>\n",
       "      <td></td>\n",
       "      <td>NaN</td>\n",
       "      <td>Gathering</td>\n",
       "      <td></td>\n",
       "      <td></td>\n",
       "      <td>https://vocabs.dariah.eu/tadirah/gathering</td>\n",
       "      <td>NaN</td>\n",
       "      <td>140kit</td>\n",
       "    </tr>\n",
       "  </tbody>\n",
       "</table>\n",
       "</div>"
      ],
      "text/plain": [
       "       id value type.code type.label type.type  type.ord  \\\n",
       "0  183640  None  activity   Activity   concept         2   \n",
       "1  183641  None  activity   Activity   concept         2   \n",
       "\n",
       "                                                                                                                                                                                  type.allowedVocabularies  \\\n",
       "0  [{'code': 'nemo-activity-type', 'label': 'NeMO Concept Scheme', 'accessibleAt': None}, {'code': 'tadirah2', 'label': '', 'accessibleAt': None}, {'code': 'tadirah-activity', 'label': 'TaDiRAH - Tax...   \n",
       "1  [{'code': 'nemo-activity-type', 'label': 'NeMO Concept Scheme', 'accessibleAt': None}, {'code': 'tadirah2', 'label': '', 'accessibleAt': None}, {'code': 'tadirah-activity', 'label': 'TaDiRAH - Tax...   \n",
       "\n",
       "                                 concept.code concept.vocabulary.code  \\\n",
       "0  https://vocabs.dariah.eu/tadirah/capturing                tadirah2   \n",
       "1  https://vocabs.dariah.eu/tadirah/gathering                tadirah2   \n",
       "\n",
       "  concept.vocabulary.label  concept.vocabulary.accessibleAt concept.label  \\\n",
       "0                                                       NaN     Capturing   \n",
       "1                                                       NaN     Gathering   \n",
       "\n",
       "  concept.notation concept.definition  \\\n",
       "0                                       \n",
       "1                                       \n",
       "\n",
       "                                  concept.uri  concept   label  \n",
       "0  https://vocabs.dariah.eu/tadirah/capturing      NaN  140kit  \n",
       "1  https://vocabs.dariah.eu/tadirah/gathering      NaN  140kit  "
      ]
     },
     "execution_count": 266,
     "metadata": {},
     "output_type": "execute_result"
    }
   ],
   "source": [
    "df_prop_data = pd.json_normalize(data=df_tool_all['tools'], record_path='properties', meta=['label'])\n",
    "df_prop_data.head(2)"
   ]
  },
  {
   "cell_type": "code",
   "execution_count": 125,
   "metadata": {},
   "outputs": [
    {
     "data": {
      "image/png": "[encoded data removed]",
      "text/plain": [
       "<Figure size 1080x432 with 1 Axes>"
      ]
     },
     "metadata": {
      "needs_background": "light"
     },
     "output_type": "display_data"
    }
   ],
   "source": [
    "df_temp_type_label = df_prop_data['type.label'].value_counts()\n",
    "fig, ax = plt.subplots()\n",
    "df_temp_type_label.plot(kind='bar', figsize=(15,6), x='licences', y='tools',)\n",
    "plt.grid(alpha=0.6)\n",
    "ax.yaxis.set_label_text(\"\")\n",
    "ax.set_title(\"Number of property types in tools and services\", fontsize=15)\n",
    "ax.set_xlabel('Property types', fontsize=14)\n",
    "ax.set_ylabel('Number', fontsize=14);\n",
    "plt.show()"
   ]
  },
  {
   "cell_type": "markdown",
   "metadata": {},
   "source": [
    "## Publications"
   ]
  },
  {
   "cell_type": "code",
   "execution_count": null,
   "metadata": {},
   "outputs": [],
   "source": [
    "df_pub_all = pd.DataFrame()\n",
    "df_pub_all =getMPDescriptions (\"https://sshoc-marketplace-api.acdh-dev.oeaw.ac.at/api/publications?page=\", 151)\n",
    "df_pub_all.index"
   ]
  },
  {
   "cell_type": "markdown",
   "metadata": {},
   "source": [
    "#### Overview of the values in properties for publications"
   ]
  },
  {
   "cell_type": "code",
   "execution_count": 271,
   "metadata": {},
   "outputs": [],
   "source": [
    "df_prop__pub_data = pd.json_normalize(data=df_pub_all['publications'], record_path='properties', meta=['label'])\n",
    "#df_prop__pub_data.tail()"
   ]
  },
  {
   "cell_type": "code",
   "execution_count": 272,
   "metadata": {},
   "outputs": [
    {
     "data": {
      "image/png": "[encoded data removed]",
      "text/plain": [
       "<Figure size 1080x432 with 1 Axes>"
      ]
     },
     "metadata": {
      "needs_background": "light"
     },
     "output_type": "display_data"
    }
   ],
   "source": [
    "df_temp_pub_type_label = df_prop__pub_data['type.label'].value_counts()\n",
    "fig, ax = plt.subplots()\n",
    "df_temp_pub_type_label.plot(kind='bar', figsize=(15,6), x='licences', y='tools',)\n",
    "plt.grid(alpha=0.6)\n",
    "ax.yaxis.set_label_text(\"\")\n",
    "ax.set_title(\"Number of property types for publications\", fontsize=15)\n",
    "ax.set_xlabel('Property types', fontsize=14)\n",
    "ax.set_ylabel('Number', fontsize=14);\n",
    "plt.show()"
   ]
  },
  {
   "cell_type": "markdown",
   "metadata": {},
   "source": [
    "## Training Materials"
   ]
  },
  {
   "cell_type": "code",
   "execution_count": 20,
   "metadata": {},
   "outputs": [
    {
     "data": {
      "text/plain": [
       "RangeIndex(start=0, stop=140, step=1)"
      ]
     },
     "execution_count": 20,
     "metadata": {},
     "output_type": "execute_result"
    }
   ],
   "source": [
    "#https://sshoc-marketplace-api.acdh-dev.oeaw.ac.at/api/training-materials\n",
    "\n",
    "tmx = pd.Series(range(1,8))\n",
    "#url = 'https://sshoc-marketplace-api.acdh-dev.oeaw.ac.at/api/publications?page=1&perpage=20'\n",
    "df_tm_all = pd.DataFrame()\n",
    "for var in tmx:\n",
    "    url = \"https://sshoc-marketplace-api.acdh-dev.oeaw.ac.at/api/training-materials?page=\"+str(var)+\"&perpage=20\"\n",
    "    df_tm_par=pd.read_json(url, orient='columns')\n",
    "    df_tm_all=df_tm_all.append(df_tm_par, ignore_index=True)\n",
    "   # print(\"url: \"+ url + \":\",var)\n",
    "df_tm_all.index"
   ]
  },
  {
   "cell_type": "markdown",
   "metadata": {},
   "source": [
    "#### Overview of the values in properties for Training Materials"
   ]
  },
  {
   "cell_type": "code",
   "execution_count": 22,
   "metadata": {},
   "outputs": [],
   "source": [
    "df_prop__tm_data = pd.json_normalize(data=df_tm_all['trainingMaterials'], record_path='properties', meta=['label'])\n",
    "#df_prop__tm_data.head()"
   ]
  },
  {
   "cell_type": "code",
   "execution_count": 24,
   "metadata": {},
   "outputs": [
    {
     "data": {
      "image/png": "[encoded data removed]",
      "text/plain": [
       "<Figure size 1080x432 with 1 Axes>"
      ]
     },
     "metadata": {
      "needs_background": "light"
     },
     "output_type": "display_data"
    }
   ],
   "source": [
    "df_temp_tm_type_label = df_prop__tm_data['type.label'].value_counts()\n",
    "fig, ax = plt.subplots()\n",
    "df_temp_tm_type_label.plot(kind='bar', figsize=(15,6), x='licences', y='tools',)\n",
    "plt.grid(alpha=0.6)\n",
    "ax.yaxis.set_label_text(\"\")\n",
    "ax.set_title(\"Number of property types for training materials\", fontsize=15)\n",
    "ax.set_xlabel('Property types', fontsize=14)\n",
    "ax.set_ylabel('Number', fontsize=14);\n",
    "plt.show()"
   ]
  },
  {
   "cell_type": "markdown",
   "metadata": {},
   "source": [
    "## Workflows"
   ]
  },
  {
   "cell_type": "code",
   "execution_count": 273,
   "metadata": {},
   "outputs": [
    {
     "data": {
      "text/plain": [
       "RangeIndex(start=0, stop=29, step=1)"
      ]
     },
     "execution_count": 273,
     "metadata": {},
     "output_type": "execute_result"
    }
   ],
   "source": [
    "df_wf_all = pd.DataFrame()\n",
    "df_wf_all =getMPDescriptions (\"https://sshoc-marketplace-api.acdh-dev.oeaw.ac.at/api/workflows?page=\", 2)\n",
    "df_wf_all.index"
   ]
  },
  {
   "cell_type": "markdown",
   "metadata": {},
   "source": [
    "#### Overview of the values in properties in Workflows"
   ]
  },
  {
   "cell_type": "code",
   "execution_count": 274,
   "metadata": {},
   "outputs": [],
   "source": [
    "df_prop__wf_data = pd.json_normalize(data=df_wf_all['workflows'], record_path='properties', meta=['label'])\n",
    "#df_prop__wf_data.head()"
   ]
  },
  {
   "cell_type": "code",
   "execution_count": 275,
   "metadata": {},
   "outputs": [
    {
     "data": {
      "image/png": "[encoded data removed]",
      "text/plain": [
       "<Figure size 1080x432 with 1 Axes>"
      ]
     },
     "metadata": {
      "needs_background": "light"
     },
     "output_type": "display_data"
    }
   ],
   "source": [
    "df_temp_wf_type_label = df_prop__wf_data['type.label'].value_counts()\n",
    "fig, ax = plt.subplots()\n",
    "df_temp_wf_type_label.plot(kind='bar', figsize=(15,6), x='licences', y='tools',)\n",
    "plt.grid(alpha=0.6)\n",
    "ax.yaxis.set_label_text(\"\")\n",
    "ax.set_title(\"Number of property types for workflows\", fontsize=15)\n",
    "ax.set_xlabel('Property types', fontsize=14)\n",
    "ax.set_ylabel('Number', fontsize=14);\n",
    "plt.show()"
   ]
  },
  {
   "cell_type": "markdown",
   "metadata": {},
   "source": [
    "### Check properties in the complete dataset"
   ]
  },
  {
   "cell_type": "code",
   "execution_count": 67,
   "metadata": {},
   "outputs": [],
   "source": [
    "df_list=[df_prop_data, df_prop__pub_data, df_prop__tm_data, df_prop__wf_data]\n",
    "df_all_data=pd.concat(df_list)\n",
    "#df_all_data.sort_values('type.code').iloc[7550:7590]"
   ]
  },
  {
   "cell_type": "markdown",
   "metadata": {},
   "source": [
    "Gets all the TaDiRAH2 propertiess"
   ]
  },
  {
   "cell_type": "code",
   "execution_count": 278,
   "metadata": {},
   "outputs": [
    {
     "data": {
      "text/html": [
       "<div>\n",
       "<style scoped>\n",
       "    .dataframe tbody tr th:only-of-type {\n",
       "        vertical-align: middle;\n",
       "    }\n",
       "\n",
       "    .dataframe tbody tr th {\n",
       "        vertical-align: top;\n",
       "    }\n",
       "\n",
       "    .dataframe thead th {\n",
       "        text-align: right;\n",
       "    }\n",
       "</style>\n",
       "<table border=\"1\" class=\"dataframe\">\n",
       "  <thead>\n",
       "    <tr style=\"text-align: right;\">\n",
       "      <th></th>\n",
       "      <th>id</th>\n",
       "      <th>value</th>\n",
       "      <th>type.code</th>\n",
       "      <th>type.label</th>\n",
       "      <th>type.type</th>\n",
       "      <th>type.ord</th>\n",
       "      <th>type.allowedVocabularies</th>\n",
       "      <th>concept.code</th>\n",
       "      <th>concept.vocabulary.code</th>\n",
       "      <th>concept.vocabulary.label</th>\n",
       "      <th>concept.vocabulary.accessibleAt</th>\n",
       "      <th>concept.label</th>\n",
       "      <th>concept.notation</th>\n",
       "      <th>concept.definition</th>\n",
       "      <th>concept.uri</th>\n",
       "      <th>concept</th>\n",
       "      <th>label</th>\n",
       "    </tr>\n",
       "  </thead>\n",
       "  <tbody>\n",
       "    <tr>\n",
       "      <th>0</th>\n",
       "      <td>183640</td>\n",
       "      <td>None</td>\n",
       "      <td>activity</td>\n",
       "      <td>Activity</td>\n",
       "      <td>concept</td>\n",
       "      <td>2</td>\n",
       "      <td>[{'code': 'nemo-activity-type', 'label': 'NeMO Concept Scheme', 'accessibleAt': None}, {'code': 'tadirah2', 'label': '', 'accessibleAt': None}, {'code': 'tadirah-activity', 'label': 'TaDiRAH - Tax...</td>\n",
       "      <td>https://vocabs.dariah.eu/tadirah/capturing</td>\n",
       "      <td>tadirah2</td>\n",
       "      <td></td>\n",
       "      <td>NaN</td>\n",
       "      <td>Capturing</td>\n",
       "      <td></td>\n",
       "      <td></td>\n",
       "      <td>https://vocabs.dariah.eu/tadirah/capturing</td>\n",
       "      <td>NaN</td>\n",
       "      <td>140kit</td>\n",
       "    </tr>\n",
       "    <tr>\n",
       "      <th>1</th>\n",
       "      <td>183641</td>\n",
       "      <td>None</td>\n",
       "      <td>activity</td>\n",
       "      <td>Activity</td>\n",
       "      <td>concept</td>\n",
       "      <td>2</td>\n",
       "      <td>[{'code': 'nemo-activity-type', 'label': 'NeMO Concept Scheme', 'accessibleAt': None}, {'code': 'tadirah2', 'label': '', 'accessibleAt': None}, {'code': 'tadirah-activity', 'label': 'TaDiRAH - Tax...</td>\n",
       "      <td>https://vocabs.dariah.eu/tadirah/gathering</td>\n",
       "      <td>tadirah2</td>\n",
       "      <td></td>\n",
       "      <td>NaN</td>\n",
       "      <td>Gathering</td>\n",
       "      <td></td>\n",
       "      <td></td>\n",
       "      <td>https://vocabs.dariah.eu/tadirah/gathering</td>\n",
       "      <td>NaN</td>\n",
       "      <td>140kit</td>\n",
       "    </tr>\n",
       "  </tbody>\n",
       "</table>\n",
       "</div>"
      ],
      "text/plain": [
       "       id value type.code type.label type.type  type.ord  \\\n",
       "0  183640  None  activity   Activity   concept         2   \n",
       "1  183641  None  activity   Activity   concept         2   \n",
       "\n",
       "                                                                                                                                                                                  type.allowedVocabularies  \\\n",
       "0  [{'code': 'nemo-activity-type', 'label': 'NeMO Concept Scheme', 'accessibleAt': None}, {'code': 'tadirah2', 'label': '', 'accessibleAt': None}, {'code': 'tadirah-activity', 'label': 'TaDiRAH - Tax...   \n",
       "1  [{'code': 'nemo-activity-type', 'label': 'NeMO Concept Scheme', 'accessibleAt': None}, {'code': 'tadirah2', 'label': '', 'accessibleAt': None}, {'code': 'tadirah-activity', 'label': 'TaDiRAH - Tax...   \n",
       "\n",
       "                                 concept.code concept.vocabulary.code  \\\n",
       "0  https://vocabs.dariah.eu/tadirah/capturing                tadirah2   \n",
       "1  https://vocabs.dariah.eu/tadirah/gathering                tadirah2   \n",
       "\n",
       "  concept.vocabulary.label  concept.vocabulary.accessibleAt concept.label  \\\n",
       "0                                                       NaN     Capturing   \n",
       "1                                                       NaN     Gathering   \n",
       "\n",
       "  concept.notation concept.definition  \\\n",
       "0                                       \n",
       "1                                       \n",
       "\n",
       "                                  concept.uri  concept   label  \n",
       "0  https://vocabs.dariah.eu/tadirah/capturing      NaN  140kit  \n",
       "1  https://vocabs.dariah.eu/tadirah/gathering      NaN  140kit  "
      ]
     },
     "execution_count": 278,
     "metadata": {},
     "output_type": "execute_result"
    }
   ],
   "source": [
    "tad_prop=df_all_data[df_all_data['concept.vocabulary.code'] == 'tadirah2']\n",
    "tad_prop.head(2)"
   ]
  },
  {
   "cell_type": "code",
   "execution_count": 41,
   "metadata": {},
   "outputs": [
    {
     "data": {
      "text/plain": [
       "Analyzing           576\n",
       "Visual Analysis     303\n",
       "Content Analysis    226\n",
       "Discovering         171\n",
       "Capturing           150\n",
       "Enriching           121\n",
       "Gathering           116\n",
       "Disseminating       112\n",
       "Annotating          112\n",
       "Publishing           87\n",
       "Collaborating        87\n",
       "Creating             85\n",
       "Sharing              84\n",
       "Organizing           81\n",
       "Network Analysis     77\n",
       "Name: concept.label, dtype: int64"
      ]
     },
     "execution_count": 41,
     "metadata": {},
     "output_type": "execute_result"
    }
   ],
   "source": [
    "df_temp_tad_label = tad_prop['concept.label'].value_counts()\n",
    "df_temp_tad_label.head(15)"
   ]
  },
  {
   "cell_type": "code",
   "execution_count": 42,
   "metadata": {},
   "outputs": [
    {
     "data": {
      "image/png": "[encoded data removed]",
      "text/plain": [
       "<Figure size 864x720 with 1 Axes>"
      ]
     },
     "metadata": {
      "needs_background": "light"
     },
     "output_type": "display_data"
    }
   ],
   "source": [
    "fig, ax = plt.subplots()\n",
    "df_temp_tad_label.plot.barh(figsize=(12,10), ax=ax)\n",
    "ax.set_title('Number of tools/services by TaDiRAH activity values ')\n",
    "ax.set_xlabel('Tools/Services for properties')\n",
    "ax.set_ylabel('TaDIRAH activity values');"
   ]
  },
  {
   "cell_type": "code",
   "execution_count": 44,
   "metadata": {},
   "outputs": [
    {
     "data": {
      "text/html": [
       "<div>\n",
       "<style scoped>\n",
       "    .dataframe tbody tr th:only-of-type {\n",
       "        vertical-align: middle;\n",
       "    }\n",
       "\n",
       "    .dataframe tbody tr th {\n",
       "        vertical-align: top;\n",
       "    }\n",
       "\n",
       "    .dataframe thead th {\n",
       "        text-align: right;\n",
       "    }\n",
       "</style>\n",
       "<table border=\"1\" class=\"dataframe\">\n",
       "  <thead>\n",
       "    <tr style=\"text-align: right;\">\n",
       "      <th></th>\n",
       "      <th>type.label</th>\n",
       "      <th>value</th>\n",
       "      <th>type.code</th>\n",
       "      <th>type.type</th>\n",
       "      <th>concept.label</th>\n",
       "      <th>concept.uri</th>\n",
       "      <th>concept.vocabulary.code</th>\n",
       "      <th>concept.vocabulary.label</th>\n",
       "    </tr>\n",
       "  </thead>\n",
       "  <tbody>\n",
       "    <tr>\n",
       "      <th>0</th>\n",
       "      <td>Activity</td>\n",
       "      <td>None</td>\n",
       "      <td>activity</td>\n",
       "      <td>concept</td>\n",
       "      <td>Capturing</td>\n",
       "      <td>https://vocabs.dariah.eu/tadirah/capturing</td>\n",
       "      <td>tadirah2</td>\n",
       "      <td></td>\n",
       "    </tr>\n",
       "    <tr>\n",
       "      <th>1</th>\n",
       "      <td>Activity</td>\n",
       "      <td>None</td>\n",
       "      <td>activity</td>\n",
       "      <td>concept</td>\n",
       "      <td>Gathering</td>\n",
       "      <td>https://vocabs.dariah.eu/tadirah/gathering</td>\n",
       "      <td>tadirah2</td>\n",
       "      <td></td>\n",
       "    </tr>\n",
       "    <tr>\n",
       "      <th>2</th>\n",
       "      <td>Activity</td>\n",
       "      <td>None</td>\n",
       "      <td>activity</td>\n",
       "      <td>concept</td>\n",
       "      <td>Analyzing</td>\n",
       "      <td>https://vocabs.dariah.eu/tadirah/analyzing</td>\n",
       "      <td>tadirah2</td>\n",
       "      <td></td>\n",
       "    </tr>\n",
       "    <tr>\n",
       "      <th>3</th>\n",
       "      <td>Activity</td>\n",
       "      <td>None</td>\n",
       "      <td>activity</td>\n",
       "      <td>concept</td>\n",
       "      <td>Visual Analysis</td>\n",
       "      <td>https://vocabs.dariah.eu/tadirah/visualAnalysis</td>\n",
       "      <td>tadirah2</td>\n",
       "      <td></td>\n",
       "    </tr>\n",
       "    <tr>\n",
       "      <th>26</th>\n",
       "      <td>Activity</td>\n",
       "      <td>None</td>\n",
       "      <td>activity</td>\n",
       "      <td>concept</td>\n",
       "      <td>Web Development</td>\n",
       "      <td>https://vocabs.dariah.eu/tadirah/webDevelopment</td>\n",
       "      <td>tadirah2</td>\n",
       "      <td></td>\n",
       "    </tr>\n",
       "  </tbody>\n",
       "</table>\n",
       "</div>"
      ],
      "text/plain": [
       "   type.label value type.code type.type    concept.label  \\\n",
       "0    Activity  None  activity   concept        Capturing   \n",
       "1    Activity  None  activity   concept        Gathering   \n",
       "2    Activity  None  activity   concept        Analyzing   \n",
       "3    Activity  None  activity   concept  Visual Analysis   \n",
       "26   Activity  None  activity   concept  Web Development   \n",
       "\n",
       "                                        concept.uri concept.vocabulary.code  \\\n",
       "0        https://vocabs.dariah.eu/tadirah/capturing                tadirah2   \n",
       "1        https://vocabs.dariah.eu/tadirah/gathering                tadirah2   \n",
       "2        https://vocabs.dariah.eu/tadirah/analyzing                tadirah2   \n",
       "3   https://vocabs.dariah.eu/tadirah/visualAnalysis                tadirah2   \n",
       "26  https://vocabs.dariah.eu/tadirah/webDevelopment                tadirah2   \n",
       "\n",
       "   concept.vocabulary.label  \n",
       "0                            \n",
       "1                            \n",
       "2                            \n",
       "3                            \n",
       "26                           "
      ]
     },
     "execution_count": 44,
     "metadata": {},
     "output_type": "execute_result"
    }
   ],
   "source": [
    "act_prop_temp=tad_prop[['type.label', 'value', 'type.code', 'type.type', 'concept.label', 'concept.uri', 'concept.vocabulary.code', 'concept.vocabulary.label']]\n",
    "act_prop=act_prop_temp.drop_duplicates()\n",
    "act_prop.head()"
   ]
  },
  {
   "cell_type": "code",
   "execution_count": 50,
   "metadata": {},
   "outputs": [],
   "source": [
    "act_prop.sort_values('concept.label').to_csv(path_or_buf='/Users/cesare/Documents/sshoc/wp7/actualtadirahvalues.csv')"
   ]
  },
  {
   "cell_type": "markdown",
   "metadata": {},
   "source": [
    "See the [list of properties](https://docs.google.com/spreadsheets/d/1RumPVwXA4SSzheaKs6r0ymR41d8VsbMbG-19edAzd58/edit?usp=sharing) in a google sheet"
   ]
  },
  {
   "cell_type": "markdown",
   "metadata": {},
   "source": [
    "### Finding items having duplicated TaDiRAH activities"
   ]
  },
  {
   "cell_type": "code",
   "execution_count": 49,
   "metadata": {},
   "outputs": [],
   "source": [
    "df_p_d=tad_prop[tad_prop.duplicated(['label', 'concept.label'], keep=False)].sort_values('label')\n",
    "#df_p_d.tail(2)"
   ]
  },
  {
   "cell_type": "code",
   "execution_count": 105,
   "metadata": {},
   "outputs": [
    {
     "data": {
      "text/html": [
       "<div>\n",
       "<style scoped>\n",
       "    .dataframe tbody tr th:only-of-type {\n",
       "        vertical-align: middle;\n",
       "    }\n",
       "\n",
       "    .dataframe tbody tr th {\n",
       "        vertical-align: top;\n",
       "    }\n",
       "\n",
       "    .dataframe thead th {\n",
       "        text-align: right;\n",
       "    }\n",
       "</style>\n",
       "<table border=\"1\" class=\"dataframe\">\n",
       "  <thead>\n",
       "    <tr style=\"text-align: right;\">\n",
       "      <th></th>\n",
       "      <th>label</th>\n",
       "      <th>concept.label</th>\n",
       "      <th>concept.uri</th>\n",
       "      <th>type.label</th>\n",
       "      <th>value</th>\n",
       "      <th>type.code</th>\n",
       "      <th>type.type</th>\n",
       "      <th>concept.vocabulary.code</th>\n",
       "      <th>concept.vocabulary.label</th>\n",
       "    </tr>\n",
       "  </thead>\n",
       "  <tbody>\n",
       "    <tr>\n",
       "      <th>14</th>\n",
       "      <td>Collaborative Digital Edition of a Musical Corpus</td>\n",
       "      <td>Formatting</td>\n",
       "      <td>https://vocabs.dariah.eu/tadirah/formatting</td>\n",
       "      <td>Activity</td>\n",
       "      <td>None</td>\n",
       "      <td>activity</td>\n",
       "      <td>concept</td>\n",
       "      <td>tadirah2</td>\n",
       "      <td></td>\n",
       "    </tr>\n",
       "    <tr>\n",
       "      <th>12</th>\n",
       "      <td>Collaborative Digital Edition of a Musical Corpus</td>\n",
       "      <td>Formatting</td>\n",
       "      <td>https://vocabs.dariah.eu/tadirah/formatting</td>\n",
       "      <td>Activity</td>\n",
       "      <td>None</td>\n",
       "      <td>activity</td>\n",
       "      <td>concept</td>\n",
       "      <td>tadirah2</td>\n",
       "      <td></td>\n",
       "    </tr>\n",
       "    <tr>\n",
       "      <th>1098</th>\n",
       "      <td>Cytoscape</td>\n",
       "      <td>Analyzing</td>\n",
       "      <td>https://vocabs.dariah.eu/tadirah/analyzing</td>\n",
       "      <td>Activity</td>\n",
       "      <td>None</td>\n",
       "      <td>activity</td>\n",
       "      <td>concept</td>\n",
       "      <td>tadirah2</td>\n",
       "      <td></td>\n",
       "    </tr>\n",
       "    <tr>\n",
       "      <th>1103</th>\n",
       "      <td>Cytoscape</td>\n",
       "      <td>Analyzing</td>\n",
       "      <td>https://vocabs.dariah.eu/tadirah/analyzing</td>\n",
       "      <td>Activity</td>\n",
       "      <td>None</td>\n",
       "      <td>activity</td>\n",
       "      <td>concept</td>\n",
       "      <td>tadirah2</td>\n",
       "      <td></td>\n",
       "    </tr>\n",
       "    <tr>\n",
       "      <th>1104</th>\n",
       "      <td>Cytoscape</td>\n",
       "      <td>Visual Analysis</td>\n",
       "      <td>https://vocabs.dariah.eu/tadirah/visualAnalysis</td>\n",
       "      <td>Activity</td>\n",
       "      <td>None</td>\n",
       "      <td>activity</td>\n",
       "      <td>concept</td>\n",
       "      <td>tadirah2</td>\n",
       "      <td></td>\n",
       "    </tr>\n",
       "    <tr>\n",
       "      <th>1099</th>\n",
       "      <td>Cytoscape</td>\n",
       "      <td>Visual Analysis</td>\n",
       "      <td>https://vocabs.dariah.eu/tadirah/visualAnalysis</td>\n",
       "      <td>Activity</td>\n",
       "      <td>None</td>\n",
       "      <td>activity</td>\n",
       "      <td>concept</td>\n",
       "      <td>tadirah2</td>\n",
       "      <td></td>\n",
       "    </tr>\n",
       "    <tr>\n",
       "      <th>1149</th>\n",
       "      <td>Data Desk</td>\n",
       "      <td>Analyzing</td>\n",
       "      <td>https://vocabs.dariah.eu/tadirah/analyzing</td>\n",
       "      <td>Activity</td>\n",
       "      <td>None</td>\n",
       "      <td>activity</td>\n",
       "      <td>concept</td>\n",
       "      <td>tadirah2</td>\n",
       "      <td></td>\n",
       "    </tr>\n",
       "    <tr>\n",
       "      <th>1154</th>\n",
       "      <td>Data Desk</td>\n",
       "      <td>Analyzing</td>\n",
       "      <td>https://vocabs.dariah.eu/tadirah/analyzing</td>\n",
       "      <td>Activity</td>\n",
       "      <td>None</td>\n",
       "      <td>activity</td>\n",
       "      <td>concept</td>\n",
       "      <td>tadirah2</td>\n",
       "      <td></td>\n",
       "    </tr>\n",
       "  </tbody>\n",
       "</table>\n",
       "</div>"
      ],
      "text/plain": [
       "                                                  label    concept.label  \\\n",
       "14    Collaborative Digital Edition of a Musical Corpus       Formatting   \n",
       "12    Collaborative Digital Edition of a Musical Corpus       Formatting   \n",
       "1098                                          Cytoscape        Analyzing   \n",
       "1103                                          Cytoscape        Analyzing   \n",
       "1104                                          Cytoscape  Visual Analysis   \n",
       "1099                                          Cytoscape  Visual Analysis   \n",
       "1149                                          Data Desk        Analyzing   \n",
       "1154                                          Data Desk        Analyzing   \n",
       "\n",
       "                                          concept.uri type.label value  \\\n",
       "14        https://vocabs.dariah.eu/tadirah/formatting   Activity  None   \n",
       "12        https://vocabs.dariah.eu/tadirah/formatting   Activity  None   \n",
       "1098       https://vocabs.dariah.eu/tadirah/analyzing   Activity  None   \n",
       "1103       https://vocabs.dariah.eu/tadirah/analyzing   Activity  None   \n",
       "1104  https://vocabs.dariah.eu/tadirah/visualAnalysis   Activity  None   \n",
       "1099  https://vocabs.dariah.eu/tadirah/visualAnalysis   Activity  None   \n",
       "1149       https://vocabs.dariah.eu/tadirah/analyzing   Activity  None   \n",
       "1154       https://vocabs.dariah.eu/tadirah/analyzing   Activity  None   \n",
       "\n",
       "     type.code type.type concept.vocabulary.code concept.vocabulary.label  \n",
       "14    activity   concept                tadirah2                           \n",
       "12    activity   concept                tadirah2                           \n",
       "1098  activity   concept                tadirah2                           \n",
       "1103  activity   concept                tadirah2                           \n",
       "1104  activity   concept                tadirah2                           \n",
       "1099  activity   concept                tadirah2                           \n",
       "1149  activity   concept                tadirah2                           \n",
       "1154  activity   concept                tadirah2                           "
      ]
     },
     "execution_count": 105,
     "metadata": {},
     "output_type": "execute_result"
    }
   ],
   "source": [
    "act_prop_temp_dupl=df_p_d[['label', 'concept.label', 'concept.uri','type.label', 'value', 'type.code', 'type.type', 'concept.vocabulary.code', 'concept.vocabulary.label']]\n",
    "act_prop_temp_dupl.sort_values(['label','concept.label']).head(8)"
   ]
  },
  {
   "cell_type": "code",
   "execution_count": 51,
   "metadata": {},
   "outputs": [],
   "source": [
    "act_prop_temp_dupl.sort_values('label').to_csv(path_or_buf='/Users/cesare/Documents/sshoc/wp7/duplicatetadirahvalues.csv')"
   ]
  },
  {
   "cell_type": "markdown",
   "metadata": {},
   "source": [
    "## Inspecting *contributors* property for Tools and Services"
   ]
  },
  {
   "cell_type": "code",
   "execution_count": 284,
   "metadata": {},
   "outputs": [
    {
     "data": {
      "text/html": [
       "<div>\n",
       "<style scoped>\n",
       "    .dataframe tbody tr th:only-of-type {\n",
       "        vertical-align: middle;\n",
       "    }\n",
       "\n",
       "    .dataframe tbody tr th {\n",
       "        vertical-align: top;\n",
       "    }\n",
       "\n",
       "    .dataframe thead th {\n",
       "        text-align: right;\n",
       "    }\n",
       "</style>\n",
       "<table border=\"1\" class=\"dataframe\">\n",
       "  <thead>\n",
       "    <tr style=\"text-align: right;\">\n",
       "      <th></th>\n",
       "      <th>actor.id</th>\n",
       "      <th>actor.name</th>\n",
       "      <th>actor.externalIds</th>\n",
       "      <th>actor.website</th>\n",
       "      <th>actor.email</th>\n",
       "      <th>actor.affiliations</th>\n",
       "      <th>role.code</th>\n",
       "      <th>role.label</th>\n",
       "      <th>tool_label</th>\n",
       "    </tr>\n",
       "  </thead>\n",
       "  <tbody>\n",
       "    <tr>\n",
       "      <th>1333</th>\n",
       "      <td>546</td>\n",
       "      <td>Jason Davies</td>\n",
       "      <td>[]</td>\n",
       "      <td>http://www.jasondavies.com/</td>\n",
       "      <td>None</td>\n",
       "      <td>[]</td>\n",
       "      <td>contributor</td>\n",
       "      <td>Contributor</td>\n",
       "      <td>word tree</td>\n",
       "    </tr>\n",
       "    <tr>\n",
       "      <th>1316</th>\n",
       "      <td>794</td>\n",
       "      <td>word2vec Team</td>\n",
       "      <td>[]</td>\n",
       "      <td>http://code.google.com/p/word2vec/</td>\n",
       "      <td>None</td>\n",
       "      <td>[]</td>\n",
       "      <td>contributor</td>\n",
       "      <td>Contributor</td>\n",
       "      <td>word2vec</td>\n",
       "    </tr>\n",
       "    <tr>\n",
       "      <th>1329</th>\n",
       "      <td>704</td>\n",
       "      <td>iamsqrt1</td>\n",
       "      <td>[]</td>\n",
       "      <td>https://code.google.com/u/iamsqrt1@gmail.com/</td>\n",
       "      <td>None</td>\n",
       "      <td>[]</td>\n",
       "      <td>contributor</td>\n",
       "      <td>Contributor</td>\n",
       "      <td>wordsimilarity (Word 2 Word)</td>\n",
       "    </tr>\n",
       "    <tr>\n",
       "      <th>1348</th>\n",
       "      <td>896</td>\n",
       "      <td>Centre for Computing in the Humanities, King's College London</td>\n",
       "      <td>[]</td>\n",
       "      <td>http://www.tei-c.org/Vault/MembersMeetings/2008/xmod/index.html</td>\n",
       "      <td>None</td>\n",
       "      <td>[]</td>\n",
       "      <td>contributor</td>\n",
       "      <td>Contributor</td>\n",
       "      <td>xMod</td>\n",
       "    </tr>\n",
       "    <tr>\n",
       "      <th>1355</th>\n",
       "      <td>950</td>\n",
       "      <td>yWorks</td>\n",
       "      <td>[]</td>\n",
       "      <td>None</td>\n",
       "      <td>None</td>\n",
       "      <td>[]</td>\n",
       "      <td>contributor</td>\n",
       "      <td>Contributor</td>\n",
       "      <td>yED Files</td>\n",
       "    </tr>\n",
       "  </tbody>\n",
       "</table>\n",
       "</div>"
      ],
      "text/plain": [
       "      actor.id                                                     actor.name  \\\n",
       "1333       546                                                   Jason Davies   \n",
       "1316       794                                                  word2vec Team   \n",
       "1329       704                                                       iamsqrt1   \n",
       "1348       896  Centre for Computing in the Humanities, King's College London   \n",
       "1355       950                                                         yWorks   \n",
       "\n",
       "     actor.externalIds  \\\n",
       "1333                []   \n",
       "1316                []   \n",
       "1329                []   \n",
       "1348                []   \n",
       "1355                []   \n",
       "\n",
       "                                                        actor.website  \\\n",
       "1333                                      http://www.jasondavies.com/   \n",
       "1316                               http://code.google.com/p/word2vec/   \n",
       "1329                    https://code.google.com/u/iamsqrt1@gmail.com/   \n",
       "1348  http://www.tei-c.org/Vault/MembersMeetings/2008/xmod/index.html   \n",
       "1355                                                             None   \n",
       "\n",
       "     actor.email actor.affiliations    role.code   role.label  \\\n",
       "1333        None                 []  contributor  Contributor   \n",
       "1316        None                 []  contributor  Contributor   \n",
       "1329        None                 []  contributor  Contributor   \n",
       "1348        None                 []  contributor  Contributor   \n",
       "1355        None                 []  contributor  Contributor   \n",
       "\n",
       "                        tool_label  \n",
       "1333                     word tree  \n",
       "1316                      word2vec  \n",
       "1329  wordsimilarity (Word 2 Word)  \n",
       "1348                          xMod  \n",
       "1355                     yED Files  "
      ]
     },
     "execution_count": 284,
     "metadata": {},
     "output_type": "execute_result"
    }
   ],
   "source": [
    "df_prop_data = pd.json_normalize(data=df_tool_all['tools'], record_path='contributors', meta_prefix='tool_', meta=['label'])\n",
    "df_prop_data.sort_values('tool_label').tail()"
   ]
  },
  {
   "cell_type": "code",
   "execution_count": 287,
   "metadata": {},
   "outputs": [
    {
     "data": {
      "text/plain": [
       "Geoffrey Rockwell et. al.                50\n",
       "Stéfan Sinclair and Geoffrey Rockwell    22\n",
       "Tomasz Walkowiak                         19\n",
       "Clarin-PL                                19\n",
       "Ambrosia Software Inc.                   18\n",
       "Name: actor.name, dtype: int64"
      ]
     },
     "execution_count": 287,
     "metadata": {},
     "output_type": "execute_result"
    }
   ],
   "source": [
    "df_prop_data['actor.name'].value_counts().head()"
   ]
  },
  {
   "cell_type": "code",
   "execution_count": 299,
   "metadata": {},
   "outputs": [
    {
     "data": {
      "text/plain": [
       "actor.id              1372\n",
       "actor.name            1372\n",
       "actor.externalIds     1372\n",
       "actor.website          566\n",
       "actor.email            293\n",
       "actor.affiliations    1372\n",
       "role.code             1372\n",
       "role.label            1372\n",
       "tool_label            1372\n",
       "dtype: int64"
      ]
     },
     "execution_count": 299,
     "metadata": {},
     "output_type": "execute_result"
    }
   ],
   "source": [
    "df_prop_data.count()"
   ]
  },
  {
   "cell_type": "markdown",
   "metadata": {},
   "source": [
    "As for the *accessibleAt*, validity of *actor.wbsite* value could be checked etc...."
   ]
  },
  {
   "cell_type": "markdown",
   "metadata": {},
   "source": [
    "## More..."
   ]
  },
  {
   "cell_type": "code",
   "execution_count": 412,
   "metadata": {},
   "outputs": [
    {
     "data": {
      "text/plain": [
       "id                         3162\n",
       "concept.vocabulary.code    3162\n",
       "label                      3162\n",
       "concept.label              3162\n",
       "concept.uri                3162\n",
       "dtype: int64"
      ]
     },
     "execution_count": 412,
     "metadata": {},
     "output_type": "execute_result"
    }
   ],
   "source": [
    "tad_prop_cd_work=tad_prop[['id', 'concept.vocabulary.code','label', 'concept.label', 'concept.uri']]\n",
    "tad_prop_cd_work.count()"
   ]
  },
  {
   "cell_type": "code",
   "execution_count": 414,
   "metadata": {},
   "outputs": [
    {
     "data": {
      "text/html": [
       "<div>\n",
       "<style scoped>\n",
       "    .dataframe tbody tr th:only-of-type {\n",
       "        vertical-align: middle;\n",
       "    }\n",
       "\n",
       "    .dataframe tbody tr th {\n",
       "        vertical-align: top;\n",
       "    }\n",
       "\n",
       "    .dataframe thead th {\n",
       "        text-align: right;\n",
       "    }\n",
       "</style>\n",
       "<table border=\"1\" class=\"dataframe\">\n",
       "  <thead>\n",
       "    <tr style=\"text-align: right;\">\n",
       "      <th></th>\n",
       "      <th>id</th>\n",
       "      <th>concept.vocabulary.code</th>\n",
       "      <th>label</th>\n",
       "      <th>concept.label</th>\n",
       "      <th>concept.uri</th>\n",
       "    </tr>\n",
       "  </thead>\n",
       "  <tbody>\n",
       "    <tr>\n",
       "      <th>1098</th>\n",
       "      <td>179016</td>\n",
       "      <td>tadirah2</td>\n",
       "      <td>Cytoscape</td>\n",
       "      <td>Analyzing</td>\n",
       "      <td>https://vocabs.dariah.eu/tadirah/analyzing</td>\n",
       "    </tr>\n",
       "    <tr>\n",
       "      <th>1099</th>\n",
       "      <td>179017</td>\n",
       "      <td>tadirah2</td>\n",
       "      <td>Cytoscape</td>\n",
       "      <td>Visual Analysis</td>\n",
       "      <td>https://vocabs.dariah.eu/tadirah/visualAnalysis</td>\n",
       "    </tr>\n",
       "    <tr>\n",
       "      <th>1149</th>\n",
       "      <td>181970</td>\n",
       "      <td>tadirah2</td>\n",
       "      <td>Data Desk</td>\n",
       "      <td>Analyzing</td>\n",
       "      <td>https://vocabs.dariah.eu/tadirah/analyzing</td>\n",
       "    </tr>\n",
       "    <tr>\n",
       "      <th>1150</th>\n",
       "      <td>181971</td>\n",
       "      <td>tadirah2</td>\n",
       "      <td>Data Desk</td>\n",
       "      <td>Visual Analysis</td>\n",
       "      <td>https://vocabs.dariah.eu/tadirah/visualAnalysis</td>\n",
       "    </tr>\n",
       "    <tr>\n",
       "      <th>1274</th>\n",
       "      <td>182540</td>\n",
       "      <td>tadirah2</td>\n",
       "      <td>DfR Browser</td>\n",
       "      <td>Analyzing</td>\n",
       "      <td>https://vocabs.dariah.eu/tadirah/analyzing</td>\n",
       "    </tr>\n",
       "  </tbody>\n",
       "</table>\n",
       "</div>"
      ],
      "text/plain": [
       "          id concept.vocabulary.code        label    concept.label  \\\n",
       "1098  179016                tadirah2    Cytoscape        Analyzing   \n",
       "1099  179017                tadirah2    Cytoscape  Visual Analysis   \n",
       "1149  181970                tadirah2    Data Desk        Analyzing   \n",
       "1150  181971                tadirah2    Data Desk  Visual Analysis   \n",
       "1274  182540                tadirah2  DfR Browser        Analyzing   \n",
       "\n",
       "                                          concept.uri  \n",
       "1098       https://vocabs.dariah.eu/tadirah/analyzing  \n",
       "1099  https://vocabs.dariah.eu/tadirah/visualAnalysis  \n",
       "1149       https://vocabs.dariah.eu/tadirah/analyzing  \n",
       "1150  https://vocabs.dariah.eu/tadirah/visualAnalysis  \n",
       "1274       https://vocabs.dariah.eu/tadirah/analyzing  "
      ]
     },
     "execution_count": 414,
     "metadata": {},
     "output_type": "execute_result"
    }
   ],
   "source": [
    "dupl_prop=tad_prop_cd_work[tad_prop_cd_work.duplicated(['label','concept.label'], keep='last')]\n",
    "dupl_prop.head().sort_values(['label', 'concept.label'])"
   ]
  },
  {
   "cell_type": "code",
   "execution_count": 415,
   "metadata": {},
   "outputs": [
    {
     "data": {
      "text/plain": [
       "id                         18\n",
       "concept.vocabulary.code    18\n",
       "label                      18\n",
       "concept.label              18\n",
       "concept.uri                18\n",
       "dtype: int64"
      ]
     },
     "execution_count": 415,
     "metadata": {},
     "output_type": "execute_result"
    }
   ],
   "source": [
    "dupl_prop.count()"
   ]
  },
  {
   "cell_type": "code",
   "execution_count": 411,
   "metadata": {},
   "outputs": [
    {
     "data": {
      "text/plain": [
       "id                         3144\n",
       "concept.vocabulary.code    3144\n",
       "label                      3144\n",
       "concept.label              3144\n",
       "concept.uri                3144\n",
       "dtype: int64"
      ]
     },
     "execution_count": 411,
     "metadata": {},
     "output_type": "execute_result"
    }
   ],
   "source": [
    "cleaned_prop=tad_prop_cd_work.drop_duplicates(['label','concept.label'])\n",
    "cleaned_prop.count()"
   ]
  },
  {
   "cell_type": "code",
   "execution_count": 418,
   "metadata": {},
   "outputs": [
    {
     "data": {
      "text/html": [
       "<div>\n",
       "<style scoped>\n",
       "    .dataframe tbody tr th:only-of-type {\n",
       "        vertical-align: middle;\n",
       "    }\n",
       "\n",
       "    .dataframe tbody tr th {\n",
       "        vertical-align: top;\n",
       "    }\n",
       "\n",
       "    .dataframe thead th {\n",
       "        text-align: right;\n",
       "    }\n",
       "</style>\n",
       "<table border=\"1\" class=\"dataframe\">\n",
       "  <thead>\n",
       "    <tr style=\"text-align: right;\">\n",
       "      <th></th>\n",
       "      <th>label</th>\n",
       "      <th>properties</th>\n",
       "    </tr>\n",
       "  </thead>\n",
       "  <tbody>\n",
       "    <tr>\n",
       "      <th>0</th>\n",
       "      <td>\"On the record\" - transcribing and valorizing qualitative interviews with XML-TEI</td>\n",
       "      <td>[Transcribing, Encoding, Annotating]</td>\n",
       "    </tr>\n",
       "    <tr>\n",
       "      <th>1</th>\n",
       "      <td>140kit</td>\n",
       "      <td>[Capturing, Gathering, Analyzing, Visual Analysis]</td>\n",
       "    </tr>\n",
       "    <tr>\n",
       "      <th>2</th>\n",
       "      <td>4th Dimension</td>\n",
       "      <td>[Web Development, Programming, Writing]</td>\n",
       "    </tr>\n",
       "    <tr>\n",
       "      <th>3</th>\n",
       "      <td>80legs</td>\n",
       "      <td>[Discovering, Analyzing]</td>\n",
       "    </tr>\n",
       "    <tr>\n",
       "      <th>4</th>\n",
       "      <td>960 Grid System</td>\n",
       "      <td>[Creating, Web Development]</td>\n",
       "    </tr>\n",
       "  </tbody>\n",
       "</table>\n",
       "</div>"
      ],
      "text/plain": [
       "                                                                               label  \\\n",
       "0  \"On the record\" - transcribing and valorizing qualitative interviews with XML-TEI   \n",
       "1                                                                             140kit   \n",
       "2                                                                      4th Dimension   \n",
       "3                                                                             80legs   \n",
       "4                                                                    960 Grid System   \n",
       "\n",
       "                                           properties  \n",
       "0                [Transcribing, Encoding, Annotating]  \n",
       "1  [Capturing, Gathering, Analyzing, Visual Analysis]  \n",
       "2             [Web Development, Programming, Writing]  \n",
       "3                            [Discovering, Analyzing]  \n",
       "4                         [Creating, Web Development]  "
      ]
     },
     "execution_count": 418,
     "metadata": {},
     "output_type": "execute_result"
    }
   ],
   "source": [
    "test_prop=cleaned_prop.groupby('label')['concept.label'].apply(list).reset_index(name='properties')\n",
    "test_prop.sort_values('label').head()"
   ]
  },
  {
   "cell_type": "code",
   "execution_count": 419,
   "metadata": {},
   "outputs": [
    {
     "name": "stdout",
     "output_type": "stream",
     "text": [
      "There are 59 unique properties in the MP dataset.\n"
     ]
    }
   ],
   "source": [
    "properties_counter = Counter(itertools.chain(*test_prop['properties']))\n",
    "print('There are {} unique properties in the MP dataset.'.format(len(properties_counter)))"
   ]
  },
  {
   "cell_type": "code",
   "execution_count": 467,
   "metadata": {},
   "outputs": [
    {
     "name": "stdout",
     "output_type": "stream",
     "text": [
      "Top properties by Frequency \n",
      "\n",
      "Property                                Frequency\n",
      "Analyzing                               567\n",
      "Visual Analysis                         300\n",
      "Content Analysis                        225\n",
      "Discovering                             171\n",
      "Capturing                               150\n",
      "Enriching                               121\n",
      "Gathering                               116\n",
      "Annotating                              112\n",
      "Disseminating                           111\n",
      "Publishing                              87\n"
     ]
    }
   ],
   "source": [
    "print(\"Top properties by Frequency\", '\\n')\n",
    "print('{:<40}Frequency'.format(\"Property\"))\n",
    "for k, v in properties_counter.most_common(10):\n",
    "    print(f'{k:<40}{v}')"
   ]
  },
  {
   "cell_type": "code",
   "execution_count": 468,
   "metadata": {},
   "outputs": [],
   "source": [
    "#print('\\nMedian Property Freqency:')\n",
    "#print(np.median(list(properties_counter.values())))"
   ]
  },
  {
   "cell_type": "code",
   "execution_count": 422,
   "metadata": {},
   "outputs": [],
   "source": [
    "cooccurrences = []\n",
    "\n",
    "for props in test_prop['properties']:\n",
    "    prop_pairs = itertools.combinations(props, 2)\n",
    "    for pair in prop_pairs:\n",
    "        cooccurrences.append(tuple(sorted(pair)))\n",
    "\n",
    "# Count the frequency of each cooccurring pair.\n",
    "properties_co_counter = Counter(cooccurrences)"
   ]
  },
  {
   "cell_type": "code",
   "execution_count": 426,
   "metadata": {},
   "outputs": [
    {
     "name": "stdout",
     "output_type": "stream",
     "text": [
      "Top Properties Cooccurrences by Frequency \n",
      "\n",
      "Cooccurrence                                                          Frequency\n",
      "Analyzing +++ Visual Analysis                                         247\n",
      "Analyzing +++ Content Analysis                                        214\n",
      "Analyzing +++ Discovering                                             114\n",
      "Capturing +++ Gathering                                               91\n",
      "Analyzing +++ Capturing                                               66\n",
      "Analyzing +++ Network Analysis                                        64\n",
      "Annotating +++ Enriching                                              58\n",
      "Analyzing +++ Gathering                                               54\n",
      "Collaborating +++ Disseminating                                       53\n",
      "Discovering +++ Visual Analysis                                       52\n",
      "\n",
      "Median Property Cooccurrence Freqency:\n",
      "4.0\n"
     ]
    }
   ],
   "source": [
    "print(\"Top Properties Cooccurrences by Frequency\", '\\n')\n",
    "print('{:<70}{}'.format('Cooccurrence', 'Frequency'))\n",
    "for k, v in properties_co_counter.most_common(10):\n",
    "    topics = k[0] + ' +++ ' + k[1]\n",
    "    print(f'{topics:<70}{v}')\n",
    "    \n",
    "print('\\nMedian Property Cooccurrence Freqency:')\n",
    "print(np.median(list(properties_co_counter.values())))"
   ]
  },
  {
   "cell_type": "code",
   "execution_count": 445,
   "metadata": {},
   "outputs": [],
   "source": [
    "property_cooccurrences = list(\n",
    "    itertools.chain(*[[tuple(sorted(c)) for c in itertools.combinations(d, 2)] \n",
    "                      for d in test_prop['properties']])\n",
    ")\n",
    "# Count the frequency of each cooccurring pair.\n",
    "property_edge_counter = Counter(property_cooccurrences)"
   ]
  },
  {
   "cell_type": "code",
   "execution_count": 446,
   "metadata": {},
   "outputs": [],
   "source": [
    "property_cooccurrence_df = pd.DataFrame({\n",
    "    'prop0': [dcc[0] for dcc in property_edge_counter.keys()],\n",
    "    'prop1': [dcc[1] for dcc in property_edge_counter.keys()],\n",
    "    'count': list(property_edge_counter.values()),\n",
    "}).pivot_table(index='prop0', columns='prop1')['count']"
   ]
  },
  {
   "cell_type": "code",
   "execution_count": 447,
   "metadata": {},
   "outputs": [],
   "source": [
    "import seaborn as sns"
   ]
  },
  {
   "cell_type": "code",
   "execution_count": 464,
   "metadata": {},
   "outputs": [
    {
     "data": {
      "image/png": "[encoded data removed]",
      "text/plain": [
       "<Figure size 1584x1296 with 1 Axes>"
      ]
     },
     "metadata": {
      "needs_background": "light"
     },
     "output_type": "display_data"
    }
   ],
   "source": [
    "fig, ax = plt.subplots(figsize=(22, 18))\n",
    "sns.heatmap(property_cooccurrence_df, annot=True, linewidth=0.5, fmt='.0f', ax=ax, cbar=None, cmap='Blues')\n",
    "ax.set_xticklabels(ax.get_xticklabels(), rotation=30, ha='right')\n",
    "ax.set_yticklabels(ax.get_yticklabels(), rotation=0)\n",
    "ax.invert_yaxis()\n",
    "ax.set_xlabel(None)\n",
    "ax.set_ylabel(None)\n",
    "#ax.set_title('Property cooccurences in Tools and Services')\n",
    "title = 'Correlation Matrix: Properties in Tools and Services\\n'\n",
    "plt.title(title, loc='left', fontsize=18)\n",
    "plt.show()"
   ]
  },
  {
   "cell_type": "code",
   "execution_count": null,
   "metadata": {
    "collapsed": true
   },
   "outputs": [],
   "source": []
  }
 ],
 "metadata": {
  "kernelspec": {
   "display_name": "Python 3",
   "language": "python",
   "name": "python3"
  },
  "language_info": {
   "codemirror_mode": {
    "name": "ipython",
    "version": 3
   },
   "file_extension": ".py",
   "mimetype": "text/x-python",
   "name": "python",
   "nbconvert_exporter": "python",
   "pygments_lexer": "ipython3",
   "version": "3.7.7"
  }
 },
 "nbformat": 4,
 "nbformat_minor": 2
}
