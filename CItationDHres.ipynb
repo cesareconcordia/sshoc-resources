{
 "cells": [
  {
   "cell_type": "markdown",
   "metadata": {},
   "source": [
    "## Using DH Conference papers to extract citations\n",
    "\n",
    "This notebook presents some basic results obtained extracting citations from the abstracts of all (ADHO) DH conferences from 2015 to 2020 and  from DhQ journal articles. The dataset is available [here](https://github.com/lehkost/ToolXtractor/)"
   ]
  },
  {
   "cell_type": "markdown",
   "metadata": {},
   "source": [
    "### Preamble"
   ]
  },
  {
   "cell_type": "code",
   "execution_count": 1,
   "metadata": {},
   "outputs": [],
   "source": [
    "import ast\n",
    "import sys\n",
    "import numpy as np\n",
    "import pandas as pd\n",
    "import matplotlib.pyplot as plt\n",
    "\n",
    "from bokeh.io import output_notebook, show\n",
    "from bokeh.plotting import figure\n",
    "from bs4 import BeautifulSoup"
   ]
  },
  {
   "cell_type": "code",
   "execution_count": 2,
   "metadata": {},
   "outputs": [],
   "source": [
    "def read_tei(tei_file):\n",
    "    with open(tei_file, 'r') as tei:\n",
    "        soup = BeautifulSoup(tei, 'lxml')\n",
    "        return soup\n",
    "    raise RuntimeError('Cannot generate a soup from the input')"
   ]
  },
  {
   "cell_type": "code",
   "execution_count": null,
   "metadata": {},
   "outputs": [],
   "source": [
    "def elem_to_text(elem, default=''):\n",
    "    if elem:\n",
    "        return elem.getText(separator=' ', strip=True)\n",
    "    else:\n",
    "        return default"
   ]
  },
  {
   "cell_type": "code",
   "execution_count": 4,
   "metadata": {},
   "outputs": [],
   "source": [
    "from dataclasses import dataclass\n",
    "\n",
    "@dataclass\n",
    "class Person:\n",
    "    firstname: str\n",
    "    middlename: str\n",
    "    surname: str"
   ]
  },
  {
   "cell_type": "code",
   "execution_count": 5,
   "metadata": {},
   "outputs": [],
   "source": [
    "class TEIFile(object):\n",
    "    def __init__(self, filename):\n",
    "        self.filename = filename\n",
    "        self.soup = read_tei(filename)\n",
    "        self._text = None\n",
    "        self._title = ''\n",
    "        self._abstract = ''\n",
    "\n",
    "    @property\n",
    "    def doi(self):\n",
    "        idno_elem = self.soup.find('idno', type='DOI')\n",
    "        if not idno_elem:\n",
    "            return ''\n",
    "        else:\n",
    "            return idno_elem.getText()\n",
    "\n",
    "    @property\n",
    "    def title(self):\n",
    "        if not self._title:\n",
    "            if  not self.soup.title:\n",
    "                self._title = \"na\"\n",
    "            else:\n",
    "                self._title = self.soup.title.getText()\n",
    "        return self._title\n",
    "\n",
    "    @property\n",
    "    def abstract(self):\n",
    "        if not self._abstract:\n",
    "            abstract = self.soup.abstract.getText(separator=' ', strip=True)\n",
    "            self._abstract = abstract\n",
    "        return self._abstract\n",
    "\n",
    "    @property\n",
    "    def authors(self):\n",
    "        #authors_in_header = self.soup.analytic.find_all('author')\n",
    "        authors_in_header = self.soup.find_all('author')\n",
    "\n",
    "        result = []\n",
    "        for author in authors_in_header:\n",
    "            persname = author.persname\n",
    "            if not persname:\n",
    "                continue\n",
    "            firstname = elem_to_text(persname.find(\"forename\"))#, type=\"first\"))\n",
    "            middlename = elem_to_text(persname.find(\"forename\", type=\"middle\"))\n",
    "            surname = elem_to_text(persname.surname)\n",
    "            person = Person(firstname, middlename, surname)\n",
    "            result.append(person)\n",
    "        return result\n",
    "    \n",
    "    @property\n",
    "    def bibliography(self):\n",
    "        bibliography = self.soup.find_all('bibl')\n",
    "        result = []\n",
    "        for bibl in bibliography:\n",
    "            if not bibl:\n",
    "                continue\n",
    "            \n",
    "            result.append(elem_to_text(bibl))\n",
    "        return result\n",
    "    \n",
    "    @property\n",
    "    def text(self):\n",
    "        if not self._text:\n",
    "            divs_text = []\n",
    "            for div in self.soup.body.find_all(\"div\"):\n",
    "                # div is neither an appendix nor references, just plain text.\n",
    "                if not div.get(\"type\"):\n",
    "                    div_text = div.get_text(separator=' ', strip=True)\n",
    "                    divs_text.append(div_text)\n",
    "\n",
    "            plain_text = \" \".join(divs_text)\n",
    "            self._text = plain_text\n",
    "        return self._text"
   ]
  },
  {
   "cell_type": "code",
   "execution_count": 19,
   "metadata": {},
   "outputs": [],
   "source": [
    "def get_citation_cn (df_dois_values, default=''):\n",
    "    df_cn_citations = pd.DataFrame (columns = ['doi','cn_citation']);\n",
    "    import requests;\n",
    "    headers_dict = {\"Accept\": \"text/x-bibliography\", \"locale\":\"en-EN\"};\n",
    "    for vard in df_orig_dois_values:\n",
    "        if ( vard != \"\" and vard!=None):\n",
    "            print(vard)\n",
    "            try:\n",
    "                rd =requests.get(\"http://doi.org/\"+vard, headers=headers_dict, timeout=20)\n",
    "                # print(\"result: \"+r.content.decode(\"utf-8\"))\n",
    "                if ('DOI Not Found'in rd.text):\n",
    "                    df_cn_citations = df_cn_citations.append({'doi': vard, 'cn_citation': 'Not Found'}, ignore_index=True)\n",
    "                else:\n",
    "                    df_cn_citations = df_cn_citations.append({'doi': vard, 'cn_citation': rd.content.decode(\"latin-1\")}, ignore_index=True)\n",
    "            except requests.exceptions.ConnectionError:\n",
    "              #  print(var)\n",
    "                df_cn_citations = df_cn_citations.append({'doi': vard, 'cn_citation': int(503)}, ignore_index=True)\n",
    "            except requests.exceptions.ConnectTimeout:\n",
    "              #  print(var)\n",
    "                df_cn_citations = df_cn_citations.append({'doi': vard, 'cn_citation': int(408)}, ignore_index=True)\n",
    "            except requests.exceptions.ReadTimeout:\n",
    "                df_cn_citations = df_cn_citations.append({'doi': vard, 'cn_citation': int(408)}, ignore_index=True)\n",
    "        else:\n",
    "           # print(var ,0)\n",
    "            df_cn_citations = df_cn_citations.append({'doi': 'none', 'cn_citation': int(400)}, ignore_index=True)\n",
    "    return df_cn_citations"
   ]
  },
  {
   "cell_type": "code",
   "execution_count": 70,
   "metadata": {},
   "outputs": [],
   "source": [
    "def get_citation_from_SSHOC (df_dois_values, default=''):\n",
    "    df_cn_citations = pd.DataFrame (columns = ['doi','cn_citation']);\n",
    "    import requests;\n",
    "    #headers_dict = {\"Accept\": \"text/x-bibliography\", \"locale\":\"en-EN\"};\n",
    "    for vard in df_dois_values:\n",
    "        if ( vard != \"\" and vard!=None):\n",
    "            print(vard)\n",
    "            try:\n",
    "                rd =requests.get(\"http://v4e-lab.isti.cnr.it/citationservice/citharvester/getmetadatahtml?pid=https://doi.org/\"+vard+\"&token=test\", timeout=75)\n",
    "                #print(\"result: \"+rd.content.decode(\"latin-1\"))\n",
    "                if ('DOI Not Found'in rd.text):\n",
    "                    df_cn_citations = df_cn_citations.append({'doi': vard, 'cn_citation': 'Not Found'}, ignore_index=True)\n",
    "                else:\n",
    "                    df_cn_citations = df_cn_citations.append({'doi': vard, 'cn_citation': rd.content.decode(\"latin-1\")}, ignore_index=True)\n",
    "            except requests.exceptions.ConnectionError:\n",
    "              #  print(var)\n",
    "                df_cn_citations = df_cn_citations.append({'doi': vard, 'cn_citation': int(503)}, ignore_index=True)\n",
    "            except requests.exceptions.ConnectTimeout:\n",
    "              #  print(var)\n",
    "                df_cn_citations = df_cn_citations.append({'doi': vard, 'cn_citation': int(408)}, ignore_index=True)\n",
    "            except requests.exceptions.ReadTimeout:\n",
    "                df_cn_citations = df_cn_citations.append({'doi': vard, 'cn_citation': int(408)}, ignore_index=True)\n",
    "        else:\n",
    "           # print(var ,0)\n",
    "            df_cn_citations = df_cn_citations.append({'doi': 'none', 'cn_citation': int(400)}, ignore_index=True)\n",
    "    return df_cn_citations"
   ]
  },
  {
   "cell_type": "code",
   "execution_count": 6,
   "metadata": {},
   "outputs": [],
   "source": [
    "import multiprocessing"
   ]
  },
  {
   "cell_type": "code",
   "execution_count": 7,
   "metadata": {},
   "outputs": [],
   "source": [
    "from os.path import basename, splitext\n",
    "\n",
    "def basename_without_ext(path):\n",
    "    base_name = basename(path)\n",
    "    stem, ext = splitext(base_name)\n",
    "    if stem.endswith('.tei'):\n",
    "        # Return base name without tei file\n",
    "        return stem[0:-4]\n",
    "    else:\n",
    "        return stem"
   ]
  },
  {
   "cell_type": "code",
   "execution_count": 8,
   "metadata": {},
   "outputs": [],
   "source": [
    "def tei_to_csv_entry(tei_file):\n",
    "    tei = TEIFile(tei_file)\n",
    "    print(f\"Handled {tei_file}\")\n",
    "    base_name = basename_without_ext(tei_file)\n",
    "    return base_name, tei.authors, tei.title, tei.bibliography#, tei.abstract"
   ]
  },
  {
   "cell_type": "code",
   "execution_count": null,
   "metadata": {},
   "outputs": [],
   "source": [
    "from multiprocessing.pool import Pool\n",
    "pool = Pool()"
   ]
  },
  {
   "cell_type": "markdown",
   "metadata": {},
   "source": [
    "### Import the DH conference abstracts (2016-20020) and Dhq articles\n",
    "\n",
    "The dataset is downloaded from https://github.com/lehkost/ToolXtractor/"
   ]
  },
  {
   "cell_type": "code",
   "execution_count": 9,
   "metadata": {},
   "outputs": [],
   "source": [
    "import glob\n",
    "from pathlib import Path\n",
    "papers15 = sorted(Path(\"/Users/cesare/git/SSHOCCitationService/dataset/ToolXtractor/data/DH/xml/2015/\").glob('*.xml'))\n",
    "papers16 = sorted(Path(\"/Users/cesare/git/SSHOCCitationService/dataset/ToolXtractor/data/DH/xml/2016/\").glob('*.xml'))\n",
    "papers17 = sorted(Path(\"/Users/cesare/git/SSHOCCitationService/dataset/ToolXtractor/data/DH/xml/2017/\").glob('*.xml'))\n",
    "papers18 = sorted(Path(\"/Users/cesare/git/SSHOCCitationService/dataset/ToolXtractor/data/DH/xml/2018/\").glob('*.xml'))\n",
    "papers19 = sorted(Path(\"/Users/cesare/git/SSHOCCitationService/dataset/ToolXtractor/data/DH/xml/2019/\").glob('*.xml'))\n",
    "papers20 = sorted(Path(\"/Users/cesare/git/SSHOCCitationService/dataset/ToolXtractor/data/DH/xml/2020/\").glob('*.xml'))\n",
    "papersdhq = sorted(Path(\"/Users/cesare/git/SSHOCCitationService/dataset/ToolXtractor/data/DHQ/\").glob('*.xml'))"
   ]
  },
  {
   "cell_type": "code",
   "execution_count": 11,
   "metadata": {},
   "outputs": [],
   "source": [
    "csv_entries15 = pool.map(tei_to_csv_entry, papers15)\n",
    "csv_entries16 = pool.map(tei_to_csv_entry, papers16)\n",
    "csv_entries17 = pool.map(tei_to_csv_entry, papers17)\n",
    "csv_entries18 = pool.map(tei_to_csv_entry, papers18)\n",
    "csv_entries19 = pool.map(tei_to_csv_entry, papers19)\n",
    "csv_entries20 = pool.map(tei_to_csv_entry, papers20)\n",
    "csv_entriesdhq=pool.map(tei_to_csv_entry, papersdhq)"
   ]
  },
  {
   "cell_type": "code",
   "execution_count": 12,
   "metadata": {},
   "outputs": [
    {
     "data": {
      "text/plain": [
       "ID              2788\n",
       "Authors         2788\n",
       "Title           2788\n",
       "Bibliography    2788\n",
       "dtype: int64"
      ]
     },
     "execution_count": 12,
     "metadata": {},
     "output_type": "execute_result"
    }
   ],
   "source": [
    "result_csv0 = pd.DataFrame(csv_entries15, columns=['ID', 'Authors', 'Title', 'Bibliography'])\n",
    "result_csv1 = result_csv0.append(pd.DataFrame(csv_entries16, columns=['ID', 'Authors', 'Title', 'Bibliography']))\n",
    "result_csv2 = result_csv1.append(pd.DataFrame(csv_entries17, columns=['ID', 'Authors', 'Title', 'Bibliography']))\n",
    "result_csv3 = result_csv2.append(pd.DataFrame(csv_entries18, columns=['ID', 'Authors', 'Title', 'Bibliography']))\n",
    "result_csv4 = result_csv3.append(pd.DataFrame(csv_entries19, columns=['ID', 'Authors', 'Title', 'Bibliography']))\n",
    "result_csv5 = result_csv4.append(pd.DataFrame(csv_entries20, columns=['ID', 'Authors', 'Title', 'Bibliography']))\n",
    "result_csv = result_csv5.append(pd.DataFrame(csv_entriesdhq, columns=['ID', 'Authors', 'Title', 'Bibliography']))\n",
    "result_csv.count()"
   ]
  },
  {
   "cell_type": "markdown",
   "metadata": {},
   "source": [
    "### Select the papers having the TEI \\<bibl\\>   elements.\n",
    "\n",
    "The dataset contains 2788 documents structured according TEI document model.\n",
    "\n",
    "These documents are parsed to individuate those having the \\<bibl\\> (bibliographic citation) element, this element  contains a loosely-structured bibliographic citation of which the sub-components may or may not be explicitly tagged. There are 1624 documents having this element."
   ]
  },
  {
   "cell_type": "code",
   "execution_count": 13,
   "metadata": {},
   "outputs": [
    {
     "data": {
      "text/plain": [
       "ID              1624\n",
       "Authors         1624\n",
       "Title           1624\n",
       "Bibliography    1624\n",
       "dtype: int64"
      ]
     },
     "execution_count": 13,
     "metadata": {},
     "output_type": "execute_result"
    }
   ],
   "source": [
    "test_csv=result_csv[result_csv['Bibliography'].str.len()>0]\n",
    "test_csv.count()"
   ]
  },
  {
   "cell_type": "code",
   "execution_count": 14,
   "metadata": {},
   "outputs": [
    {
     "data": {
      "text/plain": [
       "ID              26028\n",
       "Title           26028\n",
       "Bibliography    26028\n",
       "dtype: int64"
      ]
     },
     "execution_count": 14,
     "metadata": {},
     "output_type": "execute_result"
    }
   ],
   "source": [
    "# all citations\n",
    "my_df=test_csv[['ID','Title','Bibliography']]\n",
    "my_exp_df=my_df.explode('Bibliography')\n",
    "my_exp_df.count()"
   ]
  },
  {
   "cell_type": "markdown",
   "metadata": {},
   "source": [
    "The total number of citations individuated in the dataset is 26028."
   ]
  },
  {
   "cell_type": "markdown",
   "metadata": {},
   "source": [
    "### Find citations having a DOI\n",
    "Regular expressions are used to parse all citations in order to individuate those having a DOI: there are 1162 (on 26028) citations with a DOI."
   ]
  },
  {
   "cell_type": "code",
   "execution_count": 116,
   "metadata": {},
   "outputs": [
    {
     "data": {
      "text/plain": [
       "Reference    1162\n",
       "DOI          1162\n",
       "dtype: int64"
      ]
     },
     "execution_count": 116,
     "metadata": {},
     "output_type": "execute_result"
    }
   ],
   "source": [
    "import re\n",
    "regex = re.compile(r'\\b(10[.][0-9]{4,}(?:[.][0-9]+)*/(?:(?![\"&\\'<>])\\S)+)\\b', re.IGNORECASE)\n",
    "df_refs=my_exp_df.Bibliography.values\n",
    "df_refs_with_doi = pd.DataFrame(columns=[\"Reference\", \"DOI\"])\n",
    "references=[]\n",
    "DOIs=[]\n",
    "for reference in df_refs:\n",
    "    mydoi=re.search(regex, reference)\n",
    "    if mydoi:\n",
    "        references.append(reference);\n",
    "        DOIs.append(mydoi[1]);\n",
    "df_refs_with_doi['Reference']=references;\n",
    "df_refs_with_doi['DOI']=DOIs;\n",
    "df_refs_with_doi.drop_duplicates(inplace=True)\n",
    "df_refs_with_doi.count()"
   ]
  },
  {
   "cell_type": "code",
   "execution_count": 27,
   "metadata": {},
   "outputs": [
    {
     "data": {
      "text/html": [
       "<style  type=\"text/css\" >\n",
       "#T_296b3c6e_5b14_11eb_a765_60f81dca6224row0_col0,#T_296b3c6e_5b14_11eb_a765_60f81dca6224row1_col0,#T_296b3c6e_5b14_11eb_a765_60f81dca6224row2_col0,#T_296b3c6e_5b14_11eb_a765_60f81dca6224row3_col0,#T_296b3c6e_5b14_11eb_a765_60f81dca6224row4_col0{\n",
       "            width:  600px;\n",
       "        }</style><table id=\"T_296b3c6e_5b14_11eb_a765_60f81dca6224\" ><thead>    <tr>        <th class=\"blank level0\" ></th>        <th class=\"col_heading level0 col0\" >Reference</th>        <th class=\"col_heading level0 col1\" >DOI</th>    </tr></thead><tbody>\n",
       "                <tr>\n",
       "                        <th id=\"T_296b3c6e_5b14_11eb_a765_60f81dca6224level0_row0\" class=\"row_heading level0 row0\" >0</th>\n",
       "                        <td id=\"T_296b3c6e_5b14_11eb_a765_60f81dca6224row0_col0\" class=\"data row0 col0\" >Byrne, G., and Goddard, L. (2010). The Strongest Link: Libraries and Linked Data. D-Lib Magazine , 16 (11/12), doi:10.1045/november2010-byrne.</td>\n",
       "                        <td id=\"T_296b3c6e_5b14_11eb_a765_60f81dca6224row0_col1\" class=\"data row0 col1\" >10.1045/november2010-byrne</td>\n",
       "            </tr>\n",
       "            <tr>\n",
       "                        <th id=\"T_296b3c6e_5b14_11eb_a765_60f81dca6224level0_row1\" class=\"row_heading level0 row1\" >1</th>\n",
       "                        <td id=\"T_296b3c6e_5b14_11eb_a765_60f81dca6224row1_col0\" class=\"data row1 col0\" >Lampert, C. K., and Southwick, S. B. (2013). Leading to Linking: Introducing Linked Data to Academic Library Digital Collections. Journal of Library Metadata , 13 (2–3): 230–53, doi:10.1080/19386389.2013.826095.</td>\n",
       "                        <td id=\"T_296b3c6e_5b14_11eb_a765_60f81dca6224row1_col1\" class=\"data row1 col1\" >10.1080/19386389.2013.826095</td>\n",
       "            </tr>\n",
       "            <tr>\n",
       "                        <th id=\"T_296b3c6e_5b14_11eb_a765_60f81dca6224level0_row2\" class=\"row_heading level0 row2\" >2</th>\n",
       "                        <td id=\"T_296b3c6e_5b14_11eb_a765_60f81dca6224row2_col0\" class=\"data row2 col0\" >Singer, R. (2009). Linked Library Data Now! Journal of Electronic Resources Librarianship , 21 (2): 114–26, doi:10.1080/19411260903035809.</td>\n",
       "                        <td id=\"T_296b3c6e_5b14_11eb_a765_60f81dca6224row2_col1\" class=\"data row2 col1\" >10.1080/19411260903035809</td>\n",
       "            </tr>\n",
       "            <tr>\n",
       "                        <th id=\"T_296b3c6e_5b14_11eb_a765_60f81dca6224level0_row3\" class=\"row_heading level0 row3\" >3</th>\n",
       "                        <td id=\"T_296b3c6e_5b14_11eb_a765_60f81dca6224row3_col0\" class=\"data row3 col0\" >Thomas, L. and Solomon, D. (2014). Active Users: Project Development and Digital Humanities Pedagogy. CEA Critic, 76 (2) (July): 211–20, DOI:10.1353/cea.2014.0014.</td>\n",
       "                        <td id=\"T_296b3c6e_5b14_11eb_a765_60f81dca6224row3_col1\" class=\"data row3 col1\" >10.1353/cea.2014.0014</td>\n",
       "            </tr>\n",
       "            <tr>\n",
       "                        <th id=\"T_296b3c6e_5b14_11eb_a765_60f81dca6224level0_row4\" class=\"row_heading level0 row4\" >4</th>\n",
       "                        <td id=\"T_296b3c6e_5b14_11eb_a765_60f81dca6224row4_col0\" class=\"data row4 col0\" >Farquhar, A. and Baker, J. (2014). Interoperable Infrastructures for Digital Research: A Proposed Pathway for Enabling Transformation. Digital Humanities 2014, http://dx.doi.org/10.6084/m9.figshare.1092550%20.</td>\n",
       "                        <td id=\"T_296b3c6e_5b14_11eb_a765_60f81dca6224row4_col1\" class=\"data row4 col1\" >10.6084/m9.figshare.1092550%20</td>\n",
       "            </tr>\n",
       "    </tbody></table>"
      ],
      "text/plain": [
       "<pandas.io.formats.style.Styler at 0x123bc7d90>"
      ]
     },
     "execution_count": 27,
     "metadata": {},
     "output_type": "execute_result"
    }
   ],
   "source": [
    "#Example: five citations that have DOIs\n",
    "df_refs_with_doi.head()\n",
    "df_refs_with_doi.head().style.set_properties(subset=['Reference'], **{'width': '600px'})"
   ]
  },
  {
   "cell_type": "markdown",
   "metadata": {},
   "source": [
    "### Check DOIs: HTTP return status\n",
    "\n",
    "All DOIs are invoked and the HTTP return status is captured."
   ]
  },
  {
   "cell_type": "code",
   "execution_count": null,
   "metadata": {},
   "outputs": [],
   "source": [
    "df_urls=df_refs_with_doi.DOI.values\n",
    "df_http_status = pd.DataFrame (columns = ['DOI','status'])\n",
    "import requests\n",
    "for var in df_urls:\n",
    "    #print(var)\n",
    "    if ( var != \"\"):\n",
    "        try:\n",
    "            r =requests.get(\"https://doi.org/\"+var,timeout=18)\n",
    "            print(\"result: \"+var+ \" \",r.status_code)\n",
    "            df_http_status = df_http_status.append({'DOI': var, 'status': int(r.status_code)}, ignore_index=True)\n",
    "        except requests.exceptions.ConnectionError:\n",
    "          #  print(var)\n",
    "            df_http_status = df_http_status.append({'DOI': var, 'status': int(503)}, ignore_index=True)\n",
    "        except requests.exceptions.ConnectTimeout:\n",
    "          #  print(var)\n",
    "            df_http_status = df_http_status.append({'DOI': var, 'status': int(408)}, ignore_index=True)\n",
    "        except requests.exceptions.ReadTimeout:\n",
    "         #   print(var)\n",
    "            df_http_status = df_http_status.append({'DOI': var, 'status': int(408)}, ignore_index=True)\n",
    "        except requests.exceptions.RequestException:\n",
    "         #   print(var)\n",
    "            df_http_status = df_http_status.append({'DOI': var, 'status': int(500)}, ignore_index=True)\n",
    "        except TypeError:\n",
    "        #    print(var)\n",
    "            df_http_status = df_http_status.append({'DOI': var, 'status': int(400)}, ignore_index=True)\n",
    "    else:\n",
    "       # print(var ,0)\n",
    "        df_http_status = df_http_status.append({'DOI': var, 'status': int(400)}, ignore_index=True)\n",
    "df_http_status.head()"
   ]
  },
  {
   "cell_type": "markdown",
   "metadata": {},
   "source": [
    "### HTTP Return Status: 404 not found\n",
    "\n",
    "There are 30 DOIs that returns 404"
   ]
  },
  {
   "cell_type": "code",
   "execution_count": 135,
   "metadata": {},
   "outputs": [
    {
     "data": {
      "text/plain": [
       "DOI          30\n",
       "status       30\n",
       "Reference    30\n",
       "dtype: int64"
      ]
     },
     "execution_count": 135,
     "metadata": {},
     "output_type": "execute_result"
    }
   ],
   "source": [
    "df_404=df_http_status[df_http_status['status'] == 404]\n",
    "test=df_404.join(df_refs_with_doi.set_index('DOI'), on='DOI')\n",
    "test.drop_duplicates(subset='DOI', keep='first').count()"
   ]
  },
  {
   "cell_type": "code",
   "execution_count": 133,
   "metadata": {},
   "outputs": [
    {
     "data": {
      "text/html": [
       "<style  type=\"text/css\" >\n",
       "#T_b8d0845e_5bd7_11eb_a765_60f81dca6224row0_col2,#T_b8d0845e_5bd7_11eb_a765_60f81dca6224row1_col2,#T_b8d0845e_5bd7_11eb_a765_60f81dca6224row2_col2,#T_b8d0845e_5bd7_11eb_a765_60f81dca6224row3_col2,#T_b8d0845e_5bd7_11eb_a765_60f81dca6224row4_col2{\n",
       "            width:  600px;\n",
       "        }</style><table id=\"T_b8d0845e_5bd7_11eb_a765_60f81dca6224\" ><thead>    <tr>        <th class=\"blank level0\" ></th>        <th class=\"col_heading level0 col0\" >DOI</th>        <th class=\"col_heading level0 col1\" >status</th>        <th class=\"col_heading level0 col2\" >Reference</th>    </tr></thead><tbody>\n",
       "                <tr>\n",
       "                        <th id=\"T_b8d0845e_5bd7_11eb_a765_60f81dca6224level0_row0\" class=\"row_heading level0 row0\" >0</th>\n",
       "                        <td id=\"T_b8d0845e_5bd7_11eb_a765_60f81dca6224row0_col0\" class=\"data row0 col0\" >10.1093/llc/fqn03</td>\n",
       "                        <td id=\"T_b8d0845e_5bd7_11eb_a765_60f81dca6224row0_col1\" class=\"data row0 col1\" >404</td>\n",
       "                        <td id=\"T_b8d0845e_5bd7_11eb_a765_60f81dca6224row0_col2\" class=\"data row0 col2\" >Lavagnino, J. (2009). Access. Literary and Linguistic Computing, 24 (1) (April), 10.1093/llc/fqn03, http://llc.oxfordjournals.org/content/24/1/63.full.pdf+html.</td>\n",
       "            </tr>\n",
       "            <tr>\n",
       "                        <th id=\"T_b8d0845e_5bd7_11eb_a765_60f81dca6224level0_row1\" class=\"row_heading level0 row1\" >1</th>\n",
       "                        <td id=\"T_b8d0845e_5bd7_11eb_a765_60f81dca6224row1_col0\" class=\"data row1 col0\" >10.1093/llc/gqv010</td>\n",
       "                        <td id=\"T_b8d0845e_5bd7_11eb_a765_60f81dca6224row1_col1\" class=\"data row1 col1\" >404</td>\n",
       "                        <td id=\"T_b8d0845e_5bd7_11eb_a765_60f81dca6224row1_col2\" class=\"data row1 col2\" >Eder, M. (2015a). Rolling stylometry. Digital Scholarship in the Humanities , 30 , first published online: 7 April 2015, doi: 10.1093/llc/gqv010.</td>\n",
       "            </tr>\n",
       "            <tr>\n",
       "                        <th id=\"T_b8d0845e_5bd7_11eb_a765_60f81dca6224level0_row2\" class=\"row_heading level0 row2\" >2</th>\n",
       "                        <td id=\"T_b8d0845e_5bd7_11eb_a765_60f81dca6224row2_col0\" class=\"data row2 col0\" >10.4000/socio.1338</td>\n",
       "                        <td id=\"T_b8d0845e_5bd7_11eb_a765_60f81dca6224row2_col1\" class=\"data row2 col1\" >404</td>\n",
       "                        <td id=\"T_b8d0845e_5bd7_11eb_a765_60f81dca6224row2_col2\" class=\"data row2 col2\" >Mounier, P. (2015). Une « utopie politique » pour les humanités numériques ?. Socio , 4 : 97–112. doi:10.4000/socio.1338.</td>\n",
       "            </tr>\n",
       "            <tr>\n",
       "                        <th id=\"T_b8d0845e_5bd7_11eb_a765_60f81dca6224level0_row3\" class=\"row_heading level0 row3\" >3</th>\n",
       "                        <td id=\"T_b8d0845e_5bd7_11eb_a765_60f81dca6224row3_col0\" class=\"data row3 col0\" >10.3318/DRI.2012.1</td>\n",
       "                        <td id=\"T_b8d0845e_5bd7_11eb_a765_60f81dca6224row3_col1\" class=\"data row3 col1\" >404</td>\n",
       "                        <td id=\"T_b8d0845e_5bd7_11eb_a765_60f81dca6224row3_col2\" class=\"data row3 col2\" >O’Carroll, Aileen and Webb, Sharon : Digital Archiving in Ireland: National Survey of the Humanities and Social Sciences. Maynooth University (2012) DOI: 10.3318/DRI.2012.1</td>\n",
       "            </tr>\n",
       "            <tr>\n",
       "                        <th id=\"T_b8d0845e_5bd7_11eb_a765_60f81dca6224level0_row4\" class=\"row_heading level0 row4\" >4</th>\n",
       "                        <td id=\"T_b8d0845e_5bd7_11eb_a765_60f81dca6224row4_col0\" class=\"data row4 col0\" >10.9776/13289</td>\n",
       "                        <td id=\"T_b8d0845e_5bd7_11eb_a765_60f81dca6224row4_col1\" class=\"data row4 col1\" >404</td>\n",
       "                        <td id=\"T_b8d0845e_5bd7_11eb_a765_60f81dca6224row4_col2\" class=\"data row4 col2\" >Kou, Y. and Nardi, B. (2013). Regulating anti-social behavior on the Internet: The example of League of Legends. iConference 2013 Proceedings , Fort Worth, TX: February 12-15, 2013, pp. 616-22. 10.9776/13289.</td>\n",
       "            </tr>\n",
       "    </tbody></table>"
      ],
      "text/plain": [
       "<pandas.io.formats.style.Styler at 0x123bcdc10>"
      ]
     },
     "execution_count": 133,
     "metadata": {},
     "output_type": "execute_result"
    }
   ],
   "source": [
    "#example of DOIs returning 404\n",
    "test.drop_duplicates(subset='DOI', keep='first').reset_index(drop=True).head().style.set_properties(subset=['Reference'], **{'width': '600px'})\n",
    "#test.to_csv(path_or_buf='../data/notfound.csv', sep=';')"
   ]
  },
  {
   "cell_type": "markdown",
   "metadata": {},
   "source": [
    "### Retrieve citation DOIs using CrossRef API\n",
    "Crossref API allows querying the database by giving it in input strings that contain bibliography references. The reference string does not to be necessarily a well-written references. The input string is parsed by Crossref using machine learning techniques and the system tries to match the reference string with the metadata that are stored in the database. \n",
    "\n",
    "An important feature of Crossref API, is the score of sureness that Crossref API retrieve beside the document’s metadata. For each request, Crossref score indicates how much it is sure about the entities retrieved, if the score value is high the metadata retrieved are probably the corrected ones, if the score is low the metadata retrieved might be the wrong ones."
   ]
  },
  {
   "cell_type": "markdown",
   "metadata": {},
   "source": [
    "Here the Crossref query API is used to check if citations whose DOI http connection returns \"404 not found\" can be found in the Crossref Database and, if yes, what is their DOI. The value *110* is the minimum score value."
   ]
  },
  {
   "cell_type": "code",
   "execution_count": 104,
   "metadata": {},
   "outputs": [
    {
     "name": "stdout",
     "output_type": "stream",
     "text": [
      "5, (0)\n",
      "10, (0)\n",
      "15, (0)\n",
      "20, (2)\n",
      "25, (4)\n",
      "30, (6)\n",
      "35, (8)\n"
     ]
    },
    {
     "data": {
      "text/html": [
       "<div>\n",
       "<style scoped>\n",
       "    .dataframe tbody tr th:only-of-type {\n",
       "        vertical-align: middle;\n",
       "    }\n",
       "\n",
       "    .dataframe tbody tr th {\n",
       "        vertical-align: top;\n",
       "    }\n",
       "\n",
       "    .dataframe thead th {\n",
       "        text-align: right;\n",
       "    }\n",
       "</style>\n",
       "<table border=\"1\" class=\"dataframe\">\n",
       "  <thead>\n",
       "    <tr style=\"text-align: right;\">\n",
       "      <th></th>\n",
       "      <th>Publication_cit</th>\n",
       "      <th>Crossref_cit_title</th>\n",
       "      <th>Crossref_cit_author</th>\n",
       "      <th>Crossref_cit_metadata</th>\n",
       "      <th>Crossref_DOI</th>\n",
       "      <th>Score</th>\n",
       "    </tr>\n",
       "  </thead>\n",
       "  <tbody>\n",
       "    <tr>\n",
       "      <th>0</th>\n",
       "      <td>Griffiths Mary and Kim Barbour. \"‘Imagine If O...</td>\n",
       "      <td>['Imagine if our cities talked to us': Questio...</td>\n",
       "      <td>[{'given': 'Mary', 'family': 'Griffiths', 'seq...</td>\n",
       "      <td>{'indexed': {'date-parts': [[2020, 3, 28]], 'd...</td>\n",
       "      <td>10.20851/publics-03</td>\n",
       "      <td>174.882570</td>\n",
       "    </tr>\n",
       "    <tr>\n",
       "      <th>1</th>\n",
       "      <td>Underwood, T., Bamman, D. and Lee, S. (2018). ...</td>\n",
       "      <td>[The Transformation of Gender in English-Langu...</td>\n",
       "      <td>[{'given': 'Ted', 'family': 'Underwood', 'sequ...</td>\n",
       "      <td>{'indexed': {'date-parts': [[2020, 10, 23]], '...</td>\n",
       "      <td>10.22148/16.019</td>\n",
       "      <td>116.796100</td>\n",
       "    </tr>\n",
       "    <tr>\n",
       "      <th>2</th>\n",
       "      <td>Bates, M. (1998). Indexing and access for digi...</td>\n",
       "      <td>[Indexing and access for digital libraries and...</td>\n",
       "      <td>[{'given': 'Marcia J.', 'family': 'Bates', 'se...</td>\n",
       "      <td>{'indexed': {'date-parts': [[2020, 12, 5]], 'd...</td>\n",
       "      <td>10.1002/(sici)1097-4571(1998110)49:13&lt;1185::ai...</td>\n",
       "      <td>111.929085</td>\n",
       "    </tr>\n",
       "    <tr>\n",
       "      <th>3</th>\n",
       "      <td>Spiro, L. (2012). “This Is Why We Fight”: Defi...</td>\n",
       "      <td>[“This Is Why We Fight”: Defining the Values o...</td>\n",
       "      <td>[{'given': 'Lisa', 'family': 'Spiro', 'sequenc...</td>\n",
       "      <td>{'indexed': {'date-parts': [[2020, 3, 2]], 'da...</td>\n",
       "      <td>10.5749/minnesota/9780816677948.003.0003</td>\n",
       "      <td>136.292980</td>\n",
       "    </tr>\n",
       "    <tr>\n",
       "      <th>4</th>\n",
       "      <td>Shapiro, L. A. (2012). Embodied Cognition. In ...</td>\n",
       "      <td>[6. Embodied Cognition]</td>\n",
       "      <td>[{'given': 'Lawrence A.', 'family': 'Shapiro',...</td>\n",
       "      <td>{'indexed': {'date-parts': [[2020, 12, 6]], 'd...</td>\n",
       "      <td>10.1093/oxfordhb/9780195309799.003.0006</td>\n",
       "      <td>114.839750</td>\n",
       "    </tr>\n",
       "  </tbody>\n",
       "</table>\n",
       "</div>"
      ],
      "text/plain": [
       "                                     Publication_cit  \\\n",
       "0  Griffiths Mary and Kim Barbour. \"‘Imagine If O...   \n",
       "1  Underwood, T., Bamman, D. and Lee, S. (2018). ...   \n",
       "2  Bates, M. (1998). Indexing and access for digi...   \n",
       "3  Spiro, L. (2012). “This Is Why We Fight”: Defi...   \n",
       "4  Shapiro, L. A. (2012). Embodied Cognition. In ...   \n",
       "\n",
       "                                  Crossref_cit_title  \\\n",
       "0  ['Imagine if our cities talked to us': Questio...   \n",
       "1  [The Transformation of Gender in English-Langu...   \n",
       "2  [Indexing and access for digital libraries and...   \n",
       "3  [“This Is Why We Fight”: Defining the Values o...   \n",
       "4                            [6. Embodied Cognition]   \n",
       "\n",
       "                                 Crossref_cit_author  \\\n",
       "0  [{'given': 'Mary', 'family': 'Griffiths', 'seq...   \n",
       "1  [{'given': 'Ted', 'family': 'Underwood', 'sequ...   \n",
       "2  [{'given': 'Marcia J.', 'family': 'Bates', 'se...   \n",
       "3  [{'given': 'Lisa', 'family': 'Spiro', 'sequenc...   \n",
       "4  [{'given': 'Lawrence A.', 'family': 'Shapiro',...   \n",
       "\n",
       "                               Crossref_cit_metadata  \\\n",
       "0  {'indexed': {'date-parts': [[2020, 3, 28]], 'd...   \n",
       "1  {'indexed': {'date-parts': [[2020, 10, 23]], '...   \n",
       "2  {'indexed': {'date-parts': [[2020, 12, 5]], 'd...   \n",
       "3  {'indexed': {'date-parts': [[2020, 3, 2]], 'da...   \n",
       "4  {'indexed': {'date-parts': [[2020, 12, 6]], 'd...   \n",
       "\n",
       "                                        Crossref_DOI       Score  \n",
       "0                                10.20851/publics-03  174.882570  \n",
       "1                                    10.22148/16.019  116.796100  \n",
       "2  10.1002/(sici)1097-4571(1998110)49:13<1185::ai...  111.929085  \n",
       "3           10.5749/minnesota/9780816677948.003.0003  136.292980  \n",
       "4            10.1093/oxfordhb/9780195309799.003.0006  114.839750  "
      ]
     },
     "execution_count": 104,
     "metadata": {},
     "output_type": "execute_result"
    }
   ],
   "source": [
    "import urllib.request, json\n",
    "references=test['Reference'];\n",
    "df_citations404 = pd.DataFrame(columns=[\"Publication_cit\", \"Crossref_cit_title\", \"Crossref_cit_author\", \"Crossref_cit_metadata\", \"Crossref_DOI\"])\n",
    "originalCitations=[]\n",
    "crossrefCitations=[]\n",
    "crossrefCitationsAuthor=[]\n",
    "crossrefCitationsMetadata=[]\n",
    "DOIs=[]\n",
    "score=[]\n",
    "i=0;\n",
    "j =0;\n",
    "for citenf in references:\n",
    "    cit=urllib.parse.quote_plus(citenf)\n",
    "    try:\n",
    "        with urllib.request.urlopen(\"https://api.crossref.org/works?query.bibliographic=\"+cit+\"&sort=score&mailto=cesare.concordia@gmail.com#\", timeout=18000) as url:\n",
    "            data16 = json.loads(url.read().decode())\n",
    "            j=j+1\n",
    "            if (j%5 == 0):\n",
    "                print(f\"{j}, ({i})\")\n",
    "            if (len(data16[\"message\"][\"items\"])>0) and (data16[\"message\"][\"items\"][0]['score'] >110):\n",
    "                originalCitations.append(citenf)\n",
    "                crossrefCitationsMetadata.append( data16[\"message\"][\"items\"][0])\n",
    "                crossrefCitations.append( data16[\"message\"][\"items\"][0]['title'])\n",
    "                crossrefCitationsAuthor.append( data16[\"message\"][\"items\"][0]['author'])\n",
    "                DOIs.append(data16[\"message\"][\"items\"][0]['DOI'])\n",
    "                score.append(data16[\"message\"][\"items\"][0]['score'])\n",
    "                i=i+1\n",
    "                #print(f\"{i} found, out of {j}\")\n",
    "            if (j>1000):\n",
    "                break\n",
    "    except urllib.error.URLError:\n",
    "        print(cit)\n",
    "    except urllib.error.HTTPError:\n",
    "        print(cit)\n",
    "        \n",
    "df_citations404[\"Publication_cit\"] = originalCitations\n",
    "df_citations404[\"Crossref_cit_title\"] = crossrefCitations\n",
    "df_citations404[\"Crossref_cit_author\"] = crossrefCitationsAuthor\n",
    "df_citations404[\"Crossref_cit_metadata\"] = crossrefCitationsMetadata\n",
    "df_citations404[\"Crossref_DOI\"] = DOIs\n",
    "df_citations404[\"Score\"] = score\n",
    "df_citations404.head()"
   ]
  },
  {
   "cell_type": "markdown",
   "metadata": {},
   "source": [
    "Using the Crossref API 8 DOIs have been retrieved"
   ]
  },
  {
   "cell_type": "code",
   "execution_count": 136,
   "metadata": {},
   "outputs": [],
   "source": [
    "#df_citations404[['Publication_cit', 'Crossref_cit_title', 'Crossref_cit_author', 'Crossref_DOI']].head(10).style.set_properties(subset=['Publication_cit'], **{'width': '200px'})"
   ]
  },
  {
   "cell_type": "code",
   "execution_count": 141,
   "metadata": {},
   "outputs": [
    {
     "data": {
      "text/html": [
       "<style  type=\"text/css\" >\n",
       "#T_b602a4b8_5bd8_11eb_a765_60f81dca6224row0_col0,#T_b602a4b8_5bd8_11eb_a765_60f81dca6224row0_col1,#T_b602a4b8_5bd8_11eb_a765_60f81dca6224row1_col0,#T_b602a4b8_5bd8_11eb_a765_60f81dca6224row1_col1,#T_b602a4b8_5bd8_11eb_a765_60f81dca6224row2_col0,#T_b602a4b8_5bd8_11eb_a765_60f81dca6224row2_col1,#T_b602a4b8_5bd8_11eb_a765_60f81dca6224row3_col0,#T_b602a4b8_5bd8_11eb_a765_60f81dca6224row3_col1,#T_b602a4b8_5bd8_11eb_a765_60f81dca6224row4_col0,#T_b602a4b8_5bd8_11eb_a765_60f81dca6224row4_col1,#T_b602a4b8_5bd8_11eb_a765_60f81dca6224row5_col0,#T_b602a4b8_5bd8_11eb_a765_60f81dca6224row5_col1,#T_b602a4b8_5bd8_11eb_a765_60f81dca6224row6_col0,#T_b602a4b8_5bd8_11eb_a765_60f81dca6224row6_col1,#T_b602a4b8_5bd8_11eb_a765_60f81dca6224row7_col0,#T_b602a4b8_5bd8_11eb_a765_60f81dca6224row7_col1{\n",
       "            width:  200px;\n",
       "        }</style><table id=\"T_b602a4b8_5bd8_11eb_a765_60f81dca6224\" ><thead>    <tr>        <th class=\"blank level0\" ></th>        <th class=\"col_heading level0 col0\" >Publication_cit</th>        <th class=\"col_heading level0 col1\" >Crossref_cit_title</th>        <th class=\"col_heading level0 col2\" >Crossref_cit_author</th>        <th class=\"col_heading level0 col3\" >Crossref_DOI</th>        <th class=\"col_heading level0 col4\" >DOI</th>    </tr></thead><tbody>\n",
       "                <tr>\n",
       "                        <th id=\"T_b602a4b8_5bd8_11eb_a765_60f81dca6224level0_row0\" class=\"row_heading level0 row0\" >0</th>\n",
       "                        <td id=\"T_b602a4b8_5bd8_11eb_a765_60f81dca6224row0_col0\" class=\"data row0 col0\" >Griffiths Mary and Kim Barbour. \"‘Imagine If Our Cities Talked to Us’: Questions about the Making of ‘responsive’ Places and Urban Publics.\" In Making Publics, Making Places, 27-48. South Australia: University of Adelaide Press, 2016, http://www.jstor.org/stable/10.20851/j.ctt1t304qd.8</td>\n",
       "                        <td id=\"T_b602a4b8_5bd8_11eb_a765_60f81dca6224row0_col1\" class=\"data row0 col1\" >[\"'Imagine if our cities talked to us': Questions about the making of 'responsive' places and urban publics\"]</td>\n",
       "                        <td id=\"T_b602a4b8_5bd8_11eb_a765_60f81dca6224row0_col2\" class=\"data row0 col2\" >[{'given': 'Mary', 'family': 'Griffiths', 'sequence': 'first', 'affiliation': []}]</td>\n",
       "                        <td id=\"T_b602a4b8_5bd8_11eb_a765_60f81dca6224row0_col3\" class=\"data row0 col3\" >10.20851/publics-03</td>\n",
       "                        <td id=\"T_b602a4b8_5bd8_11eb_a765_60f81dca6224row0_col4\" class=\"data row0 col4\" >10.20851/j.ctt1t304qd.8</td>\n",
       "            </tr>\n",
       "            <tr>\n",
       "                        <th id=\"T_b602a4b8_5bd8_11eb_a765_60f81dca6224level0_row1\" class=\"row_heading level0 row1\" >1</th>\n",
       "                        <td id=\"T_b602a4b8_5bd8_11eb_a765_60f81dca6224row1_col0\" class=\"data row1 col0\" >Underwood, T., Bamman, D. and Lee, S. (2018). The transformation of Gender in English language fiction. Cultural Analytics, http://culturalanalytics.org/2018/02/thetransformation-of-gender-in-english-language-fiction/ (DOI: 10.7910/DVN/TEGMGI)</td>\n",
       "                        <td id=\"T_b602a4b8_5bd8_11eb_a765_60f81dca6224row1_col1\" class=\"data row1 col1\" >['The Transformation of Gender in English-Language Fiction']</td>\n",
       "                        <td id=\"T_b602a4b8_5bd8_11eb_a765_60f81dca6224row1_col2\" class=\"data row1 col2\" >[{'given': 'Ted', 'family': 'Underwood', 'sequence': 'first', 'affiliation': []}, {'given': 'David', 'family': 'Bamman', 'sequence': 'additional', 'affiliation': []}, {'given': 'Sabrina', 'family': 'Lee', 'sequence': 'additional', 'affiliation': []}]</td>\n",
       "                        <td id=\"T_b602a4b8_5bd8_11eb_a765_60f81dca6224row1_col3\" class=\"data row1 col3\" >10.22148/16.019</td>\n",
       "                        <td id=\"T_b602a4b8_5bd8_11eb_a765_60f81dca6224row1_col4\" class=\"data row1 col4\" >10.7910/DVN/TEGMGI</td>\n",
       "            </tr>\n",
       "            <tr>\n",
       "                        <th id=\"T_b602a4b8_5bd8_11eb_a765_60f81dca6224level0_row2\" class=\"row_heading level0 row2\" >2</th>\n",
       "                        <td id=\"T_b602a4b8_5bd8_11eb_a765_60f81dca6224row2_col0\" class=\"data row2 col0\" >Bates, M. (1998). Indexing and access for digital libraries and the Internet: human, database, and domain factors. Journal of the American Society for Information Science , 49 (13) doi:10.1002/(SICI)1097-4571(1998110)49:13<1185::AID-ASI6>3.3.CO;2-M (accessed 23 March 2011).</td>\n",
       "                        <td id=\"T_b602a4b8_5bd8_11eb_a765_60f81dca6224row2_col1\" class=\"data row2 col1\" >['Indexing and access for digital libraries and the internet: Human, database, and domain factors']</td>\n",
       "                        <td id=\"T_b602a4b8_5bd8_11eb_a765_60f81dca6224row2_col2\" class=\"data row2 col2\" >[{'given': 'Marcia J.', 'family': 'Bates', 'sequence': 'first', 'affiliation': []}]</td>\n",
       "                        <td id=\"T_b602a4b8_5bd8_11eb_a765_60f81dca6224row2_col3\" class=\"data row2 col3\" >10.1002/(sici)1097-4571(1998110)49:13<1185::aid-asi6>3.0.co;2-v</td>\n",
       "                        <td id=\"T_b602a4b8_5bd8_11eb_a765_60f81dca6224row2_col4\" class=\"data row2 col4\" >10.1002/(SICI)1097-4571(1998110)49:13</td>\n",
       "            </tr>\n",
       "            <tr>\n",
       "                        <th id=\"T_b602a4b8_5bd8_11eb_a765_60f81dca6224level0_row3\" class=\"row_heading level0 row3\" >3</th>\n",
       "                        <td id=\"T_b602a4b8_5bd8_11eb_a765_60f81dca6224row3_col0\" class=\"data row3 col0\" >Spiro, L. (2012). “This Is Why We Fight”: Defining the Values of the Digital Humanities. In M. K. Gold (ed.), Debates in the Digital Humanities . University of Minnesota Press, pp. 16–35. Available at http://minnesota.universitypressscholarship.com/view/10.5749/minnesota/9780816677948.001.0001/upso-9780816677948-chapter-3</td>\n",
       "                        <td id=\"T_b602a4b8_5bd8_11eb_a765_60f81dca6224row3_col1\" class=\"data row3 col1\" >['“This Is Why We Fight”: Defining the Values of the Digital Humanities']</td>\n",
       "                        <td id=\"T_b602a4b8_5bd8_11eb_a765_60f81dca6224row3_col2\" class=\"data row3 col2\" >[{'given': 'Lisa', 'family': 'Spiro', 'sequence': 'first', 'affiliation': []}]</td>\n",
       "                        <td id=\"T_b602a4b8_5bd8_11eb_a765_60f81dca6224row3_col3\" class=\"data row3 col3\" >10.5749/minnesota/9780816677948.003.0003</td>\n",
       "                        <td id=\"T_b602a4b8_5bd8_11eb_a765_60f81dca6224row3_col4\" class=\"data row3 col4\" >10.5749/minnesota/9780816677948.001.0001/upso-9780816677948-chapter-3</td>\n",
       "            </tr>\n",
       "            <tr>\n",
       "                        <th id=\"T_b602a4b8_5bd8_11eb_a765_60f81dca6224level0_row4\" class=\"row_heading level0 row4\" >4</th>\n",
       "                        <td id=\"T_b602a4b8_5bd8_11eb_a765_60f81dca6224row4_col0\" class=\"data row4 col0\" >Shapiro, L. A. (2012). Embodied Cognition. In Margolis, E., Samuels, R., and Stich, S. P. (eds.), The Oxford Handbook of Philosophy of Cognitive Science . Oxford, New York: Oxford University Press, pp. 118–46. http://www.oxfordhandbooks.com/view/10.1093/oxfordhb/9780195309799.001.0001/oxfordhb-9780195309799-e-6 (accessed 26 November 2018).</td>\n",
       "                        <td id=\"T_b602a4b8_5bd8_11eb_a765_60f81dca6224row4_col1\" class=\"data row4 col1\" >['6. Embodied Cognition']</td>\n",
       "                        <td id=\"T_b602a4b8_5bd8_11eb_a765_60f81dca6224row4_col2\" class=\"data row4 col2\" >[{'given': 'Lawrence A.', 'family': 'Shapiro', 'sequence': 'first', 'affiliation': []}]</td>\n",
       "                        <td id=\"T_b602a4b8_5bd8_11eb_a765_60f81dca6224row4_col3\" class=\"data row4 col3\" >10.1093/oxfordhb/9780195309799.003.0006</td>\n",
       "                        <td id=\"T_b602a4b8_5bd8_11eb_a765_60f81dca6224row4_col4\" class=\"data row4 col4\" >10.1093/oxfordhb/9780195309799.001.0001/oxfordhb-9780195309799-e-6</td>\n",
       "            </tr>\n",
       "            <tr>\n",
       "                        <th id=\"T_b602a4b8_5bd8_11eb_a765_60f81dca6224level0_row5\" class=\"row_heading level0 row5\" >5</th>\n",
       "                        <td id=\"T_b602a4b8_5bd8_11eb_a765_60f81dca6224row5_col0\" class=\"data row5 col0\" >Hirsch, Brett D.,\n",
       "                    2011. The Kingdom Has Been Digitized: Electronic Editions\n",
       "                        of Renaissance Drama and the Long Shadows of Shakespeare and Print . Literature Compass [online] 8 (9): 568-591.\n",
       "                    Available from: http://onlinelibrary.wiley.com/doi/10.1111/lico.2011.8.issue-9/issuetoc [Accessed 27 September 2012].</td>\n",
       "                        <td id=\"T_b602a4b8_5bd8_11eb_a765_60f81dca6224row5_col1\" class=\"data row5 col1\" >['The Kingdom has been Digitized: Electronic Editions of Renaissance Drama and the Long Shadows of Shakespeare and Print']</td>\n",
       "                        <td id=\"T_b602a4b8_5bd8_11eb_a765_60f81dca6224row5_col2\" class=\"data row5 col2\" >[{'given': 'Brett D.', 'family': 'Hirsch', 'sequence': 'first', 'affiliation': []}]</td>\n",
       "                        <td id=\"T_b602a4b8_5bd8_11eb_a765_60f81dca6224row5_col3\" class=\"data row5 col3\" >10.1111/j.1741-4113.2011.00830.x</td>\n",
       "                        <td id=\"T_b602a4b8_5bd8_11eb_a765_60f81dca6224row5_col4\" class=\"data row5 col4\" >10.1111/lico.2011.8.issue-9/issuetoc</td>\n",
       "            </tr>\n",
       "            <tr>\n",
       "                        <th id=\"T_b602a4b8_5bd8_11eb_a765_60f81dca6224level0_row6\" class=\"row_heading level0 row6\" >6</th>\n",
       "                        <td id=\"T_b602a4b8_5bd8_11eb_a765_60f81dca6224row6_col0\" class=\"data row6 col0\" >Romanello, Matteo. 2013. Creating an Annotated Corpus for Extracting Canonical\n",
       "                        Citations from Classics-Related Texts by Using Active Annotation. In Computational Linguistics and Intelligent Text\n",
       "                        Processing. 14th International Conference, CICLing 2013, Samos, Greece,\n",
       "                        March 24-30, 2013, Proceedings, Part I , edited by Alexander Gelbukh,\n",
       "                    1:60–76. Lecture Notes in Computer Science / Theoretical Computer Science and\n",
       "                    General Issues. Springer Berlin Heidelberg. doi:10.1007/978-3-642-37247-6\\_6 .</td>\n",
       "                        <td id=\"T_b602a4b8_5bd8_11eb_a765_60f81dca6224row6_col1\" class=\"data row6 col1\" >['Creating an Annotated Corpus for Extracting Canonical Citations from Classics-Related Texts by Using Active Annotation']</td>\n",
       "                        <td id=\"T_b602a4b8_5bd8_11eb_a765_60f81dca6224row6_col2\" class=\"data row6 col2\" >[{'given': 'Matteo', 'family': 'Romanello', 'sequence': 'first', 'affiliation': []}]</td>\n",
       "                        <td id=\"T_b602a4b8_5bd8_11eb_a765_60f81dca6224row6_col3\" class=\"data row6 col3\" >10.1007/978-3-642-37247-6_6</td>\n",
       "                        <td id=\"T_b602a4b8_5bd8_11eb_a765_60f81dca6224row6_col4\" class=\"data row6 col4\" >10.1007/978-3-642-37247-6\\_6</td>\n",
       "            </tr>\n",
       "            <tr>\n",
       "                        <th id=\"T_b602a4b8_5bd8_11eb_a765_60f81dca6224level0_row7\" class=\"row_heading level0 row7\" >7</th>\n",
       "                        <td id=\"T_b602a4b8_5bd8_11eb_a765_60f81dca6224row7_col0\" class=\"data row7 col0\" >Zundert, van,\n",
       "                    J.J., 2016. Screwmeneutics and Hermenumericals: the\n",
       "                        Computationality of Hermeneutics. In S. Schreibman, R. Siemens,\n",
       "                    & J. Unsworth, eds. A New Companion to Digital\n",
       "                        Humanities . Malden (US), Oxford (UK), etc.: John Wiley & Sons,\n",
       "                    Ltd, pp. 331–347. Available at: http://onlinelibrary.wiley.com/doi/10.1002/9781118680605.ch23/summary [Accessed July 26, 2016].</td>\n",
       "                        <td id=\"T_b602a4b8_5bd8_11eb_a765_60f81dca6224row7_col1\" class=\"data row7 col1\" >['Screwmeneutics and Hermenumericals']</td>\n",
       "                        <td id=\"T_b602a4b8_5bd8_11eb_a765_60f81dca6224row7_col2\" class=\"data row7 col2\" >[{'given': 'Joris J.', 'family': 'van Zundert', 'sequence': 'first', 'affiliation': []}]</td>\n",
       "                        <td id=\"T_b602a4b8_5bd8_11eb_a765_60f81dca6224row7_col3\" class=\"data row7 col3\" >10.1002/9781118680605.ch23</td>\n",
       "                        <td id=\"T_b602a4b8_5bd8_11eb_a765_60f81dca6224row7_col4\" class=\"data row7 col4\" >10.1002/9781118680605.ch23/summary</td>\n",
       "            </tr>\n",
       "    </tbody></table>"
      ],
      "text/plain": [
       "<pandas.io.formats.style.Styler at 0x1229ee6d0>"
      ]
     },
     "execution_count": 141,
     "metadata": {},
     "output_type": "execute_result"
    }
   ],
   "source": [
    "retrieved404=df_citations404.join(test.set_index('Reference'), on='Publication_cit',  lsuffix='_in_publication')\n",
    "retrieved404[['Publication_cit', 'Crossref_cit_title', 'Crossref_cit_author','Crossref_DOI', 'DOI']].head(8).style.set_properties(subset=['Publication_cit','Crossref_cit_title'], **{'width': '200px'})"
   ]
  }
 ],
 "metadata": {
  "kernelspec": {
   "display_name": "Python 3",
   "language": "python",
   "name": "python3"
  },
  "language_info": {
   "codemirror_mode": {
    "name": "ipython",
    "version": 3
   },
   "file_extension": ".py",
   "mimetype": "text/x-python",
   "name": "python",
   "nbconvert_exporter": "python",
   "pygments_lexer": "ipython3",
   "version": "3.7.7"
  }
 },
 "nbformat": 4,
 "nbformat_minor": 4
}
