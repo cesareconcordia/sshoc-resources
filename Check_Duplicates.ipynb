{
 "cells": [
  {
   "cell_type": "markdown",
   "metadata": {},
   "source": [
    "## Draft: finding duplicates the MarketPlace Dataset\n",
    "This notebook discovers duplicates (if any) in the dataset."
   ]
  },
  {
   "cell_type": "markdown",
   "metadata": {},
   "source": [
    "#### External libraries and function to download descriptions from the MarketPlace dataset using the API\n",
    "The following two cells are used to import the external libraries used in this Notebook and to define a function; in the final release of this Notebook this function will be (possibly) optimized and provided as an external library."
   ]
  },
  {
   "cell_type": "code",
   "execution_count": 1,
   "metadata": {},
   "outputs": [],
   "source": [
    "import numpy as np\n",
    "import pandas as pd\n",
    "import matplotlib.pyplot as plt"
   ]
  },
  {
   "cell_type": "code",
   "execution_count": 2,
   "metadata": {},
   "outputs": [],
   "source": [
    "def getMPDescriptions (url, pages):\n",
    "    mdx = pd.Series(range(1, pages+1))\n",
    "    df_desc = pd.DataFrame()\n",
    "    for var in mdx:\n",
    "        turl = url+str(var)+\"&perpage=20\"\n",
    "        df_desc_par=pd.read_json(turl, orient='columns')\n",
    "        df_desc=df_desc.append(df_desc_par, ignore_index=True)\n",
    "        \n",
    "    return (df_desc)"
   ]
  },
  {
   "cell_type": "markdown",
   "metadata": {},
   "source": [
    "### Find duplicates on Tools and Services\n",
    "The MarketPlace API are used to download the descriptions of Tools and Services"
   ]
  },
  {
   "cell_type": "code",
   "execution_count": 3,
   "metadata": {},
   "outputs": [
    {
     "data": {
      "text/plain": [
       "RangeIndex(start=0, stop=1606, step=1)"
      ]
     },
     "execution_count": 3,
     "metadata": {},
     "output_type": "execute_result"
    }
   ],
   "source": [
    "df_tool_all = pd.DataFrame()\n",
    "df_tool_all =getMPDescriptions (\"https://sshoc-marketplace-api.acdh-dev.oeaw.ac.at/api/tools-services?page=\", 81)\n",
    "df_tool_all.index"
   ]
  },
  {
   "cell_type": "markdown",
   "metadata": {},
   "source": [
    "#### A quick look at data\n",
    "The table below shows information about few, randomly chosen, descriptions.\n",
    "Only a subset of values are shown, in particular: *id, category, label, licenses, contributors, accessibleAt, sourceItemId*."
   ]
  },
  {
   "cell_type": "code",
   "execution_count": 4,
   "metadata": {},
   "outputs": [
    {
     "data": {
      "text/html": [
       "<div>\n",
       "<style scoped>\n",
       "    .dataframe tbody tr th:only-of-type {\n",
       "        vertical-align: middle;\n",
       "    }\n",
       "\n",
       "    .dataframe tbody tr th {\n",
       "        vertical-align: top;\n",
       "    }\n",
       "\n",
       "    .dataframe thead th {\n",
       "        text-align: right;\n",
       "    }\n",
       "</style>\n",
       "<table border=\"1\" class=\"dataframe\">\n",
       "  <thead>\n",
       "    <tr style=\"text-align: right;\">\n",
       "      <th></th>\n",
       "      <th>id</th>\n",
       "      <th>category</th>\n",
       "      <th>label</th>\n",
       "      <th>licenses</th>\n",
       "      <th>contributors</th>\n",
       "      <th>accessibleAt</th>\n",
       "      <th>sourceItemId</th>\n",
       "    </tr>\n",
       "  </thead>\n",
       "  <tbody>\n",
       "    <tr>\n",
       "      <th>0</th>\n",
       "      <td>30509</td>\n",
       "      <td>tool-or-service</td>\n",
       "      <td>140kit</td>\n",
       "      <td>[]</td>\n",
       "      <td>[{'actor': {'id': 483, 'name': 'Ian Pearce, De...</td>\n",
       "      <td>[https://github.com/WebEcologyProject/140kit]</td>\n",
       "      <td>937</td>\n",
       "    </tr>\n",
       "    <tr>\n",
       "      <th>1</th>\n",
       "      <td>28542</td>\n",
       "      <td>tool-or-service</td>\n",
       "      <td>3DF Zephyr - photogrammetry software - 3d mode...</td>\n",
       "      <td>[]</td>\n",
       "      <td>[]</td>\n",
       "      <td>[https://www.3dflow.net/3df-zephyr-pro-3d-mode...</td>\n",
       "      <td>WQFP6XPS</td>\n",
       "    </tr>\n",
       "    <tr>\n",
       "      <th>2</th>\n",
       "      <td>11508</td>\n",
       "      <td>tool-or-service</td>\n",
       "      <td>3DHOP</td>\n",
       "      <td>[]</td>\n",
       "      <td>[]</td>\n",
       "      <td>[http://vcg.isti.cnr.it/3dhop/]</td>\n",
       "      <td>SG86ZG5J</td>\n",
       "    </tr>\n",
       "    <tr>\n",
       "      <th>3</th>\n",
       "      <td>11419</td>\n",
       "      <td>tool-or-service</td>\n",
       "      <td>3DHOP: 3D Heritage Online Presenter</td>\n",
       "      <td>[]</td>\n",
       "      <td>[]</td>\n",
       "      <td>[https://github.com/cnr-isti-vclab/3DHOP]</td>\n",
       "      <td>R379NADX</td>\n",
       "    </tr>\n",
       "    <tr>\n",
       "      <th>4</th>\n",
       "      <td>11507</td>\n",
       "      <td>tool-or-service</td>\n",
       "      <td>3DReshaper \\| 3DReshaper</td>\n",
       "      <td>[]</td>\n",
       "      <td>[]</td>\n",
       "      <td>[https://www.3dreshaper.com/en/]</td>\n",
       "      <td>PMES8DJW</td>\n",
       "    </tr>\n",
       "  </tbody>\n",
       "</table>\n",
       "</div>"
      ],
      "text/plain": [
       "      id         category                                              label  \\\n",
       "0  30509  tool-or-service                                             140kit   \n",
       "1  28542  tool-or-service  3DF Zephyr - photogrammetry software - 3d mode...   \n",
       "2  11508  tool-or-service                                              3DHOP   \n",
       "3  11419  tool-or-service                3DHOP: 3D Heritage Online Presenter   \n",
       "4  11507  tool-or-service                           3DReshaper \\| 3DReshaper   \n",
       "\n",
       "  licenses                                       contributors  \\\n",
       "0       []  [{'actor': {'id': 483, 'name': 'Ian Pearce, De...   \n",
       "1       []                                                 []   \n",
       "2       []                                                 []   \n",
       "3       []                                                 []   \n",
       "4       []                                                 []   \n",
       "\n",
       "                                        accessibleAt sourceItemId  \n",
       "0      [https://github.com/WebEcologyProject/140kit]          937  \n",
       "1  [https://www.3dflow.net/3df-zephyr-pro-3d-mode...     WQFP6XPS  \n",
       "2                    [http://vcg.isti.cnr.it/3dhop/]     SG86ZG5J  \n",
       "3          [https://github.com/cnr-isti-vclab/3DHOP]     R379NADX  \n",
       "4                   [https://www.3dreshaper.com/en/]     PMES8DJW  "
      ]
     },
     "execution_count": 4,
     "metadata": {},
     "output_type": "execute_result"
    }
   ],
   "source": [
    "df_tool_flat = pd.json_normalize(df_tool_all['tools'])\n",
    "df_tool_work=df_tool_flat[['id', 'category', 'label', 'licenses', 'contributors', 'accessibleAt', 'sourceItemId']]\n",
    "df_tool_work.head()"
   ]
  },
  {
   "cell_type": "markdown",
   "metadata": {},
   "source": [
    "#### Individuate duplicates based on values of property *label*"
   ]
  },
  {
   "cell_type": "code",
   "execution_count": 6,
   "metadata": {},
   "outputs": [
    {
     "data": {
      "text/html": [
       "<div>\n",
       "<style scoped>\n",
       "    .dataframe tbody tr th:only-of-type {\n",
       "        vertical-align: middle;\n",
       "    }\n",
       "\n",
       "    .dataframe tbody tr th {\n",
       "        vertical-align: top;\n",
       "    }\n",
       "\n",
       "    .dataframe thead th {\n",
       "        text-align: right;\n",
       "    }\n",
       "</style>\n",
       "<table border=\"1\" class=\"dataframe\">\n",
       "  <thead>\n",
       "    <tr style=\"text-align: right;\">\n",
       "      <th></th>\n",
       "      <th>id</th>\n",
       "      <th>label</th>\n",
       "      <th>accessibleAt</th>\n",
       "    </tr>\n",
       "  </thead>\n",
       "  <tbody>\n",
       "    <tr>\n",
       "      <th>203</th>\n",
       "      <td>27972</td>\n",
       "      <td>CloudCompare - Documentation</td>\n",
       "      <td>[http://www.danielgm.net/cc/documentation.html]</td>\n",
       "    </tr>\n",
       "    <tr>\n",
       "      <th>204</th>\n",
       "      <td>11448</td>\n",
       "      <td>CloudCompare - Documentation</td>\n",
       "      <td>[http://www.cloudcompare.org/doc/]</td>\n",
       "    </tr>\n",
       "    <tr>\n",
       "      <th>286</th>\n",
       "      <td>29438</td>\n",
       "      <td>Cytoscape</td>\n",
       "      <td>[http://cytoscape.org/]</td>\n",
       "    </tr>\n",
       "    <tr>\n",
       "      <th>287</th>\n",
       "      <td>30178</td>\n",
       "      <td>Cytoscape</td>\n",
       "      <td>[http://www.cytoscape.org/]</td>\n",
       "    </tr>\n",
       "    <tr>\n",
       "      <th>294</th>\n",
       "      <td>30140</td>\n",
       "      <td>Data Desk</td>\n",
       "      <td>[https://datadescription.com/]</td>\n",
       "    </tr>\n",
       "    <tr>\n",
       "      <th>295</th>\n",
       "      <td>29689</td>\n",
       "      <td>Data Desk</td>\n",
       "      <td>[]</td>\n",
       "    </tr>\n",
       "  </tbody>\n",
       "</table>\n",
       "</div>"
      ],
      "text/plain": [
       "        id                         label  \\\n",
       "203  27972  CloudCompare - Documentation   \n",
       "204  11448  CloudCompare - Documentation   \n",
       "286  29438                     Cytoscape   \n",
       "287  30178                     Cytoscape   \n",
       "294  30140                     Data Desk   \n",
       "295  29689                     Data Desk   \n",
       "\n",
       "                                        accessibleAt  \n",
       "203  [http://www.danielgm.net/cc/documentation.html]  \n",
       "204               [http://www.cloudcompare.org/doc/]  \n",
       "286                          [http://cytoscape.org/]  \n",
       "287                      [http://www.cytoscape.org/]  \n",
       "294                   [https://datadescription.com/]  \n",
       "295                                               []  "
      ]
     },
     "execution_count": 6,
     "metadata": {},
     "output_type": "execute_result"
    }
   ],
   "source": [
    "df_tool_work_duplicates=df_tool_work[df_tool_work.duplicated('label', keep=False)].sort_values('label')\n",
    "df_tool_work_duplicates[['id', 'label', 'accessibleAt']].sort_values('label').head(6)"
   ]
  },
  {
   "cell_type": "code",
   "execution_count": 7,
   "metadata": {},
   "outputs": [
    {
     "name": "stdout",
     "output_type": "stream",
     "text": [
      "\n",
      "There are 51 duplicated tool/service descriptions\n",
      "\n"
     ]
    }
   ],
   "source": [
    "df_tool_work_duplicates.sort_values('label').to_csv(path_or_buf='duplicatedtools_services.csv')\n",
    "df_tool_work_duplicates_av=df_tool_work[df_tool_work.duplicated('label', keep=\"last\")].sort_values('label')\n",
    "#av=df_tool_work_duplicates_av.count()[0]\n",
    "tv=df_tool_work_duplicates.count()[0]\n",
    "print (f'\\nThere are {tv} duplicated tool/service descriptions\\n')"
   ]
  },
  {
   "cell_type": "markdown",
   "metadata": {},
   "source": [
    "### Find duplicates on Publications\n",
    "The MarketPlace API are used to download the descriptions of Publications"
   ]
  },
  {
   "cell_type": "code",
   "execution_count": 8,
   "metadata": {},
   "outputs": [
    {
     "data": {
      "text/plain": [
       "RangeIndex(start=0, stop=2986, step=1)"
      ]
     },
     "execution_count": 8,
     "metadata": {},
     "output_type": "execute_result"
    }
   ],
   "source": [
    "df_publication_all = pd.DataFrame()\n",
    "df_publication_all =getMPDescriptions (\"https://sshoc-marketplace-api.acdh-dev.oeaw.ac.at/api/publications?page=\", 151)\n",
    "df_publication_all.index"
   ]
  },
  {
   "cell_type": "markdown",
   "metadata": {},
   "source": [
    "#### A quick look at data\n",
    "The table below shows information about few, randomly chosen, descriptions.  \n",
    "Only a subset of values are shown, in particular: *id, category, label, licenses, contributors, accessibleAt, sourceItemId*.  "
   ]
  },
  {
   "cell_type": "code",
   "execution_count": 15,
   "metadata": {},
   "outputs": [
    {
     "data": {
      "text/html": [
       "<div>\n",
       "<style scoped>\n",
       "    .dataframe tbody tr th:only-of-type {\n",
       "        vertical-align: middle;\n",
       "    }\n",
       "\n",
       "    .dataframe tbody tr th {\n",
       "        vertical-align: top;\n",
       "    }\n",
       "\n",
       "    .dataframe thead th {\n",
       "        text-align: right;\n",
       "    }\n",
       "</style>\n",
       "<table border=\"1\" class=\"dataframe\">\n",
       "  <thead>\n",
       "    <tr style=\"text-align: right;\">\n",
       "      <th></th>\n",
       "      <th>id</th>\n",
       "      <th>category</th>\n",
       "      <th>label</th>\n",
       "      <th>licenses</th>\n",
       "      <th>contributors</th>\n",
       "      <th>accessibleAt</th>\n",
       "      <th>sourceItemId</th>\n",
       "    </tr>\n",
       "  </thead>\n",
       "  <tbody>\n",
       "    <tr>\n",
       "      <th>140</th>\n",
       "      <td>24039</td>\n",
       "      <td>publication</td>\n",
       "      <td>\"A Model for International Cooperation - Emble...</td>\n",
       "      <td>[]</td>\n",
       "      <td>[{'actor': {'id': 4354, 'name': 'Mara R. Wade'...</td>\n",
       "      <td>[http://dh2016.adho.org/abstracts/91]</td>\n",
       "      <td>conf/dihu/WadeHS16</td>\n",
       "    </tr>\n",
       "    <tr>\n",
       "      <th>215</th>\n",
       "      <td>23420</td>\n",
       "      <td>publication</td>\n",
       "      <td>\"A Pale Reflection of the Violent Truth? Pract...</td>\n",
       "      <td>[]</td>\n",
       "      <td>[{'actor': {'id': 3445, 'name': 'Seth Kotch', ...</td>\n",
       "      <td>[https://dh2017.adho.org/abstracts/365/365.pdf]</td>\n",
       "      <td>conf/dihu/KotchG17</td>\n",
       "    </tr>\n",
       "    <tr>\n",
       "      <th>280</th>\n",
       "      <td>23345</td>\n",
       "      <td>publication</td>\n",
       "      <td>\"A Trace of this Journey\" - Citations of Digit...</td>\n",
       "      <td>[]</td>\n",
       "      <td>[{'actor': {'id': 3098, 'name': 'Paul Matthew ...</td>\n",
       "      <td>[https://dh2017.adho.org/abstracts/070/070.pdf]</td>\n",
       "      <td>conf/dihu/Gooding17</td>\n",
       "    </tr>\n",
       "    <tr>\n",
       "      <th>217</th>\n",
       "      <td>22373</td>\n",
       "      <td>publication</td>\n",
       "      <td>\"A picture is worth a thousand words\"? - From ...</td>\n",
       "      <td>[]</td>\n",
       "      <td>[{'actor': {'id': 2540, 'name': 'Amelie Dorn',...</td>\n",
       "      <td>[http://ceur-ws.org/Vol-2717/paper06.pdf]</td>\n",
       "      <td>conf/dhn/AbgazDKD20</td>\n",
       "    </tr>\n",
       "    <tr>\n",
       "      <th>214</th>\n",
       "      <td>25164</td>\n",
       "      <td>publication</td>\n",
       "      <td>\"Any more Bids?\" - Automatic Processing and Se...</td>\n",
       "      <td>[]</td>\n",
       "      <td>[{'actor': {'id': 5800, 'name': 'Kris West', '...</td>\n",
       "      <td>[http://dh2010.cch.kcl.ac.uk/academic-programm...</td>\n",
       "      <td>conf/dihu/WestLB10</td>\n",
       "    </tr>\n",
       "  </tbody>\n",
       "</table>\n",
       "</div>"
      ],
      "text/plain": [
       "        id     category                                              label  \\\n",
       "140  24039  publication  \"A Model for International Cooperation - Emble...   \n",
       "215  23420  publication  \"A Pale Reflection of the Violent Truth? Pract...   \n",
       "280  23345  publication  \"A Trace of this Journey\" - Citations of Digit...   \n",
       "217  22373  publication  \"A picture is worth a thousand words\"? - From ...   \n",
       "214  25164  publication  \"Any more Bids?\" - Automatic Processing and Se...   \n",
       "\n",
       "    licenses                                       contributors  \\\n",
       "140       []  [{'actor': {'id': 4354, 'name': 'Mara R. Wade'...   \n",
       "215       []  [{'actor': {'id': 3445, 'name': 'Seth Kotch', ...   \n",
       "280       []  [{'actor': {'id': 3098, 'name': 'Paul Matthew ...   \n",
       "217       []  [{'actor': {'id': 2540, 'name': 'Amelie Dorn',...   \n",
       "214       []  [{'actor': {'id': 5800, 'name': 'Kris West', '...   \n",
       "\n",
       "                                          accessibleAt         sourceItemId  \n",
       "140              [http://dh2016.adho.org/abstracts/91]   conf/dihu/WadeHS16  \n",
       "215    [https://dh2017.adho.org/abstracts/365/365.pdf]   conf/dihu/KotchG17  \n",
       "280    [https://dh2017.adho.org/abstracts/070/070.pdf]  conf/dihu/Gooding17  \n",
       "217          [http://ceur-ws.org/Vol-2717/paper06.pdf]  conf/dhn/AbgazDKD20  \n",
       "214  [http://dh2010.cch.kcl.ac.uk/academic-programm...   conf/dihu/WestLB10  "
      ]
     },
     "execution_count": 15,
     "metadata": {},
     "output_type": "execute_result"
    }
   ],
   "source": [
    "df_publication_flat = pd.json_normalize(df_publication_all['publications'])\n",
    "#df_publication_flat.info()\n",
    "df_publication_work=df_publication_flat[['id', 'category', 'label', 'licenses', 'contributors', 'accessibleAt', 'sourceItemId']]\n",
    "df_publication_work.sort_values('label').head()"
   ]
  },
  {
   "cell_type": "markdown",
   "metadata": {},
   "source": [
    "#### Individuate duplicates based on values of property *label*"
   ]
  },
  {
   "cell_type": "code",
   "execution_count": 16,
   "metadata": {},
   "outputs": [
    {
     "data": {
      "text/html": [
       "<div>\n",
       "<style scoped>\n",
       "    .dataframe tbody tr th:only-of-type {\n",
       "        vertical-align: middle;\n",
       "    }\n",
       "\n",
       "    .dataframe tbody tr th {\n",
       "        vertical-align: top;\n",
       "    }\n",
       "\n",
       "    .dataframe thead th {\n",
       "        text-align: right;\n",
       "    }\n",
       "</style>\n",
       "<table border=\"1\" class=\"dataframe\">\n",
       "  <thead>\n",
       "    <tr style=\"text-align: right;\">\n",
       "      <th></th>\n",
       "      <th>id</th>\n",
       "      <th>label</th>\n",
       "      <th>accessibleAt</th>\n",
       "    </tr>\n",
       "  </thead>\n",
       "  <tbody>\n",
       "    <tr>\n",
       "      <th>93</th>\n",
       "      <td>24079</td>\n",
       "      <td>A Digital Metaphor Map for English</td>\n",
       "      <td>[http://dharchive.org/paper/DH2014/Paper-822.xml]</td>\n",
       "    </tr>\n",
       "    <tr>\n",
       "      <th>94</th>\n",
       "      <td>24074</td>\n",
       "      <td>A Digital Metaphor Map for English</td>\n",
       "      <td>[http://dharchive.org/paper/DH2014/Paper-448.xml]</td>\n",
       "    </tr>\n",
       "    <tr>\n",
       "      <th>1620</th>\n",
       "      <td>24354</td>\n",
       "      <td>Marked E-Books and Kindle's popular highlight ...</td>\n",
       "      <td>[http://dharchive.org/paper/DH2014/Poster-836....</td>\n",
       "    </tr>\n",
       "    <tr>\n",
       "      <th>1621</th>\n",
       "      <td>24353</td>\n",
       "      <td>Marked E-Books and Kindle's popular highlight ...</td>\n",
       "      <td>[http://dharchive.org/paper/DH2014/Paper-836.xml]</td>\n",
       "    </tr>\n",
       "  </tbody>\n",
       "</table>\n",
       "</div>"
      ],
      "text/plain": [
       "         id                                              label  \\\n",
       "93    24079                 A Digital Metaphor Map for English   \n",
       "94    24074                 A Digital Metaphor Map for English   \n",
       "1620  24354  Marked E-Books and Kindle's popular highlight ...   \n",
       "1621  24353  Marked E-Books and Kindle's popular highlight ...   \n",
       "\n",
       "                                           accessibleAt  \n",
       "93    [http://dharchive.org/paper/DH2014/Paper-822.xml]  \n",
       "94    [http://dharchive.org/paper/DH2014/Paper-448.xml]  \n",
       "1620  [http://dharchive.org/paper/DH2014/Poster-836....  \n",
       "1621  [http://dharchive.org/paper/DH2014/Paper-836.xml]  "
      ]
     },
     "execution_count": 16,
     "metadata": {},
     "output_type": "execute_result"
    }
   ],
   "source": [
    "df_publication_work_duplicates=df_publication_work[df_publication_work.duplicated('label', keep=False)].sort_values('label')\n",
    "df_publication_work_duplicates[['id', 'label', 'accessibleAt']].sort_values('label').head(6)"
   ]
  },
  {
   "cell_type": "code",
   "execution_count": 18,
   "metadata": {},
   "outputs": [
    {
     "name": "stdout",
     "output_type": "stream",
     "text": [
      "\n",
      "There are 4 duplicated publications descriptions\n",
      "\n"
     ]
    }
   ],
   "source": [
    "df_publication_work_duplicates.sort_values('label').to_csv(path_or_buf='duplicatedpublications.csv')\n",
    "df_publication_work_duplicates_av=df_publication_work[df_publication_work.duplicated('label', keep=\"last\")].sort_values('label')\n",
    "#av=df_tool_work_duplicates_av.count()[0]\n",
    "pv=df_publication_work_duplicates.count()[0]\n",
    "print (f'\\nThere are {pv} duplicated publications descriptions\\n')"
   ]
  },
  {
   "cell_type": "markdown",
   "metadata": {},
   "source": [
    "### Find duplicates on Training Materials\n",
    "The MarketPlace API are used to download the descriptions of Training Materials"
   ]
  },
  {
   "cell_type": "code",
   "execution_count": 19,
   "metadata": {},
   "outputs": [
    {
     "data": {
      "text/plain": [
       "RangeIndex(start=0, stop=140, step=1)"
      ]
     },
     "execution_count": 19,
     "metadata": {},
     "output_type": "execute_result"
    }
   ],
   "source": [
    "df_tm_all = pd.DataFrame()\n",
    "df_tm_all =getMPDescriptions (\"https://sshoc-marketplace-api.acdh-dev.oeaw.ac.at/api/training-materials?page=\", 8)\n",
    "df_tm_all.index"
   ]
  },
  {
   "cell_type": "markdown",
   "metadata": {},
   "source": [
    "#### A quick look at data\n",
    "The table below shows information about few, randomly chosen, descriptions.  \n",
    "Only a subset of values are shown, in particular: *id, category, label, licenses, contributors, accessibleAt, sourceItemId*.  "
   ]
  },
  {
   "cell_type": "code",
   "execution_count": 20,
   "metadata": {},
   "outputs": [
    {
     "data": {
      "text/html": [
       "<div>\n",
       "<style scoped>\n",
       "    .dataframe tbody tr th:only-of-type {\n",
       "        vertical-align: middle;\n",
       "    }\n",
       "\n",
       "    .dataframe tbody tr th {\n",
       "        vertical-align: top;\n",
       "    }\n",
       "\n",
       "    .dataframe thead th {\n",
       "        text-align: right;\n",
       "    }\n",
       "</style>\n",
       "<table border=\"1\" class=\"dataframe\">\n",
       "  <thead>\n",
       "    <tr style=\"text-align: right;\">\n",
       "      <th></th>\n",
       "      <th>id</th>\n",
       "      <th>category</th>\n",
       "      <th>label</th>\n",
       "      <th>licenses</th>\n",
       "      <th>contributors</th>\n",
       "      <th>accessibleAt</th>\n",
       "      <th>sourceItemId</th>\n",
       "    </tr>\n",
       "  </thead>\n",
       "  <tbody>\n",
       "    <tr>\n",
       "      <th>0</th>\n",
       "      <td>27999</td>\n",
       "      <td>training-material</td>\n",
       "      <td>2.1 Error rates and ground truth - Text Digiti...</td>\n",
       "      <td>[]</td>\n",
       "      <td>[]</td>\n",
       "      <td>[https://sites.google.com/site/textdigitisatio...</td>\n",
       "      <td>TNK9BG7F</td>\n",
       "    </tr>\n",
       "    <tr>\n",
       "      <th>1</th>\n",
       "      <td>11515</td>\n",
       "      <td>training-material</td>\n",
       "      <td>3DHOP - How To</td>\n",
       "      <td>[]</td>\n",
       "      <td>[]</td>\n",
       "      <td>[http://vcg.isti.cnr.it/3dhop/howto.php]</td>\n",
       "      <td>7R4HUMWW</td>\n",
       "    </tr>\n",
       "    <tr>\n",
       "      <th>2</th>\n",
       "      <td>28434</td>\n",
       "      <td>training-material</td>\n",
       "      <td>3ds Max Tutorials: Introduction</td>\n",
       "      <td>[]</td>\n",
       "      <td>[]</td>\n",
       "      <td>[http://docs.autodesk.com/3DSMAX/16/ENU/3ds-Ma...</td>\n",
       "      <td>CNRNDTHT</td>\n",
       "    </tr>\n",
       "    <tr>\n",
       "      <th>3</th>\n",
       "      <td>28014</td>\n",
       "      <td>training-material</td>\n",
       "      <td>8 Transcriptions of Speech - The TEI Guidelines</td>\n",
       "      <td>[]</td>\n",
       "      <td>[]</td>\n",
       "      <td>[http://www.tei-c.org/release/doc/tei-p5-doc/f...</td>\n",
       "      <td>MGAJZAUQ</td>\n",
       "    </tr>\n",
       "    <tr>\n",
       "      <th>4</th>\n",
       "      <td>28515</td>\n",
       "      <td>training-material</td>\n",
       "      <td>Agisoft PhotoScan. Tutorials, beginner level</td>\n",
       "      <td>[]</td>\n",
       "      <td>[]</td>\n",
       "      <td>[http://www.agisoft.com]</td>\n",
       "      <td>F4ZNGB66</td>\n",
       "    </tr>\n",
       "  </tbody>\n",
       "</table>\n",
       "</div>"
      ],
      "text/plain": [
       "      id           category  \\\n",
       "0  27999  training-material   \n",
       "1  11515  training-material   \n",
       "2  28434  training-material   \n",
       "3  28014  training-material   \n",
       "4  28515  training-material   \n",
       "\n",
       "                                               label licenses contributors  \\\n",
       "0  2.1 Error rates and ground truth - Text Digiti...       []           []   \n",
       "1                                     3DHOP - How To       []           []   \n",
       "2                    3ds Max Tutorials: Introduction       []           []   \n",
       "3    8 Transcriptions of Speech - The TEI Guidelines       []           []   \n",
       "4       Agisoft PhotoScan. Tutorials, beginner level       []           []   \n",
       "\n",
       "                                        accessibleAt sourceItemId  \n",
       "0  [https://sites.google.com/site/textdigitisatio...     TNK9BG7F  \n",
       "1           [http://vcg.isti.cnr.it/3dhop/howto.php]     7R4HUMWW  \n",
       "2  [http://docs.autodesk.com/3DSMAX/16/ENU/3ds-Ma...     CNRNDTHT  \n",
       "3  [http://www.tei-c.org/release/doc/tei-p5-doc/f...     MGAJZAUQ  \n",
       "4                           [http://www.agisoft.com]     F4ZNGB66  "
      ]
     },
     "execution_count": 20,
     "metadata": {},
     "output_type": "execute_result"
    }
   ],
   "source": [
    "df_tm_flat = pd.json_normalize(df_tm_all['trainingMaterials'])\n",
    "#df_publication_flat.info()\n",
    "df_tm_work=df_tm_flat[['id', 'category', 'label', 'licenses', 'contributors', 'accessibleAt', 'sourceItemId']]\n",
    "df_tm_work.head()"
   ]
  },
  {
   "cell_type": "markdown",
   "metadata": {},
   "source": [
    "#### Individuate duplicates based on values of property *label*"
   ]
  },
  {
   "cell_type": "code",
   "execution_count": 22,
   "metadata": {},
   "outputs": [
    {
     "data": {
      "text/html": [
       "<div>\n",
       "<style scoped>\n",
       "    .dataframe tbody tr th:only-of-type {\n",
       "        vertical-align: middle;\n",
       "    }\n",
       "\n",
       "    .dataframe tbody tr th {\n",
       "        vertical-align: top;\n",
       "    }\n",
       "\n",
       "    .dataframe thead th {\n",
       "        text-align: right;\n",
       "    }\n",
       "</style>\n",
       "<table border=\"1\" class=\"dataframe\">\n",
       "  <thead>\n",
       "    <tr style=\"text-align: right;\">\n",
       "      <th></th>\n",
       "      <th>id</th>\n",
       "      <th>label</th>\n",
       "      <th>accessibleAt</th>\n",
       "    </tr>\n",
       "  </thead>\n",
       "  <tbody>\n",
       "    <tr>\n",
       "      <th>25</th>\n",
       "      <td>28518</td>\n",
       "      <td>ContextCapture tutorials</td>\n",
       "      <td>[https://www.acute3d.com/tutorials/]</td>\n",
       "    </tr>\n",
       "    <tr>\n",
       "      <th>26</th>\n",
       "      <td>28521</td>\n",
       "      <td>ContextCapture tutorials</td>\n",
       "      <td>[https://www.acute3d.com/tutorials/]</td>\n",
       "    </tr>\n",
       "  </tbody>\n",
       "</table>\n",
       "</div>"
      ],
      "text/plain": [
       "       id                     label                          accessibleAt\n",
       "25  28518  ContextCapture tutorials  [https://www.acute3d.com/tutorials/]\n",
       "26  28521  ContextCapture tutorials  [https://www.acute3d.com/tutorials/]"
      ]
     },
     "execution_count": 22,
     "metadata": {},
     "output_type": "execute_result"
    }
   ],
   "source": [
    "df_tm_work_duplicates=df_tm_work[df_tm_work.duplicated('label', keep=False)].sort_values('label')\n",
    "df_tm_work_duplicates[['id', 'label', 'accessibleAt']].sort_values('label').head(6)"
   ]
  },
  {
   "cell_type": "code",
   "execution_count": 23,
   "metadata": {},
   "outputs": [
    {
     "name": "stdout",
     "output_type": "stream",
     "text": [
      "\n",
      "There are 2 duplicated training materials descriptions\n",
      "\n"
     ]
    }
   ],
   "source": [
    "df_tm_work_duplicates.sort_values('label').to_csv(path_or_buf='duplicatedtrainingmaterials.csv')\n",
    "df_tm_work_duplicates_av=df_tm_work[df_tm_work.duplicated('label', keep=\"last\")].sort_values('label')\n",
    "tmv=df_tm_work_duplicates.count()[0]\n",
    "print (f'\\nThere are {tmv} duplicated training materials descriptions\\n')"
   ]
  },
  {
   "cell_type": "code",
   "execution_count": null,
   "metadata": {},
   "outputs": [],
   "source": []
  }
 ],
 "metadata": {
  "kernelspec": {
   "display_name": "Python 3",
   "language": "python",
   "name": "python3"
  },
  "language_info": {
   "codemirror_mode": {
    "name": "ipython",
    "version": 3
   },
   "file_extension": ".py",
   "mimetype": "text/x-python",
   "name": "python",
   "nbconvert_exporter": "python",
   "pygments_lexer": "ipython3",
   "version": "3.7.7"
  }
 },
 "nbformat": 4,
 "nbformat_minor": 4
}
