{
 "cells": [
  {
   "cell_type": "markdown",
   "metadata": {},
   "source": [
    "## Draft: exploring *accessibleAt* property for Publications in the MarketPlace Dataset \n",
    "\n",
    "This notebook discovers wrong URL values (if any) in the *accessibleAt* property for Publications. \n",
    "\n"
   ]
  },
  {
   "cell_type": "markdown",
   "metadata": {},
   "source": [
    "#### External libraries and function to download descriptions from the MarketPlace dataset using the API\n",
    "The following two cells are used to import the external libraries used in this Notebook and to define a function; in the final release of this Notebook this function will be (possibly) optimized and provided as an external library."
   ]
  },
  {
   "cell_type": "code",
   "execution_count": 2,
   "metadata": {},
   "outputs": [],
   "source": [
    "import numpy as np\n",
    "import pandas as pd\n",
    "import matplotlib.pyplot as plt"
   ]
  },
  {
   "cell_type": "code",
   "execution_count": 3,
   "metadata": {},
   "outputs": [],
   "source": [
    "def getMPDescriptions (url, pages):\n",
    "    mdx = pd.Series(range(1, pages+1))\n",
    "    df_desc = pd.DataFrame()\n",
    "    for var in mdx:\n",
    "        turl = url+str(var)+\"&perpage=20\"\n",
    "        df_desc_par=pd.read_json(turl, orient='columns')\n",
    "        df_desc=df_desc.append(df_desc_par, ignore_index=True)\n",
    "        \n",
    "    return (df_desc)"
   ]
  },
  {
   "cell_type": "markdown",
   "metadata": {},
   "source": [
    "### 1 - Get the the descriptions of Publications\n",
    "The MarketPlace API are used to download the descriptions of Publications"
   ]
  },
  {
   "cell_type": "code",
   "execution_count": 4,
   "metadata": {},
   "outputs": [
    {
     "data": {
      "text/plain": [
       "RangeIndex(start=0, stop=2986, step=1)"
      ]
     },
     "execution_count": 4,
     "metadata": {},
     "output_type": "execute_result"
    }
   ],
   "source": [
    "df_tool_all = pd.DataFrame()\n",
    "df_tool_all =getMPDescriptions (\"https://sshoc-marketplace-api.acdh-dev.oeaw.ac.at/api/publications?page=\", 151)\n",
    "df_tool_all.index"
   ]
  },
  {
   "cell_type": "markdown",
   "metadata": {},
   "source": [
    "#### A quick look at data\n",
    "The table below shows information about few, randomly chosen, descriptions.  \n",
    "Only a subset of values are shown, in particular: *id, category, label, licenses, contributors, accessibleAt, sourceItemId*.  "
   ]
  },
  {
   "cell_type": "code",
   "execution_count": 10,
   "metadata": {},
   "outputs": [
    {
     "data": {
      "text/html": [
       "<div>\n",
       "<style scoped>\n",
       "    .dataframe tbody tr th:only-of-type {\n",
       "        vertical-align: middle;\n",
       "    }\n",
       "\n",
       "    .dataframe tbody tr th {\n",
       "        vertical-align: top;\n",
       "    }\n",
       "\n",
       "    .dataframe thead th {\n",
       "        text-align: right;\n",
       "    }\n",
       "</style>\n",
       "<table border=\"1\" class=\"dataframe\">\n",
       "  <thead>\n",
       "    <tr style=\"text-align: right;\">\n",
       "      <th></th>\n",
       "      <th>id</th>\n",
       "      <th>category</th>\n",
       "      <th>label</th>\n",
       "      <th>licenses</th>\n",
       "      <th>contributors</th>\n",
       "      <th>accessibleAt</th>\n",
       "      <th>sourceItemId</th>\n",
       "    </tr>\n",
       "  </thead>\n",
       "  <tbody>\n",
       "    <tr>\n",
       "      <th>0</th>\n",
       "      <td>24071</td>\n",
       "      <td>publication</td>\n",
       "      <td>11th Annual International Conference of the Al...</td>\n",
       "      <td>[]</td>\n",
       "      <td>[{'actor': {'id': 692, 'name': 'Maciej Eder', ...</td>\n",
       "      <td>[http://dh2016.adho.org/abstracts/]</td>\n",
       "      <td>conf/dihu/2016</td>\n",
       "    </tr>\n",
       "    <tr>\n",
       "      <th>1</th>\n",
       "      <td>23626</td>\n",
       "      <td>publication</td>\n",
       "      <td>12th Annual International Conference of the Al...</td>\n",
       "      <td>[]</td>\n",
       "      <td>[{'actor': {'id': 1647, 'name': 'Rhian Lewis',...</td>\n",
       "      <td>[https://dh2017.adho.org/program/abstracts/]</td>\n",
       "      <td>conf/dihu/2017</td>\n",
       "    </tr>\n",
       "    <tr>\n",
       "      <th>2</th>\n",
       "      <td>23204</td>\n",
       "      <td>publication</td>\n",
       "      <td>13th Annual International Conference of the Al...</td>\n",
       "      <td>[]</td>\n",
       "      <td>[{'actor': {'id': 3084, 'name': 'Jonathan Giró...</td>\n",
       "      <td>[https://dh2018.adho.org/en/abstracts/]</td>\n",
       "      <td>conf/dihu/2018</td>\n",
       "    </tr>\n",
       "    <tr>\n",
       "      <th>3</th>\n",
       "      <td>23205</td>\n",
       "      <td>publication</td>\n",
       "      <td>15th Annual International Conference of the Al...</td>\n",
       "      <td>[]</td>\n",
       "      <td>[{'actor': {'id': 3085, 'name': 'Laura Estill'...</td>\n",
       "      <td>[https://dh2020.adho.org/abstracts/]</td>\n",
       "      <td>conf/dihu/2020</td>\n",
       "    </tr>\n",
       "    <tr>\n",
       "      <th>4</th>\n",
       "      <td>23218</td>\n",
       "      <td>publication</td>\n",
       "      <td>1947Partition On The Margins - The Untold Test...</td>\n",
       "      <td>[]</td>\n",
       "      <td>[{'actor': {'id': 2181, 'name': 'Nirmala Menon...</td>\n",
       "      <td>[https://dh2017.adho.org/abstracts/081/081.pdf]</td>\n",
       "      <td>conf/dihu/AroraM17</td>\n",
       "    </tr>\n",
       "  </tbody>\n",
       "</table>\n",
       "</div>"
      ],
      "text/plain": [
       "      id     category                                              label  \\\n",
       "0  24071  publication  11th Annual International Conference of the Al...   \n",
       "1  23626  publication  12th Annual International Conference of the Al...   \n",
       "2  23204  publication  13th Annual International Conference of the Al...   \n",
       "3  23205  publication  15th Annual International Conference of the Al...   \n",
       "4  23218  publication  1947Partition On The Margins - The Untold Test...   \n",
       "\n",
       "  licenses                                       contributors  \\\n",
       "0       []  [{'actor': {'id': 692, 'name': 'Maciej Eder', ...   \n",
       "1       []  [{'actor': {'id': 1647, 'name': 'Rhian Lewis',...   \n",
       "2       []  [{'actor': {'id': 3084, 'name': 'Jonathan Giró...   \n",
       "3       []  [{'actor': {'id': 3085, 'name': 'Laura Estill'...   \n",
       "4       []  [{'actor': {'id': 2181, 'name': 'Nirmala Menon...   \n",
       "\n",
       "                                      accessibleAt        sourceItemId  \n",
       "0              [http://dh2016.adho.org/abstracts/]      conf/dihu/2016  \n",
       "1     [https://dh2017.adho.org/program/abstracts/]      conf/dihu/2017  \n",
       "2          [https://dh2018.adho.org/en/abstracts/]      conf/dihu/2018  \n",
       "3             [https://dh2020.adho.org/abstracts/]      conf/dihu/2020  \n",
       "4  [https://dh2017.adho.org/abstracts/081/081.pdf]  conf/dihu/AroraM17  "
      ]
     },
     "execution_count": 10,
     "metadata": {},
     "output_type": "execute_result"
    }
   ],
   "source": [
    "df_publication_flat = pd.json_normalize(df_tool_all['publications'])\n",
    "#df_publication_flat.info()\n",
    "df_publication_work=df_tool_flat[['id', 'category', 'label', 'licenses', 'contributors', 'accessibleAt', 'sourceItemId']]\n",
    "df_publication_work.head()"
   ]
  },
  {
   "cell_type": "markdown",
   "metadata": {},
   "source": [
    "### 2 - Check values in *accessibleAT*\n",
    "A dataframe with three columns: *id, label, AccessibleAt* (see table below for example) is created."
   ]
  },
  {
   "cell_type": "code",
   "execution_count": 11,
   "metadata": {},
   "outputs": [
    {
     "data": {
      "text/html": [
       "<div>\n",
       "<style scoped>\n",
       "    .dataframe tbody tr th:only-of-type {\n",
       "        vertical-align: middle;\n",
       "    }\n",
       "\n",
       "    .dataframe tbody tr th {\n",
       "        vertical-align: top;\n",
       "    }\n",
       "\n",
       "    .dataframe thead th {\n",
       "        text-align: right;\n",
       "    }\n",
       "</style>\n",
       "<table border=\"1\" class=\"dataframe\">\n",
       "  <thead>\n",
       "    <tr style=\"text-align: right;\">\n",
       "      <th></th>\n",
       "      <th>id</th>\n",
       "      <th>label</th>\n",
       "      <th>accessibleAt</th>\n",
       "    </tr>\n",
       "  </thead>\n",
       "  <tbody>\n",
       "    <tr>\n",
       "      <th>1657</th>\n",
       "      <td>28380</td>\n",
       "      <td>Metamorfoze Preservation Imaging Guidelines</td>\n",
       "      <td>[https://www.metamorfoze.nl/sites/metamorfoze....</td>\n",
       "    </tr>\n",
       "    <tr>\n",
       "      <th>2741</th>\n",
       "      <td>28578</td>\n",
       "      <td>Trusted Digital Repositories: Attributes and R...</td>\n",
       "      <td>[https://www.oclc.org/content/dam/research/act...</td>\n",
       "    </tr>\n",
       "    <tr>\n",
       "      <th>9</th>\n",
       "      <td>11580</td>\n",
       "      <td>4 Default Text Structure - The TEI Guidelines</td>\n",
       "      <td>[https://www.tei-c.org/release/doc/tei-p5-doc/...</td>\n",
       "    </tr>\n",
       "    <tr>\n",
       "      <th>2462</th>\n",
       "      <td>11622</td>\n",
       "      <td>The Extensible Stylesheet Language Family (XSL)</td>\n",
       "      <td>[https://www.w3.org/Style/XSL/]</td>\n",
       "    </tr>\n",
       "    <tr>\n",
       "      <th>2622</th>\n",
       "      <td>27804</td>\n",
       "      <td>The Value of Open Data Sharing: A CODATA Repor...</td>\n",
       "      <td>[https://zenodo.org/record/33830#.WnmipoIiEdW]</td>\n",
       "    </tr>\n",
       "  </tbody>\n",
       "</table>\n",
       "</div>"
      ],
      "text/plain": [
       "         id                                              label  \\\n",
       "1657  28380        Metamorfoze Preservation Imaging Guidelines   \n",
       "2741  28578  Trusted Digital Repositories: Attributes and R...   \n",
       "9     11580      4 Default Text Structure - The TEI Guidelines   \n",
       "2462  11622    The Extensible Stylesheet Language Family (XSL)   \n",
       "2622  27804  The Value of Open Data Sharing: A CODATA Repor...   \n",
       "\n",
       "                                           accessibleAt  \n",
       "1657  [https://www.metamorfoze.nl/sites/metamorfoze....  \n",
       "2741  [https://www.oclc.org/content/dam/research/act...  \n",
       "9     [https://www.tei-c.org/release/doc/tei-p5-doc/...  \n",
       "2462                    [https://www.w3.org/Style/XSL/]  \n",
       "2622     [https://zenodo.org/record/33830#.WnmipoIiEdW]  "
      ]
     },
     "execution_count": 11,
     "metadata": {},
     "output_type": "execute_result"
    }
   ],
   "source": [
    "df_publication_work=df_publication_work[['id','label','accessibleAt']]\n",
    "df_publication_work.sort_values('accessibleAt').tail()"
   ]
  },
  {
   "cell_type": "markdown",
   "metadata": {},
   "source": [
    "#### Check if there are empty values in *accessibleAt*"
   ]
  },
  {
   "cell_type": "code",
   "execution_count": 15,
   "metadata": {},
   "outputs": [
    {
     "name": "stdout",
     "output_type": "stream",
     "text": [
      "\n",
      " There are 22 publications descriptions without corresponding accessibleAt URLs\n",
      "\n"
     ]
    }
   ],
   "source": [
    "df_publication_work_emptyurls=df_publication_work[df_publication_work['accessibleAt'].str.len()==0]\n",
    "emptyurldescriptionsn=df_publication_work_emptyurls.count()[0]\n",
    "print(f'\\n There are {emptyurldescriptionsn} publications descriptions without corresponding accessibleAt URLs\\n')"
   ]
  },
  {
   "cell_type": "markdown",
   "metadata": {},
   "source": [
    "#### Check the validity of URLs in the *accessibleAt* property using the HTTP Result Status\n",
    "The code below explicitly execute an http call for every URL, waits for the [Result Status Code](https://en.wikipedia.org/wiki/List_of_HTTP_status_codes)  of the call and then registers the code.  \n",
    "Depending on connections and server answer times it may take several minutes to process all URLs.  \n",
    "In the final release of this Notebook this code will be (possibly) optimized and provided as an external library."
   ]
  },
  {
   "cell_type": "code",
   "execution_count": 16,
   "metadata": {},
   "outputs": [],
   "source": [
    "df_publication_work=df_publication_work.explode('accessibleAt')"
   ]
  },
  {
   "cell_type": "code",
   "execution_count": 17,
   "metadata": {},
   "outputs": [],
   "source": [
    "df_publication_work_urls=df_publication_work[df_publication_work['accessibleAt'].str.len()>0]\n",
    "df_urls=df_publication_work_urls['accessibleAt'].values\n",
    "df_publication_work_aa_http_status = pd.DataFrame (columns = ['url','status'])\n",
    "import requests\n",
    "import re\n",
    "regex = re.compile(\n",
    "        r'^(?:http|ftp)s?://' # http:// or https://\n",
    "        r'(?:(?:[A-Z0-9](?:[A-Z0-9-]{0,61}[A-Z0-9])?\\.)+(?:[A-Z]{2,6}\\.?|[A-Z0-9-]{2,}\\.?)|' #domain...\n",
    "        r'localhost|' #localhost...\n",
    "        r'\\d{1,3}\\.\\d{1,3}\\.\\d{1,3}\\.\\d{1,3})' # ...or ip\n",
    "        r'(?::\\d+)?' # optional port\n",
    "        r'(?:/?|[/?]\\S+)$', re.IGNORECASE)\n",
    "for var in df_urls:\n",
    "    if ( var != \"\" and var!=None and re.match(regex, var)):\n",
    "        try:\n",
    "            r =requests.get(var,timeout=8)\n",
    "            df_publication_work_aa_http_status = df_publication_work_aa_http_status.append({'url': var, 'status': int(r.status_code)}, ignore_index=True)\n",
    "        except requests.exceptions.ConnectionError:\n",
    "          #  print(var)\n",
    "            df_publication_work_aa_http_status = df_publication_work_aa_http_status.append({'url': var, 'status': int(503)}, ignore_index=True)\n",
    "        except requests.exceptions.ConnectTimeout:\n",
    "          #  print(var)\n",
    "            df_publication_work_aa_http_status = df_publication_work_aa_http_status.append({'url': var, 'status': int(408)}, ignore_index=True)\n",
    "        except requests.exceptions.ReadTimeout:\n",
    "         #   print(var)\n",
    "            df_publication_work_aa_http_status = df_publication_work_aa_http_status.append({'url': var, 'status': int(408)}, ignore_index=True)\n",
    "        except requests.exceptions.RequestException:\n",
    "         #   print(var)\n",
    "            df_publication_work_aa_http_status = df_publication_work_aa_http_status.append({'url': var, 'status': int(500)}, ignore_index=True)\n",
    "        except TypeError:\n",
    "        #    print(var)\n",
    "            df_publication_work_aa_http_status = df_publication_work_aa_http_status.append({'url': var, 'status': int(400)}, ignore_index=True)\n",
    "    else:\n",
    "       # print(var ,0)\n",
    "        df_publication_work_aa_http_status = df_publication_work_aa_http_status.append({'url': var, 'status': int(400)}, ignore_index=True)\n",
    "#df_publication_work_aa_http_status.head()"
   ]
  },
  {
   "cell_type": "code",
   "execution_count": 18,
   "metadata": {},
   "outputs": [
    {
     "data": {
      "text/html": [
       "<div>\n",
       "<style scoped>\n",
       "    .dataframe tbody tr th:only-of-type {\n",
       "        vertical-align: middle;\n",
       "    }\n",
       "\n",
       "    .dataframe tbody tr th {\n",
       "        vertical-align: top;\n",
       "    }\n",
       "\n",
       "    .dataframe thead th {\n",
       "        text-align: right;\n",
       "    }\n",
       "</style>\n",
       "<table border=\"1\" class=\"dataframe\">\n",
       "  <thead>\n",
       "    <tr style=\"text-align: right;\">\n",
       "      <th></th>\n",
       "      <th>url</th>\n",
       "      <th>status</th>\n",
       "    </tr>\n",
       "  </thead>\n",
       "  <tbody>\n",
       "    <tr>\n",
       "      <th>0</th>\n",
       "      <td>http://dh2016.adho.org/abstracts/</td>\n",
       "      <td>200</td>\n",
       "    </tr>\n",
       "    <tr>\n",
       "      <th>1</th>\n",
       "      <td>https://dh2017.adho.org/program/abstracts/</td>\n",
       "      <td>404</td>\n",
       "    </tr>\n",
       "    <tr>\n",
       "      <th>2</th>\n",
       "      <td>https://dh2018.adho.org/en/abstracts/</td>\n",
       "      <td>200</td>\n",
       "    </tr>\n",
       "    <tr>\n",
       "      <th>3</th>\n",
       "      <td>https://dh2020.adho.org/abstracts/</td>\n",
       "      <td>200</td>\n",
       "    </tr>\n",
       "    <tr>\n",
       "      <th>4</th>\n",
       "      <td>https://dh2017.adho.org/abstracts/081/081.pdf</td>\n",
       "      <td>200</td>\n",
       "    </tr>\n",
       "  </tbody>\n",
       "</table>\n",
       "</div>"
      ],
      "text/plain": [
       "                                             url status\n",
       "0              http://dh2016.adho.org/abstracts/    200\n",
       "1     https://dh2017.adho.org/program/abstracts/    404\n",
       "2          https://dh2018.adho.org/en/abstracts/    200\n",
       "3             https://dh2020.adho.org/abstracts/    200\n",
       "4  https://dh2017.adho.org/abstracts/081/081.pdf    200"
      ]
     },
     "execution_count": 18,
     "metadata": {},
     "output_type": "execute_result"
    }
   ],
   "source": [
    "df_publication_work_aa_http_status.head()"
   ]
  },
  {
   "cell_type": "code",
   "execution_count": 20,
   "metadata": {},
   "outputs": [
    {
     "name": "stdout",
     "output_type": "stream",
     "text": [
      "Status  Frequency\n"
     ]
    },
    {
     "data": {
      "text/plain": [
       "200    2688\n",
       "404     219\n",
       "403      43\n",
       "503      11\n",
       "500       1\n",
       "408       1\n",
       "405       1\n",
       "Name: status, dtype: int64"
      ]
     },
     "execution_count": 20,
     "metadata": {},
     "output_type": "execute_result"
    }
   ],
   "source": [
    "df_http_status_sub=df_publication_work_aa_http_status[df_publication_work_aa_http_status['status'] != 1]\n",
    "df_db_st = df_http_status_sub['status'].value_counts()\n",
    "print('{:<8}Frequency'.format(\"Status\"))\n",
    "df_db_st.head(10)"
   ]
  },
  {
   "cell_type": "markdown",
   "metadata": {},
   "source": [
    "The first column in the table above shows the HTTP Status codes obtained when trying to connect on *accessibleAt* URLs, the second column the total number of URLs returning the status.\n",
    "Notice that while 404 means that the resource is not found, other status codes may indicate temporary problems.  \n",
    "The image below summarizes of the above result."
   ]
  },
  {
   "cell_type": "code",
   "execution_count": 21,
   "metadata": {},
   "outputs": [
    {
     "data": {
      "image/png": "[encoded data removed]",
      "text/plain": [
       "<Figure size 1080x432 with 1 Axes>"
      ]
     },
     "metadata": {
      "needs_background": "light"
     },
     "output_type": "display_data"
    }
   ],
   "source": [
    "fig, ax = plt.subplots()\n",
    "df_db_st.plot(kind='bar', figsize=(15,6), x='Status', y='Frequency',)\n",
    "plt.grid(alpha=0.6)\n",
    "ax.yaxis.set_label_text(\"\")\n",
    "ax.set_title(\"Number of Result Codes in AccessibleAt\", fontsize=15)\n",
    "ax.set_xlabel('Result Code', fontsize=14)\n",
    "ax.set_ylabel('Frequency', fontsize=14);\n",
    "plt.show()"
   ]
  },
  {
   "cell_type": "markdown",
   "metadata": {},
   "source": [
    "### 3 - Save results\n",
    "The list of possibly wrong URLs is saved in a Comma Separated Values (CSV) file having the following columns: *id, label, url, status*. The final release of this notebook will save this data in the curation dataset."
   ]
  },
  {
   "cell_type": "code",
   "execution_count": 24,
   "metadata": {},
   "outputs": [],
   "source": [
    "df_http_status_err=df_http_status_sub[df_http_status_sub['status'] != 200]\n",
    "df_list_of_publication_wrongaa=pd.merge(left=df_publication_work, right=df_http_status_err, left_on='accessibleAt', right_on='url')\n",
    "df_list_of_publication_wrongaa.head()\n",
    "df_list_of_publication_wrongaa[['id', 'label', 'url', 'status']].sort_values('id').to_csv(path_or_buf='publication_wrongurls.csv')"
   ]
  },
  {
   "cell_type": "code",
   "execution_count": null,
   "metadata": {},
   "outputs": [],
   "source": []
  }
 ],
 "metadata": {
  "kernelspec": {
   "display_name": "Python 3",
   "language": "python",
   "name": "python3"
  },
  "language_info": {
   "codemirror_mode": {
    "name": "ipython",
    "version": 3
   },
   "file_extension": ".py",
   "mimetype": "text/x-python",
   "name": "python",
   "nbconvert_exporter": "python",
   "pygments_lexer": "ipython3",
   "version": "3.7.7"
  }
 },
 "nbformat": 4,
 "nbformat_minor": 4
}
