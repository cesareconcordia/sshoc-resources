{
 "cells": [
  {
   "cell_type": "markdown",
   "metadata": {},
   "source": [
    "## Draft: exploring *accessibleAt* property for Tools and Services in the MarketPlace Dataset \n",
    "\n",
    "This notebook discovers wrong URL values (if any) in the *accessibleAt* property for Tools and Services. \n",
    "\n"
   ]
  },
  {
   "cell_type": "code",
   "execution_count": 22,
   "metadata": {},
   "outputs": [],
   "source": [
    "import numpy as np\n",
    "import pandas as pd\n",
    "import matplotlib.pyplot as plt"
   ]
  },
  {
   "cell_type": "markdown",
   "metadata": {},
   "source": [
    "### Function to download descriptions from the MarketPlace dataset using the API\n",
    "In the final release of this Notebook this function will be (possibly) optimized and provided as an external library."
   ]
  },
  {
   "cell_type": "code",
   "execution_count": 2,
   "metadata": {},
   "outputs": [],
   "source": [
    "def getMPDescriptions (url, pages):\n",
    "    mdx = pd.Series(range(1, pages+1))\n",
    "    df_desc = pd.DataFrame()\n",
    "    for var in mdx:\n",
    "        turl = url+str(var)+\"&perpage=20\"\n",
    "        df_desc_par=pd.read_json(turl, orient='columns')\n",
    "        df_desc=df_desc.append(df_desc_par, ignore_index=True)\n",
    "        \n",
    "    return (df_desc)"
   ]
  },
  {
   "cell_type": "markdown",
   "metadata": {},
   "source": [
    "### 1 - Get the the descriptions of Tools and Services"
   ]
  },
  {
   "cell_type": "code",
   "execution_count": 3,
   "metadata": {},
   "outputs": [
    {
     "data": {
      "text/plain": [
       "RangeIndex(start=0, stop=1606, step=1)"
      ]
     },
     "execution_count": 3,
     "metadata": {},
     "output_type": "execute_result"
    }
   ],
   "source": [
    "df_tool_all = pd.DataFrame()\n",
    "df_tool_all =getMPDescriptions (\"https://sshoc-marketplace-api.acdh-dev.oeaw.ac.at/api/tools-services?page=\", 81)\n",
    "df_tool_all.index"
   ]
  },
  {
   "cell_type": "markdown",
   "metadata": {},
   "source": [
    "#### A quick look at data\n",
    "The table below shows information about few, randomly chosen, descriptions.  \n",
    "Only a subset of values are shown, in particular: *id, category, label, licenses, contributors, accessibleAt, sourceItemId*.  "
   ]
  },
  {
   "cell_type": "code",
   "execution_count": 5,
   "metadata": {},
   "outputs": [
    {
     "data": {
      "text/html": [
       "<div>\n",
       "<style scoped>\n",
       "    .dataframe tbody tr th:only-of-type {\n",
       "        vertical-align: middle;\n",
       "    }\n",
       "\n",
       "    .dataframe tbody tr th {\n",
       "        vertical-align: top;\n",
       "    }\n",
       "\n",
       "    .dataframe thead th {\n",
       "        text-align: right;\n",
       "    }\n",
       "</style>\n",
       "<table border=\"1\" class=\"dataframe\">\n",
       "  <thead>\n",
       "    <tr style=\"text-align: right;\">\n",
       "      <th></th>\n",
       "      <th>id</th>\n",
       "      <th>category</th>\n",
       "      <th>label</th>\n",
       "      <th>licenses</th>\n",
       "      <th>contributors</th>\n",
       "      <th>accessibleAt</th>\n",
       "      <th>sourceItemId</th>\n",
       "    </tr>\n",
       "  </thead>\n",
       "  <tbody>\n",
       "    <tr>\n",
       "      <th>0</th>\n",
       "      <td>30509</td>\n",
       "      <td>tool-or-service</td>\n",
       "      <td>140kit</td>\n",
       "      <td>[]</td>\n",
       "      <td>[{'actor': {'id': 483, 'name': 'Ian Pearce, De...</td>\n",
       "      <td>[https://github.com/WebEcologyProject/140kit]</td>\n",
       "      <td>937</td>\n",
       "    </tr>\n",
       "    <tr>\n",
       "      <th>1</th>\n",
       "      <td>28542</td>\n",
       "      <td>tool-or-service</td>\n",
       "      <td>3DF Zephyr - photogrammetry software - 3d mode...</td>\n",
       "      <td>[]</td>\n",
       "      <td>[]</td>\n",
       "      <td>[https://www.3dflow.net/3df-zephyr-pro-3d-mode...</td>\n",
       "      <td>WQFP6XPS</td>\n",
       "    </tr>\n",
       "    <tr>\n",
       "      <th>2</th>\n",
       "      <td>11508</td>\n",
       "      <td>tool-or-service</td>\n",
       "      <td>3DHOP</td>\n",
       "      <td>[]</td>\n",
       "      <td>[]</td>\n",
       "      <td>[http://vcg.isti.cnr.it/3dhop/]</td>\n",
       "      <td>SG86ZG5J</td>\n",
       "    </tr>\n",
       "    <tr>\n",
       "      <th>3</th>\n",
       "      <td>11419</td>\n",
       "      <td>tool-or-service</td>\n",
       "      <td>3DHOP: 3D Heritage Online Presenter</td>\n",
       "      <td>[]</td>\n",
       "      <td>[]</td>\n",
       "      <td>[https://github.com/cnr-isti-vclab/3DHOP]</td>\n",
       "      <td>R379NADX</td>\n",
       "    </tr>\n",
       "    <tr>\n",
       "      <th>4</th>\n",
       "      <td>11507</td>\n",
       "      <td>tool-or-service</td>\n",
       "      <td>3DReshaper \\| 3DReshaper</td>\n",
       "      <td>[]</td>\n",
       "      <td>[]</td>\n",
       "      <td>[https://www.3dreshaper.com/en/]</td>\n",
       "      <td>PMES8DJW</td>\n",
       "    </tr>\n",
       "  </tbody>\n",
       "</table>\n",
       "</div>"
      ],
      "text/plain": [
       "      id         category                                              label  \\\n",
       "0  30509  tool-or-service                                             140kit   \n",
       "1  28542  tool-or-service  3DF Zephyr - photogrammetry software - 3d mode...   \n",
       "2  11508  tool-or-service                                              3DHOP   \n",
       "3  11419  tool-or-service                3DHOP: 3D Heritage Online Presenter   \n",
       "4  11507  tool-or-service                           3DReshaper \\| 3DReshaper   \n",
       "\n",
       "  licenses                                       contributors  \\\n",
       "0       []  [{'actor': {'id': 483, 'name': 'Ian Pearce, De...   \n",
       "1       []                                                 []   \n",
       "2       []                                                 []   \n",
       "3       []                                                 []   \n",
       "4       []                                                 []   \n",
       "\n",
       "                                        accessibleAt sourceItemId  \n",
       "0      [https://github.com/WebEcologyProject/140kit]          937  \n",
       "1  [https://www.3dflow.net/3df-zephyr-pro-3d-mode...     WQFP6XPS  \n",
       "2                    [http://vcg.isti.cnr.it/3dhop/]     SG86ZG5J  \n",
       "3          [https://github.com/cnr-isti-vclab/3DHOP]     R379NADX  \n",
       "4                   [https://www.3dreshaper.com/en/]     PMES8DJW  "
      ]
     },
     "execution_count": 5,
     "metadata": {},
     "output_type": "execute_result"
    }
   ],
   "source": [
    "df_tool_flat = pd.json_normalize(df_tool_all['tools'])\n",
    "df_tool_work=df_tool_flat[['id', 'category', 'label', 'licenses', 'contributors', 'accessibleAt', 'sourceItemId']]\n",
    "df_tool_work.head()"
   ]
  },
  {
   "cell_type": "markdown",
   "metadata": {},
   "source": [
    "### 2 - Check values in *AccessibleAT*\n",
    "To check URLs we first define a dataset with three columns: *id, label, AccessibleAt* (see table below for example)."
   ]
  },
  {
   "cell_type": "code",
   "execution_count": 7,
   "metadata": {},
   "outputs": [
    {
     "data": {
      "text/html": [
       "<div>\n",
       "<style scoped>\n",
       "    .dataframe tbody tr th:only-of-type {\n",
       "        vertical-align: middle;\n",
       "    }\n",
       "\n",
       "    .dataframe tbody tr th {\n",
       "        vertical-align: top;\n",
       "    }\n",
       "\n",
       "    .dataframe thead th {\n",
       "        text-align: right;\n",
       "    }\n",
       "</style>\n",
       "<table border=\"1\" class=\"dataframe\">\n",
       "  <thead>\n",
       "    <tr style=\"text-align: right;\">\n",
       "      <th></th>\n",
       "      <th>id</th>\n",
       "      <th>label</th>\n",
       "      <th>accessibleAt</th>\n",
       "    </tr>\n",
       "  </thead>\n",
       "  <tbody>\n",
       "    <tr>\n",
       "      <th>1574</th>\n",
       "      <td>29097</td>\n",
       "      <td>XGLab - X and Gamma Ray Electronics</td>\n",
       "      <td>[https://www.xglab.it/]</td>\n",
       "    </tr>\n",
       "    <tr>\n",
       "      <th>767</th>\n",
       "      <td>11359</td>\n",
       "      <td>Mesh Optimization Using MeshLab - 3dmotive</td>\n",
       "      <td>[https://www.youtube.com/watch?v=gWBm5XGRJOk]</td>\n",
       "    </tr>\n",
       "    <tr>\n",
       "      <th>1596</th>\n",
       "      <td>29546</td>\n",
       "      <td>ZeeMaps</td>\n",
       "      <td>[https://www.zeemaps.com/]</td>\n",
       "    </tr>\n",
       "    <tr>\n",
       "      <th>1598</th>\n",
       "      <td>29726</td>\n",
       "      <td>ZingChart</td>\n",
       "      <td>[https://www.zingchart.com/]</td>\n",
       "    </tr>\n",
       "    <tr>\n",
       "      <th>1599</th>\n",
       "      <td>29638</td>\n",
       "      <td>Zoho</td>\n",
       "      <td>[https://www.zoho.com/crm/?network=g&amp;device=c&amp;...</td>\n",
       "    </tr>\n",
       "  </tbody>\n",
       "</table>\n",
       "</div>"
      ],
      "text/plain": [
       "         id                                       label  \\\n",
       "1574  29097         XGLab - X and Gamma Ray Electronics   \n",
       "767   11359  Mesh Optimization Using MeshLab - 3dmotive   \n",
       "1596  29546                                     ZeeMaps   \n",
       "1598  29726                                   ZingChart   \n",
       "1599  29638                                        Zoho   \n",
       "\n",
       "                                           accessibleAt  \n",
       "1574                            [https://www.xglab.it/]  \n",
       "767       [https://www.youtube.com/watch?v=gWBm5XGRJOk]  \n",
       "1596                         [https://www.zeemaps.com/]  \n",
       "1598                       [https://www.zingchart.com/]  \n",
       "1599  [https://www.zoho.com/crm/?network=g&device=c&...  "
      ]
     },
     "execution_count": 7,
     "metadata": {},
     "output_type": "execute_result"
    }
   ],
   "source": [
    "df_temp_tool_work=df_tool_work[['id','label','accessibleAt']]\n",
    "df_temp_tool_work.sort_values('accessibleAt').tail()"
   ]
  },
  {
   "cell_type": "markdown",
   "metadata": {},
   "source": [
    "#### Check if there are empty values"
   ]
  },
  {
   "cell_type": "code",
   "execution_count": 11,
   "metadata": {},
   "outputs": [
    {
     "name": "stdout",
     "output_type": "stream",
     "text": [
      "\n",
      " There are 507 tools/services descriptions without corresponding accessibleAt URLs\n",
      "\n"
     ]
    }
   ],
   "source": [
    "df_tool_work_emptyurls=df_tool_work[df_tool_work['accessibleAt'].str.len()==0]\n",
    "emptyurldescriptionsn=df_tool_work_emptyurls.count()[0]\n",
    "print(f'\\n There are {emptyurldescriptionsn} tools/services descriptions without corresponding accessibleAt URLs\\n')"
   ]
  },
  {
   "cell_type": "markdown",
   "metadata": {},
   "source": [
    "#### Check the validity of URLs in the *AccessibleAt* property using the HTTP Result Status\n",
    "The code below explicitly execute an http call for every URL, waits for the [Result Status Code](https://en.wikipedia.org/wiki/List_of_HTTP_status_codes)  of the call and then registers the code.  \n",
    "Depending on connections and server answer times it may take several minutes to process all URLs.  \n",
    "In the final release of this Notebook this code will be (possibly) optimized and provided as an external library."
   ]
  },
  {
   "cell_type": "code",
   "execution_count": 43,
   "metadata": {},
   "outputs": [],
   "source": [
    "df_tool_work=df_tool_work.explode('accessibleAt')"
   ]
  },
  {
   "cell_type": "code",
   "execution_count": 52,
   "metadata": {},
   "outputs": [
    {
     "data": {
      "text/html": [
       "<div>\n",
       "<style scoped>\n",
       "    .dataframe tbody tr th:only-of-type {\n",
       "        vertical-align: middle;\n",
       "    }\n",
       "\n",
       "    .dataframe tbody tr th {\n",
       "        vertical-align: top;\n",
       "    }\n",
       "\n",
       "    .dataframe thead th {\n",
       "        text-align: right;\n",
       "    }\n",
       "</style>\n",
       "<table border=\"1\" class=\"dataframe\">\n",
       "  <thead>\n",
       "    <tr style=\"text-align: right;\">\n",
       "      <th></th>\n",
       "      <th>url</th>\n",
       "      <th>status</th>\n",
       "    </tr>\n",
       "  </thead>\n",
       "  <tbody>\n",
       "    <tr>\n",
       "      <th>0</th>\n",
       "      <td>https://github.com/WebEcologyProject/140kit</td>\n",
       "      <td>200</td>\n",
       "    </tr>\n",
       "    <tr>\n",
       "      <th>1</th>\n",
       "      <td>https://www.3dflow.net/3df-zephyr-pro-3d-model...</td>\n",
       "      <td>200</td>\n",
       "    </tr>\n",
       "    <tr>\n",
       "      <th>2</th>\n",
       "      <td>http://vcg.isti.cnr.it/3dhop/</td>\n",
       "      <td>200</td>\n",
       "    </tr>\n",
       "    <tr>\n",
       "      <th>3</th>\n",
       "      <td>https://github.com/cnr-isti-vclab/3DHOP</td>\n",
       "      <td>200</td>\n",
       "    </tr>\n",
       "    <tr>\n",
       "      <th>4</th>\n",
       "      <td>https://www.3dreshaper.com/en/</td>\n",
       "      <td>200</td>\n",
       "    </tr>\n",
       "  </tbody>\n",
       "</table>\n",
       "</div>"
      ],
      "text/plain": [
       "                                                 url status\n",
       "0        https://github.com/WebEcologyProject/140kit    200\n",
       "1  https://www.3dflow.net/3df-zephyr-pro-3d-model...    200\n",
       "2                      http://vcg.isti.cnr.it/3dhop/    200\n",
       "3            https://github.com/cnr-isti-vclab/3DHOP    200\n",
       "4                     https://www.3dreshaper.com/en/    200"
      ]
     },
     "execution_count": 52,
     "metadata": {},
     "output_type": "execute_result"
    }
   ],
   "source": [
    "df_tool_work_urls=df_tool_work[df_tool_work['accessibleAt'].str.len()>0]\n",
    "df_urls=df_tool_work_urls['accessibleAt'].values\n",
    "df_tool_work_aa_http_status = pd.DataFrame (columns = ['url','status'])\n",
    "import requests\n",
    "import re\n",
    "regex = re.compile(\n",
    "        r'^(?:http|ftp)s?://' # http:// or https://\n",
    "        r'(?:(?:[A-Z0-9](?:[A-Z0-9-]{0,61}[A-Z0-9])?\\.)+(?:[A-Z]{2,6}\\.?|[A-Z0-9-]{2,}\\.?)|' #domain...\n",
    "        r'localhost|' #localhost...\n",
    "        r'\\d{1,3}\\.\\d{1,3}\\.\\d{1,3}\\.\\d{1,3})' # ...or ip\n",
    "        r'(?::\\d+)?' # optional port\n",
    "        r'(?:/?|[/?]\\S+)$', re.IGNORECASE)\n",
    "for var in df_urls:\n",
    "    if ( var != \"\" and var!=None and re.match(regex, var)):\n",
    "        try:\n",
    "            r =requests.get(var,timeout=8)\n",
    "            df_tool_work_aa_http_status = df_tool_work_aa_http_status.append({'url': var, 'status': int(r.status_code)}, ignore_index=True)\n",
    "        except requests.exceptions.ConnectionError:\n",
    "          #  print(var)\n",
    "            df_tool_work_aa_http_status = df_tool_work_aa_http_status.append({'url': var, 'status': int(503)}, ignore_index=True)\n",
    "        except requests.exceptions.ConnectTimeout:\n",
    "          #  print(var)\n",
    "            df_tool_work_aa_http_status = df_tool_work_aa_http_status.append({'url': var, 'status': int(408)}, ignore_index=True)\n",
    "        except requests.exceptions.ReadTimeout:\n",
    "         #   print(var)\n",
    "            df_tool_work_aa_http_status = df_tool_work_aa_http_status.append({'url': var, 'status': int(408)}, ignore_index=True)\n",
    "        except requests.exceptions.RequestException:\n",
    "         #   print(var)\n",
    "            df_tool_work_aa_http_status = df_tool_work_aa_http_status.append({'url': var, 'status': int(500)}, ignore_index=True)\n",
    "        except TypeError:\n",
    "        #    print(var)\n",
    "            df_tool_work_aa_http_status = df_tool_work_aa_http_status.append({'url': var, 'status': int(400)}, ignore_index=True)\n",
    "    else:\n",
    "       # print(var ,0)\n",
    "        df_tool_work_aa_http_status = df_tool_work_aa_http_status.append({'url': var, 'status': int(400)}, ignore_index=True)\n",
    "df_tool_work_aa_http_status.head()"
   ]
  },
  {
   "cell_type": "code",
   "execution_count": 53,
   "metadata": {},
   "outputs": [
    {
     "name": "stdout",
     "output_type": "stream",
     "text": [
      "Status  Frequency\n"
     ]
    },
    {
     "data": {
      "text/plain": [
       "200    1088\n",
       "404     100\n",
       "503      37\n",
       "403      14\n",
       "406      10\n",
       "500       4\n",
       "408       4\n",
       "502       2\n",
       "420       2\n",
       "400       1\n",
       "Name: status, dtype: int64"
      ]
     },
     "execution_count": 53,
     "metadata": {},
     "output_type": "execute_result"
    }
   ],
   "source": [
    "df_http_status_sub=df_tool_work_aa_http_status[df_tool_work_aa_http_status['status'] != 1]\n",
    "df_db_st = df_http_status_sub['status'].value_counts()\n",
    "print('{:<8}Frequency'.format(\"Status\"))\n",
    "df_db_st.head(10)"
   ]
  },
  {
   "cell_type": "markdown",
   "metadata": {},
   "source": [
    "The first column in the table above shows the HTTP Status codes obtained when trying to connect on *accessibleAt* URLs, the second column the total number of URLs returning the status.\n",
    "Notice that while 404 means that the resource is not found, other status codes may indicate temporary problems.  \n",
    "The image below summarizes of the above result."
   ]
  },
  {
   "cell_type": "code",
   "execution_count": 54,
   "metadata": {},
   "outputs": [
    {
     "data": {
      "image/png": "[encoded data removed]",
      "text/plain": [
       "<Figure size 1080x432 with 1 Axes>"
      ]
     },
     "metadata": {
      "needs_background": "light"
     },
     "output_type": "display_data"
    }
   ],
   "source": [
    "fig, ax = plt.subplots()\n",
    "df_db_st.plot(kind='bar', figsize=(15,6), x='Status', y='Frequency',)\n",
    "plt.grid(alpha=0.6)\n",
    "ax.yaxis.set_label_text(\"\")\n",
    "ax.set_title(\"Number of Result Codes in AccessibleAt\", fontsize=15)\n",
    "ax.set_xlabel('Result Code', fontsize=14)\n",
    "ax.set_ylabel('Frequency', fontsize=14);\n",
    "plt.show()"
   ]
  },
  {
   "cell_type": "markdown",
   "metadata": {},
   "source": [
    "### 3 - Save results\n",
    "The list of possibly wrong url is saved in a Comma Separated Values (CSV) file having the following columns: *id, label, url, status*. The final release of the notebook will save this data in the curation dataset."
   ]
  },
  {
   "cell_type": "code",
   "execution_count": 55,
   "metadata": {},
   "outputs": [],
   "source": [
    "df_http_status_err=df_http_status_sub[df_http_status_sub['status'] != 200]\n",
    "df_list_of_tools_wrongaa=pd.merge(left=df_tool_work, right=df_http_status_err, left_on='accessibleAt', right_on='url')\n",
    "df_list_of_tools_wrongaa.head()\n",
    "df_list_of_tools_wrongaa[['id', 'label', 'url', 'status']].sort_values('id').to_csv(path_or_buf='ts_wrongurls.csv')"
   ]
  },
  {
   "cell_type": "code",
   "execution_count": null,
   "metadata": {},
   "outputs": [],
   "source": []
  }
 ],
 "metadata": {
  "kernelspec": {
   "display_name": "Python 3",
   "language": "python",
   "name": "python3"
  },
  "language_info": {
   "codemirror_mode": {
    "name": "ipython",
    "version": 3
   },
   "file_extension": ".py",
   "mimetype": "text/x-python",
   "name": "python",
   "nbconvert_exporter": "python",
   "pygments_lexer": "ipython3",
   "version": "3.7.7"
  }
 },
 "nbformat": 4,
 "nbformat_minor": 4
}
