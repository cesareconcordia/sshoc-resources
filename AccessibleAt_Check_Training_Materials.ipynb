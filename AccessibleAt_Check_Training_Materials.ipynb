{
 "cells": [
  {
   "cell_type": "markdown",
   "metadata": {},
   "source": [
    "## Draft: exploring *accessibleAt* property for Trainig Materials in the MarketPlace Dataset \n",
    "\n",
    "This notebook discovers wrong URL values (if any) in the *accessibleAt* property for Training Materials. \n",
    "\n"
   ]
  },
  {
   "cell_type": "markdown",
   "metadata": {},
   "source": [
    "#### External libraries and function to download descriptions from the MarketPlace dataset using the API\n",
    "The following two cells are used to import the external libraries used in this Notebook and to define a function; in the final release of this Notebook this function will be (possibly) optimized and provided as an external library."
   ]
  },
  {
   "cell_type": "code",
   "execution_count": 25,
   "metadata": {},
   "outputs": [],
   "source": [
    "import numpy as np\n",
    "import pandas as pd\n",
    "import matplotlib.pyplot as plt"
   ]
  },
  {
   "cell_type": "code",
   "execution_count": 26,
   "metadata": {},
   "outputs": [],
   "source": [
    "def getMPDescriptions (url, pages):\n",
    "    mdx = pd.Series(range(1, pages+1))\n",
    "    df_desc = pd.DataFrame()\n",
    "    for var in mdx:\n",
    "        turl = url+str(var)+\"&perpage=20\"\n",
    "        df_desc_par=pd.read_json(turl, orient='columns')\n",
    "        df_desc=df_desc.append(df_desc_par, ignore_index=True)\n",
    "        \n",
    "    return (df_desc)"
   ]
  },
  {
   "cell_type": "markdown",
   "metadata": {},
   "source": [
    "### 1 - Get the the descriptions\n",
    "The MarketPlace API are used to download the descriptions of Trainig Materials"
   ]
  },
  {
   "cell_type": "code",
   "execution_count": 27,
   "metadata": {},
   "outputs": [
    {
     "data": {
      "text/plain": [
       "RangeIndex(start=0, stop=140, step=1)"
      ]
     },
     "execution_count": 27,
     "metadata": {},
     "output_type": "execute_result"
    }
   ],
   "source": [
    "df_tm_all = pd.DataFrame()\n",
    "df_tm_all =getMPDescriptions (\"https://sshoc-marketplace-api.acdh-dev.oeaw.ac.at/api/training-materials?page=\", 8)\n",
    "df_tm_all.index"
   ]
  },
  {
   "cell_type": "markdown",
   "metadata": {},
   "source": [
    "#### A quick look at data\n",
    "The table below shows information about few, randomly chosen, descriptions.  \n",
    "Only a subset of values are shown, in particular: *id, category, label, licenses, contributors, accessibleAt, sourceItemId*.  "
   ]
  },
  {
   "cell_type": "code",
   "execution_count": 29,
   "metadata": {},
   "outputs": [
    {
     "data": {
      "text/html": [
       "<div>\n",
       "<style scoped>\n",
       "    .dataframe tbody tr th:only-of-type {\n",
       "        vertical-align: middle;\n",
       "    }\n",
       "\n",
       "    .dataframe tbody tr th {\n",
       "        vertical-align: top;\n",
       "    }\n",
       "\n",
       "    .dataframe thead th {\n",
       "        text-align: right;\n",
       "    }\n",
       "</style>\n",
       "<table border=\"1\" class=\"dataframe\">\n",
       "  <thead>\n",
       "    <tr style=\"text-align: right;\">\n",
       "      <th></th>\n",
       "      <th>id</th>\n",
       "      <th>category</th>\n",
       "      <th>label</th>\n",
       "      <th>licenses</th>\n",
       "      <th>contributors</th>\n",
       "      <th>accessibleAt</th>\n",
       "      <th>sourceItemId</th>\n",
       "    </tr>\n",
       "  </thead>\n",
       "  <tbody>\n",
       "    <tr>\n",
       "      <th>0</th>\n",
       "      <td>27999</td>\n",
       "      <td>training-material</td>\n",
       "      <td>2.1 Error rates and ground truth - Text Digiti...</td>\n",
       "      <td>[]</td>\n",
       "      <td>[]</td>\n",
       "      <td>[https://sites.google.com/site/textdigitisatio...</td>\n",
       "      <td>TNK9BG7F</td>\n",
       "    </tr>\n",
       "    <tr>\n",
       "      <th>1</th>\n",
       "      <td>11515</td>\n",
       "      <td>training-material</td>\n",
       "      <td>3DHOP - How To</td>\n",
       "      <td>[]</td>\n",
       "      <td>[]</td>\n",
       "      <td>[http://vcg.isti.cnr.it/3dhop/howto.php]</td>\n",
       "      <td>7R4HUMWW</td>\n",
       "    </tr>\n",
       "    <tr>\n",
       "      <th>2</th>\n",
       "      <td>28434</td>\n",
       "      <td>training-material</td>\n",
       "      <td>3ds Max Tutorials: Introduction</td>\n",
       "      <td>[]</td>\n",
       "      <td>[]</td>\n",
       "      <td>[http://docs.autodesk.com/3DSMAX/16/ENU/3ds-Ma...</td>\n",
       "      <td>CNRNDTHT</td>\n",
       "    </tr>\n",
       "    <tr>\n",
       "      <th>3</th>\n",
       "      <td>28014</td>\n",
       "      <td>training-material</td>\n",
       "      <td>8 Transcriptions of Speech - The TEI Guidelines</td>\n",
       "      <td>[]</td>\n",
       "      <td>[]</td>\n",
       "      <td>[http://www.tei-c.org/release/doc/tei-p5-doc/f...</td>\n",
       "      <td>MGAJZAUQ</td>\n",
       "    </tr>\n",
       "    <tr>\n",
       "      <th>4</th>\n",
       "      <td>28515</td>\n",
       "      <td>training-material</td>\n",
       "      <td>Agisoft PhotoScan. Tutorials, beginner level</td>\n",
       "      <td>[]</td>\n",
       "      <td>[]</td>\n",
       "      <td>[http://www.agisoft.com]</td>\n",
       "      <td>F4ZNGB66</td>\n",
       "    </tr>\n",
       "  </tbody>\n",
       "</table>\n",
       "</div>"
      ],
      "text/plain": [
       "      id           category  \\\n",
       "0  27999  training-material   \n",
       "1  11515  training-material   \n",
       "2  28434  training-material   \n",
       "3  28014  training-material   \n",
       "4  28515  training-material   \n",
       "\n",
       "                                               label licenses contributors  \\\n",
       "0  2.1 Error rates and ground truth - Text Digiti...       []           []   \n",
       "1                                     3DHOP - How To       []           []   \n",
       "2                    3ds Max Tutorials: Introduction       []           []   \n",
       "3    8 Transcriptions of Speech - The TEI Guidelines       []           []   \n",
       "4       Agisoft PhotoScan. Tutorials, beginner level       []           []   \n",
       "\n",
       "                                        accessibleAt sourceItemId  \n",
       "0  [https://sites.google.com/site/textdigitisatio...     TNK9BG7F  \n",
       "1           [http://vcg.isti.cnr.it/3dhop/howto.php]     7R4HUMWW  \n",
       "2  [http://docs.autodesk.com/3DSMAX/16/ENU/3ds-Ma...     CNRNDTHT  \n",
       "3  [http://www.tei-c.org/release/doc/tei-p5-doc/f...     MGAJZAUQ  \n",
       "4                           [http://www.agisoft.com]     F4ZNGB66  "
      ]
     },
     "execution_count": 29,
     "metadata": {},
     "output_type": "execute_result"
    }
   ],
   "source": [
    "df_tm_flat = pd.json_normalize(df_tm_all['trainingMaterials'])\n",
    "#df_publication_flat.info()\n",
    "df_tm_work=df_tm_flat[['id', 'category', 'label', 'licenses', 'contributors', 'accessibleAt', 'sourceItemId']]\n",
    "df_tm_work.head()"
   ]
  },
  {
   "cell_type": "markdown",
   "metadata": {},
   "source": [
    "### 2 - Check values in *accessibleAT*\n",
    "A dataframe with three columns: *id, label, AccessibleAt* (see table below for example) is created."
   ]
  },
  {
   "cell_type": "code",
   "execution_count": 54,
   "metadata": {},
   "outputs": [
    {
     "data": {
      "text/html": [
       "<div>\n",
       "<style scoped>\n",
       "    .dataframe tbody tr th:only-of-type {\n",
       "        vertical-align: middle;\n",
       "    }\n",
       "\n",
       "    .dataframe tbody tr th {\n",
       "        vertical-align: top;\n",
       "    }\n",
       "\n",
       "    .dataframe thead th {\n",
       "        text-align: right;\n",
       "    }\n",
       "</style>\n",
       "<table border=\"1\" class=\"dataframe\">\n",
       "  <thead>\n",
       "    <tr style=\"text-align: right;\">\n",
       "      <th></th>\n",
       "      <th>id</th>\n",
       "      <th>label</th>\n",
       "      <th>accessibleAt</th>\n",
       "    </tr>\n",
       "  </thead>\n",
       "  <tbody>\n",
       "    <tr>\n",
       "      <th>23</th>\n",
       "      <td>27969</td>\n",
       "      <td>CloudCompare - Tutorials Youtube</td>\n",
       "      <td>https://www.youtube.com/playlist?list=PLBNUxsU...</td>\n",
       "    </tr>\n",
       "    <tr>\n",
       "      <th>86</th>\n",
       "      <td>27948</td>\n",
       "      <td>MeshLab - Tutorials Youtube</td>\n",
       "      <td>https://www.youtube.com/user/MrPMeshLabTutorials</td>\n",
       "    </tr>\n",
       "    <tr>\n",
       "      <th>100</th>\n",
       "      <td>27906</td>\n",
       "      <td>Random Forests for Segmentation and Classifica...</td>\n",
       "      <td>https://www.youtube.com/watch?v=sKf7eaEQfzY</td>\n",
       "    </tr>\n",
       "    <tr>\n",
       "      <th>14</th>\n",
       "      <td>29145</td>\n",
       "      <td>Blender Intermediate UV Unwrapping Tutorial</td>\n",
       "      <td>https://www.youtube.com/watch?v=scPSP_U858k</td>\n",
       "    </tr>\n",
       "    <tr>\n",
       "      <th>8</th>\n",
       "      <td>28590</td>\n",
       "      <td>Anonymising Research Data</td>\n",
       "      <td>NaN</td>\n",
       "    </tr>\n",
       "  </tbody>\n",
       "</table>\n",
       "</div>"
      ],
      "text/plain": [
       "        id                                              label  \\\n",
       "23   27969                   CloudCompare - Tutorials Youtube   \n",
       "86   27948                        MeshLab - Tutorials Youtube   \n",
       "100  27906  Random Forests for Segmentation and Classifica...   \n",
       "14   29145        Blender Intermediate UV Unwrapping Tutorial   \n",
       "8    28590                          Anonymising Research Data   \n",
       "\n",
       "                                          accessibleAt  \n",
       "23   https://www.youtube.com/playlist?list=PLBNUxsU...  \n",
       "86    https://www.youtube.com/user/MrPMeshLabTutorials  \n",
       "100        https://www.youtube.com/watch?v=sKf7eaEQfzY  \n",
       "14         https://www.youtube.com/watch?v=scPSP_U858k  \n",
       "8                                                  NaN  "
      ]
     },
     "execution_count": 54,
     "metadata": {},
     "output_type": "execute_result"
    }
   ],
   "source": [
    "df_tm_work=df_tm_work[['id','label','accessibleAt']]\n",
    "df_tm_work.sort_values('accessibleAt').tail()"
   ]
  },
  {
   "cell_type": "markdown",
   "metadata": {},
   "source": [
    "#### Check if there are empty values in *accessibleAt*"
   ]
  },
  {
   "cell_type": "code",
   "execution_count": 80,
   "metadata": {},
   "outputs": [
    {
     "name": "stdout",
     "output_type": "stream",
     "text": [
      "\n",
      " There are 1 training materials descriptions without corresponding accessibleAt URLs\n",
      "\n"
     ]
    }
   ],
   "source": [
    "df_tm_work_emptyurls=df_tm_work[(df_tm_work['accessibleAt'].str.len()==0) | (df_tm_work['accessibleAt'].isnull())]\n",
    "emptyurldescriptionsn=df_tm_work_emptyurls.count()[0]\n",
    "print(f'\\n There are {emptyurldescriptionsn} training materials descriptions without corresponding accessibleAt URLs\\n')"
   ]
  },
  {
   "cell_type": "markdown",
   "metadata": {},
   "source": [
    "#### Check the validity of URLs in the *accessibleAt* property using the HTTP Result Status\n",
    "The code below explicitly execute an http call for every URL, waits for the [Result Status Code](https://en.wikipedia.org/wiki/List_of_HTTP_status_codes)  of the call and then registers the code.  \n",
    "Depending on connections and server answer times it may take several minutes to process all URLs.  \n",
    "In the final release of this Notebook this code will be (possibly) optimized and provided as an external library."
   ]
  },
  {
   "cell_type": "code",
   "execution_count": 68,
   "metadata": {},
   "outputs": [],
   "source": [
    "df_tm_work=df_tm_work.explode('accessibleAt')"
   ]
  },
  {
   "cell_type": "code",
   "execution_count": 48,
   "metadata": {},
   "outputs": [],
   "source": [
    "df_tm_work_urls=df_tm_work[df_tm_work['accessibleAt'].str.len()>0]\n",
    "df_urls=df_tm_work_urls['accessibleAt'].values\n",
    "df_tm_work_aa_http_status = pd.DataFrame (columns = ['url','status'])\n",
    "import requests\n",
    "import re\n",
    "regex = re.compile(\n",
    "        r'^(?:http|ftp)s?://' # http:// or https://\n",
    "        r'(?:(?:[A-Z0-9](?:[A-Z0-9-]{0,61}[A-Z0-9])?\\.)+(?:[A-Z]{2,6}\\.?|[A-Z0-9-]{2,}\\.?)|' #domain...\n",
    "        r'localhost|' #localhost...\n",
    "        r'\\d{1,3}\\.\\d{1,3}\\.\\d{1,3}\\.\\d{1,3})' # ...or ip\n",
    "        r'(?::\\d+)?' # optional port\n",
    "        r'(?:/?|[/?]\\S+)$', re.IGNORECASE)\n",
    "for var in df_urls:\n",
    "    if ( var != \"\" and var!=None and re.match(regex, var)):\n",
    "        try:\n",
    "            r =requests.get(var,timeout=8)\n",
    "            df_tm_work_aa_http_status = df_tm_work_aa_http_status.append({'url': var, 'status': int(r.status_code)}, ignore_index=True)\n",
    "        except requests.exceptions.ConnectionError:\n",
    "          #  print(var)\n",
    "            df_tm_work_aa_http_status = df_tm_work_aa_http_status.append({'url': var, 'status': int(503)}, ignore_index=True)\n",
    "        except requests.exceptions.ConnectTimeout:\n",
    "          #  print(var)\n",
    "            df_tm_work_aa_http_status = df_tm_work_aa_http_status.append({'url': var, 'status': int(408)}, ignore_index=True)\n",
    "        except requests.exceptions.ReadTimeout:\n",
    "         #   print(var)\n",
    "            df_tm_work_aa_http_status = df_tm_work_aa_http_status.append({'url': var, 'status': int(408)}, ignore_index=True)\n",
    "        except requests.exceptions.RequestException:\n",
    "         #   print(var)\n",
    "            df_tm_work_aa_http_status = df_tm_work_aa_http_status.append({'url': var, 'status': int(500)}, ignore_index=True)\n",
    "        except TypeError:\n",
    "        #    print(var)\n",
    "            df_tm_work_aa_http_status = df_tm_work_aa_http_status.append({'url': var, 'status': int(400)}, ignore_index=True)\n",
    "    else:\n",
    "       # print(var ,0)\n",
    "        df_tm_work_aa_http_status = df_tm_work_aa_http_status.append({'url': var, 'status': int(400)}, ignore_index=True)\n",
    "#df_publication_work_aa_http_status.head()"
   ]
  },
  {
   "cell_type": "code",
   "execution_count": 49,
   "metadata": {},
   "outputs": [
    {
     "data": {
      "text/plain": [
       "url       141\n",
       "status    141\n",
       "dtype: int64"
      ]
     },
     "execution_count": 49,
     "metadata": {},
     "output_type": "execute_result"
    }
   ],
   "source": [
    "df_tm_work_aa_http_status.count()"
   ]
  },
  {
   "cell_type": "code",
   "execution_count": 50,
   "metadata": {},
   "outputs": [
    {
     "name": "stdout",
     "output_type": "stream",
     "text": [
      "Status  Frequency\n"
     ]
    },
    {
     "data": {
      "text/plain": [
       "200    132\n",
       "404      5\n",
       "403      2\n",
       "503      1\n",
       "406      1\n",
       "Name: status, dtype: int64"
      ]
     },
     "execution_count": 50,
     "metadata": {},
     "output_type": "execute_result"
    }
   ],
   "source": [
    "df_http_status_sub=df_tm_work_aa_http_status[df_tm_work_aa_http_status['status'] != 1]\n",
    "df_db_st = df_http_status_sub['status'].value_counts()\n",
    "print('{:<8}Frequency'.format(\"Status\"))\n",
    "df_db_st.head(10)"
   ]
  },
  {
   "cell_type": "markdown",
   "metadata": {},
   "source": [
    "The first column in the table above shows the HTTP Status codes obtained when trying to connect on *accessibleAt* URLs, the second column the total number of URLs returning the status.\n",
    "Notice that while 404 means that the resource is not found, other status codes may indicate temporary problems.  \n",
    "The image below summarizes of the above result."
   ]
  },
  {
   "cell_type": "code",
   "execution_count": 51,
   "metadata": {},
   "outputs": [
    {
     "data": {
      "image/png": "[encoded data removed]",
      "text/plain": [
       "<Figure size 1080x432 with 1 Axes>"
      ]
     },
     "metadata": {
      "needs_background": "light"
     },
     "output_type": "display_data"
    }
   ],
   "source": [
    "fig, ax = plt.subplots()\n",
    "df_db_st.plot(kind='bar', figsize=(15,6), x='Status', y='Frequency',)\n",
    "plt.grid(alpha=0.6)\n",
    "ax.yaxis.set_label_text(\"\")\n",
    "ax.set_title(\"Number of Result Codes in AccessibleAt\", fontsize=15)\n",
    "ax.set_xlabel('Result Code', fontsize=14)\n",
    "ax.set_ylabel('Frequency', fontsize=14);\n",
    "plt.show()"
   ]
  },
  {
   "cell_type": "markdown",
   "metadata": {},
   "source": [
    "### 3 - Save results\n",
    "The list of possibly wrong URLs is saved in a Comma Separated Values (CSV) file having the following columns: *id, label, url, status*. The final release of this notebook will save this data in the curation dataset."
   ]
  },
  {
   "cell_type": "code",
   "execution_count": 52,
   "metadata": {},
   "outputs": [],
   "source": [
    "df_http_status_err=df_http_status_sub[df_http_status_sub['status'] != 200]\n",
    "df_list_of_tm_wrongaa=pd.merge(left=df_publication_work, right=df_http_status_err, left_on='accessibleAt', right_on='url')\n",
    "df_list_of_tm_wrongaa.head()\n",
    "df_list_of_tm_wrongaa[['id', 'label', 'url', 'status']].sort_values('id').to_csv(path_or_buf='trainingmaterials_wrongurls.csv')"
   ]
  },
  {
   "cell_type": "code",
   "execution_count": null,
   "metadata": {},
   "outputs": [],
   "source": []
  }
 ],
 "metadata": {
  "kernelspec": {
   "display_name": "Python 3",
   "language": "python",
   "name": "python3"
  },
  "language_info": {
   "codemirror_mode": {
    "name": "ipython",
    "version": 3
   },
   "file_extension": ".py",
   "mimetype": "text/x-python",
   "name": "python",
   "nbconvert_exporter": "python",
   "pygments_lexer": "ipython3",
   "version": "3.7.7"
  }
 },
 "nbformat": 4,
 "nbformat_minor": 4
}
